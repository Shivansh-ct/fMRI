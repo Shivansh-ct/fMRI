{
  "nbformat": 4,
  "nbformat_minor": 0,
  "metadata": {
    "colab": {
      "name": "ml_pipeline.ipynb",
      "provenance": [],
      "toc_visible": true
    },
    "kernelspec": {
      "name": "python3",
      "display_name": "Python 3"
    },
    "language_info": {
      "name": "python"
    },
    "accelerator": "TPU"
  },
  "cells": [
    {
      "cell_type": "markdown",
      "metadata": {
        "id": "dFxFE_UOyIrp"
      },
      "source": [
        "# Feature Extraction"
      ]
    },
    {
      "cell_type": "code",
      "metadata": {
        "id": "4FTdNR4a6P5c"
      },
      "source": [
        "pip install nilearn"
      ],
      "execution_count": null,
      "outputs": []
    },
    {
      "cell_type": "code",
      "metadata": {
        "id": "JOr7Cohz1DLO"
      },
      "source": [
        "from nilearn import datasets\n",
        "from nilearn import input_data"
      ],
      "execution_count": null,
      "outputs": []
    },
    {
      "cell_type": "code",
      "metadata": {
        "id": "eNjFmZN91DdU"
      },
      "source": [
        "#Getting 264 MNI Co-ordinates corresponding to 264 ROIs from Power et. al(2011)\n",
        "power = datasets.fetch_coords_power_2011()\n",
        "print('Power atlas comes with {0}.'.format(power.keys()))"
      ],
      "execution_count": null,
      "outputs": []
    },
    {
      "cell_type": "code",
      "metadata": {
        "id": "AZFzLVqS1Dfw"
      },
      "source": [
        "import numpy as np\n",
        "\n",
        "coords = np.vstack((power.rois['x'], power.rois['y'], power.rois['z'])).T\n",
        "\n",
        "print('Stacked power coordinates in array of shape {0}.'.format(coords.shape))"
      ],
      "execution_count": null,
      "outputs": []
    },
    {
      "cell_type": "code",
      "metadata": {
        "id": "B8nDIVcdfq8P"
      },
      "source": [
        "from sklearn import preprocessing, covariance\n",
        "myScaler = preprocessing.StandardScaler()"
      ],
      "execution_count": null,
      "outputs": []
    },
    {
      "cell_type": "code",
      "metadata": {
        "id": "37yVaPqR1Diy"
      },
      "source": [
        "#Calculating the Functional Connectivity Matrix for each bold file and stacking them together in \"data\" variable for further Machine Learning\n",
        "for i in range(1,10,1):\n",
        "  for j in range(1,11,1):\n",
        "    try:\n",
        "      if i==6 and j==8:\n",
        "        continue\n",
        "      path = \"s\"+str(i)+\"/ses\"+str(j)+\"_filtered_func_data.nii.gz\"\n",
        "\n",
        "      spheres_masker = input_data.NiftiSpheresMasker(seeds=coords, smoothing_fwhm=6, radius=10.,allow_overlap=True, detrend=True, standardize=True, low_pass=0.1, high_pass=0.01, t_r=2)\n",
        "      timeseries = np.array(spheres_masker.fit_transform(path), dtype=np.float64)\n",
        "      timeseries = myScaler.fit_transform(timeseries)\n",
        "      timeseries = covariance.empirical_covariance(timeseries)\n",
        "      timeseries = covariance.shrunk_covariance(timeseries, shrinkage=0.8)\n",
        "\n",
        "  #print('time series has {0} samples'.format(timeseries.shape[0]))\n",
        "      try:\n",
        "        from sklearn.covariance import GraphicalLassoCV\n",
        "      except ImportError:\n",
        "      # for Scitkit-Learn < v0.20.0\n",
        "        from sklearn.covariance import GraphLassoCV as GraphicalLassoCV\n",
        "\n",
        "      covariance_estimator = GraphicalLassoCV(cv=3, verbose=1)\n",
        "      covariance_estimator.fit(timeseries)\n",
        "      matrix = covariance_estimator.covariance_\n",
        "      np.save(\"sub_\"+str(i)+\"ses_\"+str(j)+\".npy\", matrix)\n",
        "      d=matrix[np.triu_indices(264, k = 1)]\n",
        "      d = d.reshape(1,34716)\n",
        "      d = np.concatenate((d,[[i]]),axis=1)\n",
        "      if i==1 and j==1:\n",
        "        data = d\n",
        "      else:\n",
        "        data = np.concatenate((data,d))\n",
        "    except:\n",
        "      continue\n",
        "\n",
        "#print('Covariance matrix has shape {0}.'.format(matrix.shape))\n",
        "np.save(\"data.npy\",data)\n"
      ],
      "execution_count": null,
      "outputs": []
    },
    {
      "cell_type": "code",
      "metadata": {
        "id": "H1GQZ2aPbqd5"
      },
      "source": [
        "#Making the last column LabelEncoded\n",
        "import numpy as np\n",
        "data = np.load(\"data.npy\")\n",
        "#For Midnight Scan Club Data below line is required, for HCP Data it is not\n",
        "data[:,data.shape[1]-1] = data[:,data.shape[1]-1]-1"
      ],
      "execution_count": null,
      "outputs": []
    },
    {
      "cell_type": "code",
      "metadata": {
        "id": "tqCeKacq3t3P"
      },
      "source": [
        "data[:,data.shape[1]-1]"
      ],
      "execution_count": null,
      "outputs": []
    },
    {
      "cell_type": "code",
      "metadata": {
        "id": "lcdFqh1z9Ual"
      },
      "source": [
        "#Separating the features and labels\n",
        "X = data[:,:-1]\n",
        "y = data[:, data.shape[1]-1]"
      ],
      "execution_count": null,
      "outputs": []
    },
    {
      "cell_type": "code",
      "metadata": {
        "id": "fT5xL9Oo63X0"
      },
      "source": [
        "X.shape"
      ],
      "execution_count": null,
      "outputs": []
    },
    {
      "cell_type": "code",
      "metadata": {
        "id": "8Rg5e-of4DxI"
      },
      "source": [
        "#Generating the Train and Test Set\n",
        "from sklearn.model_selection import train_test_split\n",
        "X_train, X_test, y_train, y_test = train_test_split(X, y, test_size = 0.3, random_state=None)"
      ],
      "execution_count": null,
      "outputs": []
    },
    {
      "cell_type": "code",
      "metadata": {
        "id": "tZzjFp7S_LzD"
      },
      "source": [
        "#Feature Scaling\n",
        "from sklearn.preprocessing import StandardScaler\n",
        "sc_X = StandardScaler()\n",
        "X_train = sc_X.fit_transform(X_train)\n",
        "X_test = sc_X.transform(X_test)"
      ],
      "execution_count": null,
      "outputs": []
    },
    {
      "cell_type": "markdown",
      "metadata": {
        "id": "TkioehYOHDYm"
      },
      "source": [
        "# ANOVA Feature Selection and Linear SVM Pipeline"
      ]
    },
    {
      "cell_type": "code",
      "metadata": {
        "id": "k7Hvvmly1DoT"
      },
      "source": [
        "from sklearn.feature_selection import SelectKBest, f_classif\n",
        "from sklearn.svm import LinearSVC\n",
        "from sklearn.pipeline import make_pipeline\n"
      ],
      "execution_count": null,
      "outputs": []
    },
    {
      "cell_type": "code",
      "metadata": {
        "id": "SaAXT9V8cgy9"
      },
      "source": [
        "#k=1600 for Midnight Scan Club and 5200 for HCP Data\n",
        "anova_filter = SelectKBest(f_classif, k=1600)\n",
        "clf = LinearSVC()\n",
        "anova_svm = make_pipeline(anova_filter, clf)\n",
        "anova_svm.fit(X_train, y_train)"
      ],
      "execution_count": null,
      "outputs": []
    },
    {
      "cell_type": "code",
      "metadata": {
        "id": "kQYPL7KAXmO7"
      },
      "source": [
        "#Saving the trained Model\n",
        "import pickle\n",
        "pickle.dump(anova_svm, open('anova_svm.sav', 'wb'))"
      ],
      "execution_count": null,
      "outputs": []
    },
    {
      "cell_type": "code",
      "metadata": {
        "id": "yBgNY_s9DAYA"
      },
      "source": [
        "#Printing the Metrics\n",
        "from sklearn.metrics import classification_report\n",
        "\n",
        "y_pred = anova_svm.predict(X_test)\n",
        "print(classification_report(y_test, y_pred))\n",
        "\n",
        "\n",
        "#Saving the metrics as csv file\n",
        "import pandas\n",
        "report = classification_report(y_test, y_pred, output_dict=True)\n",
        "df = pandas.DataFrame(report).transpose()\n",
        "df.to_csv('report.csv')"
      ],
      "execution_count": null,
      "outputs": []
    },
    {
      "cell_type": "code",
      "metadata": {
        "id": "1Y9qLlvk4thi"
      },
      "source": [
        "from sklearn.metrics import confusion_matrix\n",
        "print(confusion_matrix(y_test, y_pred))"
      ],
      "execution_count": null,
      "outputs": []
    },
    {
      "cell_type": "code",
      "metadata": {
        "id": "maNusve38YuL"
      },
      "source": [
        "#Drawing a graph for accuracy vs features\n",
        "from sklearn.feature_selection import SelectKBest, f_classif\n",
        "from sklearn.pipeline import make_pipeline\n",
        "from sklearn.svm import LinearSVC\n",
        "from sklearn.metrics import accuracy_score\n",
        "x=[]\n",
        "y=[]\n",
        "\n",
        "#Selecting top k features\n",
        "\n",
        "for i in range(100,34717,100):\n",
        "  x.append(i)\n",
        "  anova_filter = SelectKBest(f_classif, k=i)\n",
        "  clf = LinearSVC()\n",
        "  anova_svm_plt = make_pipeline(anova_filter, clf)\n",
        "  anova_svm_plt.fit(X_train, y_train)\n",
        "  y_pred = anova_svm_plt.predict(X_test)\n",
        "  y.append(accuracy_score(y_test, y_pred))\n",
        "  print(i)\n",
        "  np.save(\"x.npy\",np.array(x))\n",
        "  np.save(\"y.npy\", np.array(y))\n",
        "#Printing the Metrics\n",
        "#from sklearn.metrics import classification_report, accuracy_score\n",
        "#y_pred = anova_svm_plt.predict(X_test)\n",
        "#print(classification_report(y_test, y_pred))\n",
        "#print(\"Accuracy is: \", accuracy_score(y_test, y_pred))"
      ],
      "execution_count": null,
      "outputs": []
    },
    {
      "cell_type": "code",
      "metadata": {
        "colab": {
          "base_uri": "https://localhost:8080/",
          "height": 295
        },
        "id": "VXVh6DCyS9T1",
        "outputId": "be56086c-fb26-4591-b0a6-3ce8a7912fe6"
      },
      "source": [
        "import matplotlib.pyplot as plt\n",
        "plt.plot(x, y)\n",
        "plt.xlabel('Number of features(k)')\n",
        "plt.ylabel('Accuracy')\n",
        "plt.title('Accuracy as a function of best k features (of FC Matrix)')\n",
        "plt.savefig(\"output_100.jpg\")\n",
        "plt.show()\n",
        "#Below plot for Midnight Scan Club Data"
      ],
      "execution_count": null,
      "outputs": [
        {
          "output_type": "display_data",
          "data": {
            "image/png": "[encoded data removed]",
            "text/plain": [
              "<Figure size 432x288 with 1 Axes>"
            ]
          },
          "metadata": {
            "tags": [],
            "needs_background": "light"
          }
        }
      ]
    },
    {
      "cell_type": "markdown",
      "metadata": {
        "id": "LzzQg9U-AM5k"
      },
      "source": [
        "# Leave One Out Cross Validation"
      ]
    },
    {
      "cell_type": "code",
      "metadata": {
        "id": "9iuo1iUswu-K"
      },
      "source": [
        "import numpy as np\n",
        "data = np.load(\"data.npy\")"
      ],
      "execution_count": null,
      "outputs": []
    },
    {
      "cell_type": "code",
      "metadata": {
        "id": "XaKqmI3C8Y64"
      },
      "source": [
        "from numpy import mean\n",
        "from numpy import std\n",
        "from pandas import read_csv\n",
        "from sklearn.model_selection import LeaveOneOut\n",
        "from sklearn.model_selection import cross_val_score\n",
        "from sklearn.ensemble import RandomForestClassifier\n",
        "from sklearn.preprocessing import StandardScaler\n",
        "\n",
        "\n",
        "X, y = data[:, :-1], data[:, -1]\n",
        "#print(X.shape, y.shape)\n",
        "# create loocv procedure\n",
        "cv = LeaveOneOut()\n",
        "# create model\n",
        "#model = RandomForestClassifier(random_state=1)\n",
        "\n",
        "#ANOVA Feature Selection and Linear SVM Pipeline\n",
        "from sklearn.feature_selection import SelectKBest, f_classif\n",
        "from sklearn.pipeline import make_pipeline\n",
        "from sklearn.svm import LinearSVC\n",
        "\n",
        "\n",
        "anova_filter = SelectKBest(f_classif, k=1600)\n",
        "clf = LinearSVC()\n",
        "model = make_pipeline(StandardScaler(),anova_filter, clf)\n",
        "  #model.fit(X_train, y_train)\n",
        "# evaluate model\n",
        "scores = cross_val_score(model, X, y, scoring='accuracy', cv=cv, n_jobs=-1)\n",
        "# report performance\n",
        "print('Accuracy: %.3f (%.3f)' % (mean(scores), std(scores)))\n",
        "np.save(\"mean_scores_final_1600k.npy\",np.array(mean(scores)))\n",
        "np.save(\"std_scores_final_1600k.npy\",np.array(std(scores)))"
      ],
      "execution_count": null,
      "outputs": []
    },
    {
      "cell_type": "code",
      "metadata": {
        "colab": {
          "base_uri": "https://localhost:8080/"
        },
        "id": "g4S84B-1KuLb",
        "outputId": "738eca45-72d0-4942-8c09-b1945abf2dd6"
      },
      "source": [
        "#Calculating the index for best accuracy\n",
        "np.argmax(y)"
      ],
      "execution_count": null,
      "outputs": [
        {
          "output_type": "execute_result",
          "data": {
            "text/plain": [
              "15"
            ]
          },
          "metadata": {
            "tags": []
          },
          "execution_count": 27
        }
      ]
    },
    {
      "cell_type": "markdown",
      "metadata": {
        "id": "kJCQaZ0z1KPS"
      },
      "source": [
        "# Permutation Test"
      ]
    },
    {
      "cell_type": "code",
      "metadata": {
        "id": "PKF9MMQNwpSp"
      },
      "source": [
        "import numpy as np\n",
        "from sklearn.feature_selection import SelectKBest, f_classif\n",
        "from sklearn.pipeline import make_pipeline\n",
        "from sklearn.svm import LinearSVC\n",
        "from sklearn.preprocessing import StandardScaler\n",
        "from sklearn.model_selection import permutation_test_score, LeaveOneOut\n",
        "\n",
        "\n",
        "\n",
        "data = np.load(\"data.npy\")\n",
        "X, y = data[:, :-1], data[:, -1]\n",
        "\n",
        "f = [1735, 5200]\n",
        "for i in f:\n",
        " \n",
        "\n",
        " n_uncorrelated_features = i\n",
        " rng = np.random.RandomState(seed=0)\n",
        " # Use same number of samples as in iris and 2200 features\n",
        " X_rand = rng.normal(size=(X.shape[0], n_uncorrelated_features))\n",
        "\n",
        "\n",
        " cv = LeaveOneOut()\n",
        " \n",
        "\n",
        "\n",
        " anova_filter = SelectKBest(f_classif, k=i)\n",
        " clf = LinearSVC()\n",
        " model = make_pipeline(StandardScaler(),anova_filter, clf)\n",
        "\n",
        "\n",
        " score_iris, perm_scores_iris, pvalue_iris = permutation_test_score(model, X, y, scoring=\"accuracy\", cv=cv, n_permutations=1000)\n",
        "\n",
        " score_rand, perm_scores_rand, pvalue_rand = permutation_test_score(model, X_rand, y, scoring=\"accuracy\", cv=cv, n_permutations=1000)\n",
        "\n",
        " np.save(\"score_iris\"+str(i)+\".npy\",score_iris)\n",
        " np.save(\"perm_score_iris\"+str(i)+\".npy\",perm_score_iris)\n",
        " np.save(\"pvalue_iris\"+str(i)+\".npy\",pvalue_iris)\n",
        " np.save(\"score_rand\"+str(i)+\".npy\",score_rand)\n",
        " np.save(\"perm_scores_rand\"+str(i)+\".npy\",perm_scores_rand)\n",
        " np.save(\"pvalue_rand\"+str(i)+\".npy\",pvalue_rand)\n",
        "\n",
        "\n",
        "\n",
        " #Original Data\n",
        " import matplotlib.pyplot as plt\n",
        "\n",
        " fig, ax = plt.subplots()\n",
        "\n",
        " ax.hist(perm_scores_iris, bins=20, density=True)\n",
        " ax.axvline(score_iris, ls='--', color='r')\n",
        " score_label = (f\"Score on original\\ndata: {score_iris:.2f}\\n\"\n",
        "               f\"(p-value: {pvalue_iris:.3f})\")\n",
        " ax.text(0.7, 260, score_label, fontsize=12)\n",
        " ax.set_xlabel(\"Accuracy score\")\n",
        " _ = ax.set_ylabel(\"Probability\")\n",
        " plt.savefig(\"Permutation_Original_\"+str(i))\n",
        " plt.show()\n",
        "\n",
        "\n",
        "\n",
        " #Random Data\n",
        " fig, ax = plt.subplots()\n",
        "\n",
        " ax.hist(perm_scores_rand, bins=20, density=True)\n",
        " ax.set_xlim(0.13)\n",
        " ax.axvline(score_rand, ls='--', color='r')\n",
        " score_label = (f\"Score on original\\ndata: {score_rand:.2f}\\n\"\n",
        "               f\"(p-value: {pvalue_rand:.3f})\")\n",
        " ax.text(0.14, 125, score_label, fontsize=12)\n",
        " ax.set_xlabel(\"Accuracy score\")\n",
        " ax.set_ylabel(\"Probability\")\n",
        " plt.savefig(\"Permutation_Random\"+str(i))\n",
        " plt.show()\n",
        "\n",
        "\n",
        "\n"
      ],
      "execution_count": null,
      "outputs": []
    },
    {
      "cell_type": "markdown",
      "metadata": {
        "id": "XfHFRrWN1QwB"
      },
      "source": [
        "# ROC Curve"
      ]
    },
    {
      "cell_type": "code",
      "metadata": {
        "id": "4IMf-LQG2_IG"
      },
      "source": [
        "import numpy as np\n",
        "from sklearn.calibration import CalibratedClassifierCV\n",
        "import matplotlib.pyplot as plt\n",
        "from itertools import cycle\n",
        "from sklearn.feature_selection import SelectKBest, f_classif\n",
        "from sklearn import svm, datasets\n",
        "from sklearn.metrics import roc_curve, auc\n",
        "from sklearn.model_selection import train_test_split\n",
        "from sklearn.preprocessing import label_binarize\n",
        "from sklearn.multiclass import OneVsRestClassifier\n",
        "from scipy import interp\n",
        "from sklearn.metrics import roc_auc_score\n",
        "#ANOVA Feature Selection and Linear SVM Pipeline\n",
        "from sklearn.feature_selection import SelectKBest, f_classif\n",
        "from sklearn.pipeline import make_pipeline\n",
        "from sklearn.svm import LinearSVC"
      ],
      "execution_count": null,
      "outputs": []
    },
    {
      "cell_type": "code",
      "metadata": {
        "id": "mejXWsoZ4ObD"
      },
      "source": [
        "# Import some data to play with\n",
        "data = np.load(\"data.npy\")\n",
        "X, y = data[:, :-1], data[:, -1]\n",
        "\n"
      ],
      "execution_count": null,
      "outputs": []
    },
    {
      "cell_type": "code",
      "metadata": {
        "id": "n_bUcqIU4Odq"
      },
      "source": [
        "# Binarize the output\n",
        "n_classes = 50\n",
        "arr = np.arange(n_classes)\n",
        "#y = label_binarize(y, classes=arr)\n",
        "\n",
        "\"\"\"\n",
        "# Add noisy features to make the problem harder\n",
        "random_state = np.random.RandomState(0)\n",
        "n_samples, n_features = X.shape\n",
        "X = np.c_[X, random_state.randn(n_samples, 200 * n_features)]\n",
        "\"\"\"\n",
        "# shuffle and split training and test sets\n",
        "X_train, X_test, y_train, y_test = train_test_split(X, y, test_size=.3,\n",
        "                                                    random_state=None)\n",
        "#Feature Scaling\n",
        "from sklearn.preprocessing import StandardScaler\n",
        "sc_X = StandardScaler()\n",
        "X_train = sc_X.fit_transform(X_train)\n",
        "X_test = sc_X.transform(X_test)"
      ],
      "execution_count": null,
      "outputs": []
    },
    {
      "cell_type": "code",
      "metadata": {
        "id": "bSd8DHS64Ogb"
      },
      "source": [
        "\n",
        "# Learn to predict each class against the other\n",
        "anova_filter = SelectKBest(f_classif, k=1735)\n",
        "clf = LinearSVC()\n",
        "classifier = make_pipeline(anova_filter, clf)\n",
        "y_score = classifier.fit(X_train, y_train).decision_function(X_test)\n",
        "#classifier.fit(X_train, y_train)\n"
      ],
      "execution_count": null,
      "outputs": []
    },
    {
      "cell_type": "code",
      "metadata": {
        "id": "PQBxWHuQ4OjR"
      },
      "source": [
        "import pickle\n",
        "pickle.dump(classifier, open('classifier.sav', 'wb'))"
      ],
      "execution_count": null,
      "outputs": []
    },
    {
      "cell_type": "code",
      "metadata": {
        "id": "JOJ4qYDv4OmD"
      },
      "source": [
        "# Compute ROC curve and ROC area for each class\n",
        "\n",
        "cclf = CalibratedClassifierCV(base_estimator=make_pipeline(anova_filter, clf),method='sigmoid', cv=None)\n",
        "cclf.fit(X_train, y_train)\n",
        "import pickle\n",
        "pickle.dump(cclf, open('cclf.sav', 'wb'))\n",
        "y_train = label_binarize(y_train, classes=arr)\n",
        "y_test = label_binarize(y_test, classes=arr)\n",
        "fpr = dict()\n",
        "tpr = dict()\n",
        "roc_auc = dict()\n",
        "for i in range(n_classes):\n",
        "    fpr[i], tpr[i], _ = roc_curve(y_test[:, i], y_score[:, i])\n",
        "    roc_auc[i] = auc(fpr[i], tpr[i])\n",
        "\n",
        "# Compute micro-average ROC curve and ROC area\n",
        "fpr[\"micro\"], tpr[\"micro\"], _ = roc_curve(y_test.ravel(), y_score.ravel())\n",
        "roc_auc[\"micro\"] = auc(fpr[\"micro\"], tpr[\"micro\"])\n",
        "\n",
        "\n",
        "\n",
        "# First aggregate all false positive rates\n",
        "all_fpr = np.unique(np.concatenate([fpr[i] for i in range(n_classes)]))\n",
        "\n",
        "# Then interpolate all ROC curves at this points\n",
        "mean_tpr = np.zeros_like(all_fpr)\n",
        "for i in range(n_classes):\n",
        "    mean_tpr += interp(all_fpr, fpr[i], tpr[i])\n",
        "\n",
        "# Finally average it and compute AUC\n",
        "mean_tpr /= n_classes\n",
        "\n",
        "fpr[\"macro\"] = all_fpr\n",
        "tpr[\"macro\"] = mean_tpr\n",
        "roc_auc[\"macro\"] = auc(fpr[\"macro\"], tpr[\"macro\"])\n",
        "\n",
        "# Plot all ROC curves\n",
        "plt.figure()\n",
        "lw = 2\n",
        "\n",
        "\n",
        "plt.plot(fpr[\"micro\"], tpr[\"micro\"],\n",
        "         label='micro-average ROC curve (area = {0:0.2f})'\n",
        "               ''.format(roc_auc[\"micro\"]),\n",
        "         color='deeppink', linestyle=':', linewidth=4)\n",
        "\n",
        "plt.plot(fpr[\"macro\"], tpr[\"macro\"],\n",
        "         label='macro-average ROC curve (area = {0:0.2f})'\n",
        "               ''.format(roc_auc[\"macro\"]),\n",
        "         color='navy', linestyle=':', linewidth=4)\n",
        "\"\"\"\n",
        "colors = cycle(['aqua', 'darkorange', 'cornflowerblue','red','chocolate','lime','lawngreen','slategrey','sandybrown','gray','silver','rosybrown','navajowhite','turquoise','paleturquoise','darkcyan','cornflowerblue','indigo','brown','darkred'])\n",
        "for i, color in zip(range(n_classes), colors):\n",
        "    plt.plot(fpr[i], tpr[i],color=color, lw=lw,label='ROC curve of class {0} (area = {1:0.2f})'\n",
        "            ''.format(i, roc_auc[i])\n",
        "             )\n",
        " \"\"\"\n",
        " \n",
        "plt.plot([0, 1], [0, 1], 'k--', lw=lw)\n",
        "plt.xlim([0.0, 1.0])\n",
        "plt.ylim([0.0, 1.05])\n",
        "plt.xlabel('False Positive Rate')\n",
        "plt.ylabel('True Positive Rate')\n",
        "#plt.title('ROC Curve for 9 Subjects (or 9 classes) from Midnight Scan Club Data')\n",
        "plt.title('ROC Curve for 50 Subjects (or 50 classes) from HCP Data')\n",
        "plt.legend(loc=\"lower right\")\n",
        "plt.savefig(\"roc1.jpg\")\n",
        "plt.show()\n",
        "\n",
        "\n",
        "\n",
        "y_prob = cclf.predict_proba(X_test)\n",
        "\n",
        "#macro_roc_auc_ovo = roc_auc_score(y_test, y_prob, multi_class=\"ovo\", average=\"macro\")\n",
        "#weighted_roc_auc_ovo = roc_auc_score(y_test, y_prob, multi_class=\"ovo\", average=\"weighted\")\n",
        "macro_roc_auc_ovr = roc_auc_score(y_test, y_prob, multi_class=\"ovr\",\n",
        "                                  average=\"macro\")\n",
        "weighted_roc_auc_ovr = roc_auc_score(y_test, y_prob, multi_class=\"ovr\",\n",
        "                                     average=\"weighted\")\n",
        "#print(\"One-vs-One ROC AUC scores:\\n{:.6f} (macro),\\n{:.6f} \"\n",
        " #     \"(weighted by prevalence)\"\n",
        "  #    .format(macro_roc_auc_ovo, weighted_roc_auc_ovo))\n",
        "print(\"One-vs-Rest ROC AUC scores:\\n{:.6f} (macro),\\n{:.6f} \"\n",
        "      \"(weighted by prevalence)\"\n",
        "      .format(macro_roc_auc_ovr, weighted_roc_auc_ovr))\n"
      ],
      "execution_count": null,
      "outputs": []
    },
    {
      "cell_type": "markdown",
      "metadata": {
        "id": "_rQ6N4VJMu5b"
      },
      "source": [
        "# Pearson Correlation Based Classification"
      ]
    },
    {
      "cell_type": "code",
      "metadata": {
        "id": "LVsPyxW31j2_"
      },
      "source": [
        "import numpy as np\n",
        "data = np.load(\"data.npy\")\n",
        "X, y = data[:, :-1], data[:, -1]\n",
        "corr = np.corrcoef(X)\n"
      ],
      "execution_count": null,
      "outputs": []
    },
    {
      "cell_type": "code",
      "metadata": {
        "id": "unz-5bF5ZWe3"
      },
      "source": [
        "list1 = [102614,  113215,\t122317,\t131722,\t140824,\t151223,\t160729,\t171734,\t180735,\t192237,\t201515,\t211821,\t257946,\t334635,\t392447,\t481143,\t559053,\t604537,\t677968,\t743248,\t818455,\t885975,\t962058,\n",
        "102715\t,113316,\t122418,\t131823,\t140925,\t151324,\t160830,\t172029,\t180836,\t192439,\t201717,\t211922,\t263032,\t336841,\t392750,\t481951,\t559457,\t609143,\t679568,\t744553,\t818859,\t886674,\t965367,\n",
        "102816\t,113417,\t122519,\t131924]\n",
        "\n",
        "list2 = [100307,115017,115724,130316,144832,158843,159340,175237,202820,206828,257845,579665,654754,680957,786569,871762,894774,100408,115219,130013,130417,144933,159138,175035,191437,206525,\n",
        "256540,361941,579867,680250,724446,788674,894067,932554,100610,115320,130114,144731,145127,159239,175136,191841,206727,257542,365343,580044,680452,784565,792766,894673]\n",
        "\n",
        "\n",
        "\n",
        "list1_as_set = set(list1)\n",
        "\n",
        "intersection = list1_as_set.intersection(list2)\n",
        "\n",
        "\n",
        "intersection_as_list = list(intersection)\n",
        "\n",
        "import numpy as np\n",
        "print(intersection_as_list)\n",
        "np.array(list1).shape\n",
        "#np.array(list2).shape"
      ],
      "execution_count": null,
      "outputs": []
    }
  ]
}