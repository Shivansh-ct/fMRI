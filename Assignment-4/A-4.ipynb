{
 "cells": [
  {
   "cell_type": "code",
   "execution_count": 1,
   "metadata": {},
   "outputs": [
    {
     "ename": "ModuleNotFoundError",
     "evalue": "No module named 'nibalabel'",
     "output_type": "error",
     "traceback": [
      "\u001b[0;31m---------------------------------------------------------------------------\u001b[0m",
      "\u001b[0;31mModuleNotFoundError\u001b[0m                       Traceback (most recent call last)",
      "\u001b[0;32m<ipython-input-1-3488c60831ce>\u001b[0m in \u001b[0;36m<module>\u001b[0;34m\u001b[0m\n\u001b[0;32m----> 1\u001b[0;31m \u001b[0;32mimport\u001b[0m \u001b[0mnibalabel\u001b[0m \u001b[0;32mas\u001b[0m \u001b[0mnib\u001b[0m\u001b[0;34m\u001b[0m\u001b[0;34m\u001b[0m\u001b[0m\n\u001b[0m",
      "\u001b[0;31mModuleNotFoundError\u001b[0m: No module named 'nibalabel'"
     ]
    }
   ],
   "source": []
  },
  {
   "cell_type": "code",
   "execution_count": 3,
   "metadata": {},
   "outputs": [
    {
     "name": "stdout",
     "output_type": "stream",
     "text": [
      "Collecting nibabel\n",
      "  Downloading nibabel-3.2.1-py3-none-any.whl (3.3 MB)\n",
      "\u001b[K     |████████████████████████████████| 3.3 MB 6.9 MB/s eta 0:00:01\n",
      "\u001b[?25hRequirement already satisfied: packaging>=14.3 in ./anaconda3/lib/python3.8/site-packages (from nibabel) (20.4)\n",
      "Requirement already satisfied: numpy>=1.14 in ./anaconda3/lib/python3.8/site-packages (from nibabel) (1.19.2)\n",
      "Requirement already satisfied: six in ./anaconda3/lib/python3.8/site-packages (from packaging>=14.3->nibabel) (1.15.0)\n",
      "Requirement already satisfied: pyparsing>=2.0.2 in ./anaconda3/lib/python3.8/site-packages (from packaging>=14.3->nibabel) (2.4.7)\n",
      "Installing collected packages: nibabel\n",
      "Successfully installed nibabel-3.2.1\n",
      "Note: you may need to restart the kernel to use updated packages.\n"
     ]
    }
   ],
   "source": [
    "pip install nibabel"
   ]
  },
  {
   "cell_type": "code",
   "execution_count": 5,
   "metadata": {},
   "outputs": [],
   "source": [
    "import nibabel as nib"
   ]
  },
  {
   "cell_type": "code",
   "execution_count": 6,
   "metadata": {},
   "outputs": [],
   "source": [
    "img = nib.load('/home/shivansh/COL786/S01/raw_fMRI_raw_bold.nii.gz')"
   ]
  },
  {
   "cell_type": "code",
   "execution_count": 7,
   "metadata": {},
   "outputs": [
    {
     "data": {
      "text/plain": [
       "<nibabel.nifti1.Nifti1Image at 0x7f7c7892a250>"
      ]
     },
     "execution_count": 7,
     "metadata": {},
     "output_type": "execute_result"
    }
   ],
   "source": [
    "img"
   ]
  },
  {
   "cell_type": "code",
   "execution_count": 8,
   "metadata": {},
   "outputs": [
    {
     "data": {
      "text/plain": [
       "(64, 64, 40, 128)"
      ]
     },
     "execution_count": 8,
     "metadata": {},
     "output_type": "execute_result"
    }
   ],
   "source": [
    "img.shape"
   ]
  },
  {
   "cell_type": "code",
   "execution_count": 12,
   "metadata": {},
   "outputs": [],
   "source": [
    "import numpy as np"
   ]
  },
  {
   "cell_type": "code",
   "execution_count": 16,
   "metadata": {},
   "outputs": [],
   "source": [
    "img1 = img.get_fdata()"
   ]
  },
  {
   "cell_type": "code",
   "execution_count": 17,
   "metadata": {},
   "outputs": [],
   "source": [
    "img1 = np.array(img1, dtype=np.float32)"
   ]
  },
  {
   "cell_type": "code",
   "execution_count": 18,
   "metadata": {},
   "outputs": [
    {
     "data": {
      "text/plain": [
       "(64, 64, 40, 128)"
      ]
     },
     "execution_count": 18,
     "metadata": {},
     "output_type": "execute_result"
    }
   ],
   "source": [
    "img1.shape\n"
   ]
  },
  {
   "cell_type": "code",
   "execution_count": 23,
   "metadata": {},
   "outputs": [
    {
     "data": {
      "text/plain": [
       "numpy.ndarray"
      ]
     },
     "execution_count": 23,
     "metadata": {},
     "output_type": "execute_result"
    }
   ],
   "source": [
    "type(img1)"
   ]
  },
  {
   "cell_type": "code",
   "execution_count": 34,
   "metadata": {},
   "outputs": [
    {
     "data": {
      "text/plain": [
       "array([ 5.9639,  9.9399,  9.9399,  9.9399, 11.0107, 11.0107, 11.0107,\n",
       "       11.9282, 12.9985, 12.9985, 14.0693, 14.0693, 14.9868, 14.9868,\n",
       "       14.9868, 16.0571, 16.0571, 16.0571, 16.9746, 16.9746, 18.0454,\n",
       "       18.0454, 18.0454, 18.0454, 18.9629, 18.9629, 18.9629, 20.0332,\n",
       "       20.0332, 20.9507, 20.9507, 20.9507, 20.9507, 20.9507, 20.9507,\n",
       "       22.0215, 22.0215, 22.0215, 22.939 , 22.939 , 22.939 , 24.0093,\n",
       "       24.0093, 24.0093, 24.0093, 24.0093, 24.0093, 25.9976, 25.9976,\n",
       "       27.0679, 27.9854, 27.9854, 27.9854, 27.9854, 29.0562, 29.9736,\n",
       "       29.9736, 29.9736, 29.9736, 31.0439, 31.0439, 31.0439, 31.9614,\n",
       "       31.9614, 31.9614, 31.9614, 31.9614, 33.0322, 33.0322, 33.0322,\n",
       "       33.0322, 33.0322, 33.9497, 33.9497, 33.9497, 33.9497, 33.9497,\n",
       "       33.9497, 35.02  , 35.02  , 35.02  , 35.02  , 35.02  , 35.02  ,\n",
       "       35.9375, 35.9375, 35.9375, 35.9375, 35.9375, 37.0083, 37.0083,\n",
       "       37.9258, 37.9258, 37.9258, 38.9961, 38.9961, 38.9961, 40.0664,\n",
       "       40.0664, 40.0664, 40.0664, 40.9844, 40.9844, 42.0547, 42.0547,\n",
       "       42.0547, 42.9722, 42.9722, 44.0425, 44.0425, 44.9604, 44.9604,\n",
       "       46.0308, 46.0308, 46.9482, 48.0186, 48.9365, 48.9365, 50.0068,\n",
       "       50.9243, 50.9243, 55.9707, 59.9468, 59.9468, 64.0762, 66.9814,\n",
       "       87.9326, 94.9668], dtype=float32)"
      ]
     },
     "execution_count": 34,
     "metadata": {},
     "output_type": "execute_result"
    }
   ],
   "source": [
    "np.sort(img1[1,1,1,:])"
   ]
  },
  {
   "cell_type": "code",
   "execution_count": 37,
   "metadata": {},
   "outputs": [
    {
     "data": {
      "text/plain": [
       "array([ 9.0225, 11.0107, 11.0107, 11.0107, 11.9282, 11.9282, 11.9282,\n",
       "       12.9985, 12.9985, 12.9985, 12.9985, 12.9985, 14.0693, 14.0693,\n",
       "       14.0693, 14.9868, 14.9868, 14.9868, 16.0571, 16.9746, 16.9746,\n",
       "       18.0454, 18.0454, 18.0454, 18.0454, 18.0454, 18.9629, 18.9629,\n",
       "       20.0332, 20.0332, 20.0332, 20.0332, 20.0332, 20.9507, 20.9507,\n",
       "       22.0215, 22.0215, 22.0215, 24.0093, 24.0093, 24.0093, 24.9268,\n",
       "       24.9268, 24.9268, 24.9268, 25.9976, 25.9976, 25.9976, 25.9976,\n",
       "       27.0679, 27.0679, 27.0679, 27.0679, 27.0679, 27.9854, 27.9854,\n",
       "       27.9854, 29.0562, 29.0562, 29.9736, 29.9736, 29.9736, 31.0439,\n",
       "       31.0439, 31.0439, 31.9614, 31.9614, 31.9614, 31.9614, 31.9614,\n",
       "       33.0322, 33.0322, 33.0322, 33.9497, 33.9497, 35.02  , 35.02  ,\n",
       "       35.02  , 35.9375, 35.9375, 35.9375, 35.9375, 37.0083, 37.0083,\n",
       "       37.9258, 37.9258, 37.9258, 38.9961, 38.9961, 38.9961, 38.9961,\n",
       "       40.0664, 40.0664, 40.0664, 40.0664, 40.9844, 40.9844, 40.9844,\n",
       "       42.0547, 42.0547, 42.0547, 42.9722, 44.0425, 44.9604, 44.9604,\n",
       "       46.0308, 46.0308, 46.9482, 46.9482, 46.9482, 48.9365, 48.9365,\n",
       "       50.0068, 50.9243, 51.9946, 53.9829, 55.9707, 55.9707, 57.0415,\n",
       "       59.0293, 59.0293, 61.0176, 61.9351, 66.064 , 66.9814, 72.9458,\n",
       "       76.0044, 79.9805], dtype=float32)"
      ]
     },
     "execution_count": 37,
     "metadata": {},
     "output_type": "execute_result"
    }
   ],
   "source": [
    "\n",
    "np.sort(img1[1,2,1,:])"
   ]
  },
  {
   "cell_type": "code",
   "execution_count": 27,
   "metadata": {},
   "outputs": [
    {
     "name": "stderr",
     "output_type": "stream",
     "text": [
      "<ipython-input-27-1544255e6951>:1: DeprecationWarning: get_data() is deprecated in favor of get_fdata(), which has a more predictable return type. To obtain get_data() behavior going forward, use numpy.asanyarray(img.dataobj).\n",
      "\n",
      "* deprecated from version: 3.0\n",
      "* Will raise <class 'nibabel.deprecator.ExpiredDeprecationError'> as of version: 5.0\n",
      "  data = img.get_data()\n"
     ]
    },
    {
     "data": {
      "text/plain": [
       "(64, 64, 40, 128)"
      ]
     },
     "execution_count": 27,
     "metadata": {},
     "output_type": "execute_result"
    }
   ],
   "source": [
    "data = img.get_data()\n",
    "data.shape"
   ]
  },
  {
   "cell_type": "code",
   "execution_count": 28,
   "metadata": {},
   "outputs": [
    {
     "name": "stderr",
     "output_type": "stream",
     "text": [
      "<ipython-input-28-eb05548f3058>:21: DeprecationWarning: get_data() is deprecated in favor of get_fdata(), which has a more predictable return type. To obtain get_data() behavior going forward, use numpy.asanyarray(img.dataobj).\n",
      "\n",
      "* deprecated from version: 3.0\n",
      "* Will raise <class 'nibabel.deprecator.ExpiredDeprecationError'> as of version: 5.0\n",
      "  data = img.get_data()\n"
     ]
    }
   ],
   "source": [
    "\"\"\" Slice timing exercise\n",
    "\"\"\"\n",
    "#: Compatibility with Python 2\n",
    "from __future__ import print_function  # print('me') instead of print 'me'\n",
    "from __future__ import division  # 1/2 == 0.5, not 0\n",
    "\n",
    "#: Import common modules\n",
    "import numpy as np  # the Python array package\n",
    "np.set_printoptions(precision=4, suppress=True)  # print to 4 DP\n",
    "import matplotlib.pyplot as plt  # the Python plotting package\n",
    "import nibabel as nib\n",
    "\n",
    "#: Set defaults for plotting\n",
    "plt.rcParams['image.cmap'] = 'gray'\n",
    "plt.rcParams['image.interpolation'] = 'nearest'\n",
    "\n",
    "#: Load the image 'ds114_sub009_t2r1.nii' with nibabel\n",
    "# Get the data array from the image\n",
    "import nibabel as nib\n",
    "img = nib.load('/home/shivansh/COL786/S01/raw_fMRI_raw_bold.nii.gz')\n",
    "data = img.get_data()\n",
    "data.shape\n",
    "\n",
    "#: Remove the first volume by slicing\n",
    "fixed_data = data[..., 1:]\n",
    "fixed_data.shape\n",
    "\n",
    "#- Slice out time series for voxel (23, 19, 0)\n",
    "#- Slice out time series for voxel (23, 19, 1)\n",
    "#- Plot both these time series against volume number, on the same graph\n",
    "\n",
    "#: The time between scans\n",
    "TR = 2.5\n",
    "\n",
    "#- Make time vector containing start times in second of each volume,\n",
    "#- relative to start of first volume.\n",
    "#- Call this `slice_0_times`\n",
    "\n",
    "#- Make time vector containing start times in seconds of z slice 1,\n",
    "#- relative to start of first volume.\n",
    "#- Call this `slice_1_times`\n",
    "\n",
    "#- Plot first 10 values of slice 0 times against first 10 of slice 0\n",
    "#- time series;\n",
    "#- Plot first 10 values of slice 1 times against first 10 of slice 1\n",
    "#- time series.\n",
    "#- Use ':+' marker\n",
    "\n",
    "#- Import `InterpolatedUnivariateSpline` from `scipy.interpolate`\n",
    "#- Make a new linear (`k=1`) interpolation object for slice 1, with\n",
    "#- slice 1 times and values.\n",
    "\n",
    "#- Call interpolator with `slice_0_times` to get estimated values\n",
    "\n",
    "#- Plot first 10 values of slice 0 times against first 10 of slice 0\n",
    "#- time series;\n",
    "#- Plot first 10 values of slice 1 times against first 10 of slice 1\n",
    "#- time series;\n",
    "#- Plot first 10 values of slice 0 times against first 10 of\n",
    "#- interpolated slice 1 time series.\n",
    "\n",
    "#- Copy old data to a new array\n",
    "\n",
    "#- loop over all x coordinate values\n",
    "#- loop over all y coordinate values\n",
    "#- extract the time series at this x, y coordinate for slice 1;\n",
    "#- make a linear interpolator object with the slice 1 times and the\n",
    "#- extracted time series;\n",
    "#- resample this interpolator at the slice 0 times;\n",
    "#- put this new resampled time series into the new data at the same\n",
    "#- position.\n",
    "\n",
    "#- Make acquisition_order vector, length 30, with values:\n",
    "#- 0, 15, 1, 16 ... 14, 29\n",
    "\n",
    "#- Divide acquisition_order by number of slices, multiply by TR\n",
    "\n",
    "#- For each z coordinate (slice index):\n",
    "#- # Make `slice_z_times` vector for this slice\n",
    "#- ## For each x coordinate:\n",
    "#- ### For each y coordinate:\n",
    "#- #### extract the time series at this x, y, z coordinate;\n",
    "#- #### make a linear interpolator object with the `slice_z_times` and\n",
    "#-      the extracted time series;\n",
    "#- #### resample this interpolator at the slice 0 times;\n",
    "#- #### put this new resampled time series into the new data at the\n",
    "#-      same position"
   ]
  },
  {
   "cell_type": "code",
   "execution_count": null,
   "metadata": {},
   "outputs": [],
   "source": []
  }
 ],
 "metadata": {
  "kernelspec": {
   "display_name": "Python 3",
   "language": "python",
   "name": "python3"
  },
  "language_info": {
   "codemirror_mode": {
    "name": "ipython",
    "version": 3
   },
   "file_extension": ".py",
   "mimetype": "text/x-python",
   "name": "python",
   "nbconvert_exporter": "python",
   "pygments_lexer": "ipython3",
   "version": "3.8.5"
  }
 },
 "nbformat": 4,
 "nbformat_minor": 4
}
