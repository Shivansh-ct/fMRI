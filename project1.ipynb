{
  "nbformat": 4,
  "nbformat_minor": 0,
  "metadata": {
    "colab": {
      "name": "project1.ipynb",
      "provenance": [],
      "mount_file_id": "1bKg2OzVJkgoM4iCKmguyPkFzEBJHS2kb",
      "authorship_tag": "ABX9TyMHGppgPX3fjC918DW59FXz",
      "include_colab_link": true
    },
    "kernelspec": {
      "name": "python3",
      "display_name": "Python 3"
    },
    "language_info": {
      "name": "python"
    },
    "accelerator": "TPU"
  },
  "cells": [
    {
      "cell_type": "markdown",
      "metadata": {
        "id": "view-in-github",
        "colab_type": "text"
      },
      "source": [
        "<a href=\"https://colab.research.google.com/github/Shivansh-ct/fMRI/blob/main/project1.ipynb\" target=\"_parent\"><img src=\"https://colab.research.google.com/assets/colab-badge.svg\" alt=\"Open In Colab\"/></a>"
      ]
    },
    {
      "cell_type": "code",
      "metadata": {
        "colab": {
          "base_uri": "https://localhost:8080/"
        },
        "id": "4FTdNR4a6P5c",
        "outputId": "7ec8ab72-6b0c-46df-8b51-4522de8ec98d"
      },
      "source": [
        "pip install nilearn"
      ],
      "execution_count": 2,
      "outputs": [
        {
          "output_type": "stream",
          "text": [
            "Collecting nilearn\n",
            "\u001b[?25l  Downloading https://files.pythonhosted.org/packages/4a/bd/2ad86e2c00ecfe33b86f9f1f6d81de8e11724e822cdf1f5b2d0c21b787f1/nilearn-0.7.1-py3-none-any.whl (3.0MB)\n",
            "\u001b[K     |████████████████████████████████| 3.1MB 5.9MB/s \n",
            "\u001b[?25hRequirement already satisfied: scikit-learn>=0.19 in /usr/local/lib/python3.7/dist-packages (from nilearn) (0.22.2.post1)\n",
            "Requirement already satisfied: scipy>=0.19 in /usr/local/lib/python3.7/dist-packages (from nilearn) (1.4.1)\n",
            "Requirement already satisfied: pandas>=0.18.0 in /usr/local/lib/python3.7/dist-packages (from nilearn) (1.1.5)\n",
            "Requirement already satisfied: joblib>=0.12 in /usr/local/lib/python3.7/dist-packages (from nilearn) (1.0.1)\n",
            "Requirement already satisfied: requests>=2 in /usr/local/lib/python3.7/dist-packages (from nilearn) (2.23.0)\n",
            "Requirement already satisfied: numpy>=1.11 in /usr/local/lib/python3.7/dist-packages (from nilearn) (1.19.5)\n",
            "Requirement already satisfied: nibabel>=2.0.2 in /usr/local/lib/python3.7/dist-packages (from nilearn) (3.0.2)\n",
            "Requirement already satisfied: pytz>=2017.2 in /usr/local/lib/python3.7/dist-packages (from pandas>=0.18.0->nilearn) (2018.9)\n",
            "Requirement already satisfied: python-dateutil>=2.7.3 in /usr/local/lib/python3.7/dist-packages (from pandas>=0.18.0->nilearn) (2.8.1)\n",
            "Requirement already satisfied: chardet<4,>=3.0.2 in /usr/local/lib/python3.7/dist-packages (from requests>=2->nilearn) (3.0.4)\n",
            "Requirement already satisfied: idna<3,>=2.5 in /usr/local/lib/python3.7/dist-packages (from requests>=2->nilearn) (2.10)\n",
            "Requirement already satisfied: certifi>=2017.4.17 in /usr/local/lib/python3.7/dist-packages (from requests>=2->nilearn) (2020.12.5)\n",
            "Requirement already satisfied: urllib3!=1.25.0,!=1.25.1,<1.26,>=1.21.1 in /usr/local/lib/python3.7/dist-packages (from requests>=2->nilearn) (1.24.3)\n",
            "Requirement already satisfied: six>=1.5 in /usr/local/lib/python3.7/dist-packages (from python-dateutil>=2.7.3->pandas>=0.18.0->nilearn) (1.15.0)\n",
            "Installing collected packages: nilearn\n",
            "Successfully installed nilearn-0.7.1\n"
          ],
          "name": "stdout"
        }
      ]
    },
    {
      "cell_type": "code",
      "metadata": {
        "id": "JOr7Cohz1DLO",
        "colab": {
          "base_uri": "https://localhost:8080/"
        },
        "outputId": "b817fd11-3486-4c19-9d5a-d85d7bcad11b"
      },
      "source": [
        "from nilearn import datasets\n",
        "from nilearn import input_data"
      ],
      "execution_count": 3,
      "outputs": [
        {
          "output_type": "stream",
          "text": [
            "/usr/local/lib/python3.7/dist-packages/nilearn/datasets/__init__.py:90: FutureWarning: Fetchers from the nilearn.datasets module will be updated in version 0.9 to return python strings instead of bytes and Pandas dataframes instead of Numpy arrays.\n",
            "  \"Numpy arrays.\", FutureWarning)\n"
          ],
          "name": "stderr"
        }
      ]
    },
    {
      "cell_type": "code",
      "metadata": {
        "id": "eNjFmZN91DdU",
        "colab": {
          "base_uri": "https://localhost:8080/"
        },
        "outputId": "c3743607-80fd-482a-d2e4-871494b206be"
      },
      "source": [
        "power = datasets.fetch_coords_power_2011()\n",
        "print('Power atlas comes with {0}.'.format(power.keys()))"
      ],
      "execution_count": 4,
      "outputs": [
        {
          "output_type": "stream",
          "text": [
            "Power atlas comes with dict_keys(['rois', 'description']).\n"
          ],
          "name": "stdout"
        }
      ]
    },
    {
      "cell_type": "code",
      "metadata": {
        "id": "AZFzLVqS1Dfw",
        "colab": {
          "base_uri": "https://localhost:8080/"
        },
        "outputId": "9ec58989-fa6e-4aa4-d07e-d398ba30bcbf"
      },
      "source": [
        "import numpy as np\n",
        "\n",
        "coords = np.vstack((power.rois['x'], power.rois['y'], power.rois['z'])).T\n",
        "\n",
        "print('Stacked power coordinates in array of shape {0}.'.format(coords.shape))"
      ],
      "execution_count": 6,
      "outputs": [
        {
          "output_type": "stream",
          "text": [
            "Stacked power coordinates in array of shape (264, 3).\n"
          ],
          "name": "stdout"
        }
      ]
    },
    {
      "cell_type": "code",
      "metadata": {
        "colab": {
          "base_uri": "https://localhost:8080/"
        },
        "id": "-7KhEkshYgyk",
        "outputId": "384ed7b1-5d0b-4d1d-d3ee-52fd308c9b0b"
      },
      "source": [
        "cd /content/drive/MyDrive/project1/data/"
      ],
      "execution_count": 7,
      "outputs": [
        {
          "output_type": "stream",
          "text": [
            "/content/drive/MyDrive/project1/data\n"
          ],
          "name": "stdout"
        }
      ]
    },
    {
      "cell_type": "code",
      "metadata": {
        "id": "B8nDIVcdfq8P"
      },
      "source": [
        "from sklearn import preprocessing, covariance\n",
        "myScaler = preprocessing.StandardScaler()"
      ],
      "execution_count": 8,
      "outputs": []
    },
    {
      "cell_type": "code",
      "metadata": {
        "id": "37yVaPqR1Diy",
        "colab": {
          "base_uri": "https://localhost:8080/"
        },
        "outputId": "22f486fa-b83d-430a-f6a6-891d8aa6d1d3"
      },
      "source": [
        "#Calculating the Functional Connectivity Matrix for each bold file and stacking them together in \"data\" variable for further Machine Learning\n",
        "for i in range(1,10,1):\n",
        "  for j in range(1,11,1):\n",
        "    try:\n",
        "      if i==6 and j==8:\n",
        "        continue\n",
        "      path = \"s\"+str(i)+\"/ses\"+str(j)+\"_filtered_func_data.nii.gz\"\n",
        "\n",
        "      spheres_masker = input_data.NiftiSpheresMasker(seeds=coords, smoothing_fwhm=6, radius=10.,allow_overlap=True, detrend=True, standardize=True, low_pass=0.1, high_pass=0.01, t_r=2)\n",
        "      timeseries = np.array(spheres_masker.fit_transform(path), dtype=np.float64)\n",
        "      timeseries = myScaler.fit_transform(timeseries)\n",
        "      timeseries = covariance.empirical_covariance(timeseries)\n",
        "      timeseries = covariance.shrunk_covariance(timeseries, shrinkage=0.8)\n",
        "\n",
        "  #print('time series has {0} samples'.format(timeseries.shape[0]))\n",
        "      try:\n",
        "        from sklearn.covariance import GraphicalLassoCV\n",
        "      except ImportError:\n",
        "      # for Scitkit-Learn < v0.20.0\n",
        "        from sklearn.covariance import GraphLassoCV as GraphicalLassoCV\n",
        "\n",
        "      covariance_estimator = GraphicalLassoCV(cv=3, verbose=1)\n",
        "      covariance_estimator.fit(timeseries)\n",
        "      matrix = covariance_estimator.covariance_\n",
        "      np.save(\"sub_\"+str(i)+\"ses_\"+str(j)+\".npy\", matrix)\n",
        "      d=matrix[np.triu_indices(264, k = 1)]\n",
        "      d = d.reshape(1,34716)\n",
        "      d = np.concatenate((d,[[i]]),axis=1)\n",
        "      if i==1 and j==1:\n",
        "        data = d\n",
        "      else:\n",
        "        data = np.concatenate((data,d))\n",
        "    except:\n",
        "      continue\n",
        "\n",
        "#print('Covariance matrix has shape {0}.'.format(matrix.shape))\n",
        "np.save(\"data.npy\",data)\n"
      ],
      "execution_count": 12,
      "outputs": [
        {
          "output_type": "stream",
          "text": [
            "[Parallel(n_jobs=1)]: Using backend SequentialBackend with 1 concurrent workers.\n",
            "[Parallel(n_jobs=1)]: Done   3 out of   3 | elapsed:    5.0s finished\n",
            "[Parallel(n_jobs=1)]: Using backend SequentialBackend with 1 concurrent workers.\n"
          ],
          "name": "stderr"
        },
        {
          "output_type": "stream",
          "text": [
            "[GraphicalLassoCV] Done refinement  1 out of 4:   4s\n"
          ],
          "name": "stdout"
        },
        {
          "output_type": "stream",
          "text": [
            "[Parallel(n_jobs=1)]: Done   3 out of   3 | elapsed:    7.0s finished\n",
            "[Parallel(n_jobs=1)]: Using backend SequentialBackend with 1 concurrent workers.\n"
          ],
          "name": "stderr"
        },
        {
          "output_type": "stream",
          "text": [
            "[GraphicalLassoCV] Done refinement  2 out of 4:  12s\n"
          ],
          "name": "stdout"
        },
        {
          "output_type": "stream",
          "text": [
            "[Parallel(n_jobs=1)]: Done   3 out of   3 | elapsed:    7.5s finished\n",
            "[Parallel(n_jobs=1)]: Using backend SequentialBackend with 1 concurrent workers.\n"
          ],
          "name": "stderr"
        },
        {
          "output_type": "stream",
          "text": [
            "[GraphicalLassoCV] Done refinement  3 out of 4:  19s\n"
          ],
          "name": "stdout"
        },
        {
          "output_type": "stream",
          "text": [
            "[Parallel(n_jobs=1)]: Done   3 out of   3 | elapsed:    8.7s finished\n"
          ],
          "name": "stderr"
        },
        {
          "output_type": "stream",
          "text": [
            "[GraphicalLassoCV] Done refinement  4 out of 4:  28s\n"
          ],
          "name": "stdout"
        },
        {
          "output_type": "stream",
          "text": [
            "[Parallel(n_jobs=1)]: Using backend SequentialBackend with 1 concurrent workers.\n",
            "[Parallel(n_jobs=1)]: Done   3 out of   3 | elapsed:    3.1s finished\n",
            "[Parallel(n_jobs=1)]: Using backend SequentialBackend with 1 concurrent workers.\n"
          ],
          "name": "stderr"
        },
        {
          "output_type": "stream",
          "text": [
            "[GraphicalLassoCV] Done refinement  1 out of 4:   3s\n"
          ],
          "name": "stdout"
        },
        {
          "output_type": "stream",
          "text": [
            "[Parallel(n_jobs=1)]: Done   3 out of   3 | elapsed:    3.4s finished\n",
            "[Parallel(n_jobs=1)]: Using backend SequentialBackend with 1 concurrent workers.\n"
          ],
          "name": "stderr"
        },
        {
          "output_type": "stream",
          "text": [
            "[GraphicalLassoCV] Done refinement  2 out of 4:   6s\n"
          ],
          "name": "stdout"
        },
        {
          "output_type": "stream",
          "text": [
            "[Parallel(n_jobs=1)]: Done   3 out of   3 | elapsed:    7.3s finished\n",
            "[Parallel(n_jobs=1)]: Using backend SequentialBackend with 1 concurrent workers.\n"
          ],
          "name": "stderr"
        },
        {
          "output_type": "stream",
          "text": [
            "[GraphicalLassoCV] Done refinement  3 out of 4:  13s\n"
          ],
          "name": "stdout"
        },
        {
          "output_type": "stream",
          "text": [
            "[Parallel(n_jobs=1)]: Done   3 out of   3 | elapsed:    8.7s finished\n"
          ],
          "name": "stderr"
        },
        {
          "output_type": "stream",
          "text": [
            "[GraphicalLassoCV] Done refinement  4 out of 4:  22s\n"
          ],
          "name": "stdout"
        },
        {
          "output_type": "stream",
          "text": [
            "[Parallel(n_jobs=1)]: Using backend SequentialBackend with 1 concurrent workers.\n",
            "[Parallel(n_jobs=1)]: Done   3 out of   3 | elapsed:    3.2s finished\n",
            "[Parallel(n_jobs=1)]: Using backend SequentialBackend with 1 concurrent workers.\n"
          ],
          "name": "stderr"
        },
        {
          "output_type": "stream",
          "text": [
            "[GraphicalLassoCV] Done refinement  1 out of 4:   3s\n"
          ],
          "name": "stdout"
        },
        {
          "output_type": "stream",
          "text": [
            "[Parallel(n_jobs=1)]: Done   3 out of   3 | elapsed:    3.9s finished\n",
            "[Parallel(n_jobs=1)]: Using backend SequentialBackend with 1 concurrent workers.\n"
          ],
          "name": "stderr"
        },
        {
          "output_type": "stream",
          "text": [
            "[GraphicalLassoCV] Done refinement  2 out of 4:   7s\n"
          ],
          "name": "stdout"
        },
        {
          "output_type": "stream",
          "text": [
            "[Parallel(n_jobs=1)]: Done   3 out of   3 | elapsed:    3.9s finished\n",
            "[Parallel(n_jobs=1)]: Using backend SequentialBackend with 1 concurrent workers.\n"
          ],
          "name": "stderr"
        },
        {
          "output_type": "stream",
          "text": [
            "[GraphicalLassoCV] Done refinement  3 out of 4:  11s\n"
          ],
          "name": "stdout"
        },
        {
          "output_type": "stream",
          "text": [
            "[Parallel(n_jobs=1)]: Done   3 out of   3 | elapsed:    4.6s finished\n"
          ],
          "name": "stderr"
        },
        {
          "output_type": "stream",
          "text": [
            "[GraphicalLassoCV] Done refinement  4 out of 4:  15s\n"
          ],
          "name": "stdout"
        },
        {
          "output_type": "stream",
          "text": [
            "[Parallel(n_jobs=1)]: Using backend SequentialBackend with 1 concurrent workers.\n",
            "[Parallel(n_jobs=1)]: Done   3 out of   3 | elapsed:    3.2s finished\n",
            "[Parallel(n_jobs=1)]: Using backend SequentialBackend with 1 concurrent workers.\n"
          ],
          "name": "stderr"
        },
        {
          "output_type": "stream",
          "text": [
            "[GraphicalLassoCV] Done refinement  1 out of 4:   3s\n"
          ],
          "name": "stdout"
        },
        {
          "output_type": "stream",
          "text": [
            "[Parallel(n_jobs=1)]: Done   3 out of   3 | elapsed:    4.7s finished\n",
            "[Parallel(n_jobs=1)]: Using backend SequentialBackend with 1 concurrent workers.\n"
          ],
          "name": "stderr"
        },
        {
          "output_type": "stream",
          "text": [
            "[GraphicalLassoCV] Done refinement  2 out of 4:   7s\n"
          ],
          "name": "stdout"
        },
        {
          "output_type": "stream",
          "text": [
            "[Parallel(n_jobs=1)]: Done   3 out of   3 | elapsed:    6.1s finished\n",
            "[Parallel(n_jobs=1)]: Using backend SequentialBackend with 1 concurrent workers.\n"
          ],
          "name": "stderr"
        },
        {
          "output_type": "stream",
          "text": [
            "[GraphicalLassoCV] Done refinement  3 out of 4:  14s\n"
          ],
          "name": "stdout"
        },
        {
          "output_type": "stream",
          "text": [
            "[Parallel(n_jobs=1)]: Done   3 out of   3 | elapsed:    7.6s finished\n"
          ],
          "name": "stderr"
        },
        {
          "output_type": "stream",
          "text": [
            "[GraphicalLassoCV] Done refinement  4 out of 4:  21s\n"
          ],
          "name": "stdout"
        },
        {
          "output_type": "stream",
          "text": [
            "[Parallel(n_jobs=1)]: Using backend SequentialBackend with 1 concurrent workers.\n",
            "[Parallel(n_jobs=1)]: Done   3 out of   3 | elapsed:    3.6s finished\n",
            "[Parallel(n_jobs=1)]: Using backend SequentialBackend with 1 concurrent workers.\n"
          ],
          "name": "stderr"
        },
        {
          "output_type": "stream",
          "text": [
            "[GraphicalLassoCV] Done refinement  1 out of 4:   3s\n"
          ],
          "name": "stdout"
        },
        {
          "output_type": "stream",
          "text": [
            "[Parallel(n_jobs=1)]: Done   3 out of   3 | elapsed:    6.4s finished\n",
            "[Parallel(n_jobs=1)]: Using backend SequentialBackend with 1 concurrent workers.\n"
          ],
          "name": "stderr"
        },
        {
          "output_type": "stream",
          "text": [
            "[GraphicalLassoCV] Done refinement  2 out of 4:  10s\n"
          ],
          "name": "stdout"
        },
        {
          "output_type": "stream",
          "text": [
            "[Parallel(n_jobs=1)]: Done   3 out of   3 | elapsed:    6.3s finished\n",
            "[Parallel(n_jobs=1)]: Using backend SequentialBackend with 1 concurrent workers.\n"
          ],
          "name": "stderr"
        },
        {
          "output_type": "stream",
          "text": [
            "[GraphicalLassoCV] Done refinement  3 out of 4:  16s\n"
          ],
          "name": "stdout"
        },
        {
          "output_type": "stream",
          "text": [
            "[Parallel(n_jobs=1)]: Done   3 out of   3 | elapsed:    7.8s finished\n"
          ],
          "name": "stderr"
        },
        {
          "output_type": "stream",
          "text": [
            "[GraphicalLassoCV] Done refinement  4 out of 4:  24s\n"
          ],
          "name": "stdout"
        },
        {
          "output_type": "stream",
          "text": [
            "[Parallel(n_jobs=1)]: Using backend SequentialBackend with 1 concurrent workers.\n",
            "[Parallel(n_jobs=1)]: Done   3 out of   3 | elapsed:    2.8s finished\n",
            "[Parallel(n_jobs=1)]: Using backend SequentialBackend with 1 concurrent workers.\n"
          ],
          "name": "stderr"
        },
        {
          "output_type": "stream",
          "text": [
            "[GraphicalLassoCV] Done refinement  1 out of 4:   2s\n"
          ],
          "name": "stdout"
        },
        {
          "output_type": "stream",
          "text": [
            "[Parallel(n_jobs=1)]: Done   3 out of   3 | elapsed:    5.3s finished\n",
            "[Parallel(n_jobs=1)]: Using backend SequentialBackend with 1 concurrent workers.\n"
          ],
          "name": "stderr"
        },
        {
          "output_type": "stream",
          "text": [
            "[GraphicalLassoCV] Done refinement  2 out of 4:   8s\n"
          ],
          "name": "stdout"
        },
        {
          "output_type": "stream",
          "text": [
            "[Parallel(n_jobs=1)]: Done   3 out of   3 | elapsed:   10.0s finished\n",
            "[Parallel(n_jobs=1)]: Using backend SequentialBackend with 1 concurrent workers.\n"
          ],
          "name": "stderr"
        },
        {
          "output_type": "stream",
          "text": [
            "[GraphicalLassoCV] Done refinement  3 out of 4:  18s\n"
          ],
          "name": "stdout"
        },
        {
          "output_type": "stream",
          "text": [
            "[Parallel(n_jobs=1)]: Done   3 out of   3 | elapsed:   11.1s finished\n"
          ],
          "name": "stderr"
        },
        {
          "output_type": "stream",
          "text": [
            "[GraphicalLassoCV] Done refinement  4 out of 4:  29s\n"
          ],
          "name": "stdout"
        },
        {
          "output_type": "stream",
          "text": [
            "[Parallel(n_jobs=1)]: Using backend SequentialBackend with 1 concurrent workers.\n",
            "[Parallel(n_jobs=1)]: Done   3 out of   3 | elapsed:    3.4s finished\n",
            "[Parallel(n_jobs=1)]: Using backend SequentialBackend with 1 concurrent workers.\n"
          ],
          "name": "stderr"
        },
        {
          "output_type": "stream",
          "text": [
            "[GraphicalLassoCV] Done refinement  1 out of 4:   3s\n"
          ],
          "name": "stdout"
        },
        {
          "output_type": "stream",
          "text": [
            "[Parallel(n_jobs=1)]: Done   3 out of   3 | elapsed:    7.6s finished\n",
            "[Parallel(n_jobs=1)]: Using backend SequentialBackend with 1 concurrent workers.\n"
          ],
          "name": "stderr"
        },
        {
          "output_type": "stream",
          "text": [
            "[GraphicalLassoCV] Done refinement  2 out of 4:  11s\n"
          ],
          "name": "stdout"
        },
        {
          "output_type": "stream",
          "text": [
            "[Parallel(n_jobs=1)]: Done   3 out of   3 | elapsed:    9.8s finished\n",
            "[Parallel(n_jobs=1)]: Using backend SequentialBackend with 1 concurrent workers.\n"
          ],
          "name": "stderr"
        },
        {
          "output_type": "stream",
          "text": [
            "[GraphicalLassoCV] Done refinement  3 out of 4:  20s\n"
          ],
          "name": "stdout"
        },
        {
          "output_type": "stream",
          "text": [
            "[Parallel(n_jobs=1)]: Done   3 out of   3 | elapsed:   10.4s finished\n"
          ],
          "name": "stderr"
        },
        {
          "output_type": "stream",
          "text": [
            "[GraphicalLassoCV] Done refinement  4 out of 4:  31s\n"
          ],
          "name": "stdout"
        },
        {
          "output_type": "stream",
          "text": [
            "[Parallel(n_jobs=1)]: Using backend SequentialBackend with 1 concurrent workers.\n",
            "[Parallel(n_jobs=1)]: Done   3 out of   3 | elapsed:    3.1s finished\n",
            "[Parallel(n_jobs=1)]: Using backend SequentialBackend with 1 concurrent workers.\n"
          ],
          "name": "stderr"
        },
        {
          "output_type": "stream",
          "text": [
            "[GraphicalLassoCV] Done refinement  1 out of 4:   3s\n"
          ],
          "name": "stdout"
        },
        {
          "output_type": "stream",
          "text": [
            "[Parallel(n_jobs=1)]: Done   3 out of   3 | elapsed:    3.8s finished\n",
            "[Parallel(n_jobs=1)]: Using backend SequentialBackend with 1 concurrent workers.\n"
          ],
          "name": "stderr"
        },
        {
          "output_type": "stream",
          "text": [
            "[GraphicalLassoCV] Done refinement  2 out of 4:   6s\n"
          ],
          "name": "stdout"
        },
        {
          "output_type": "stream",
          "text": [
            "[Parallel(n_jobs=1)]: Done   3 out of   3 | elapsed:    7.2s finished\n",
            "[Parallel(n_jobs=1)]: Using backend SequentialBackend with 1 concurrent workers.\n"
          ],
          "name": "stderr"
        },
        {
          "output_type": "stream",
          "text": [
            "[GraphicalLassoCV] Done refinement  3 out of 4:  14s\n"
          ],
          "name": "stdout"
        },
        {
          "output_type": "stream",
          "text": [
            "[Parallel(n_jobs=1)]: Done   3 out of   3 | elapsed:    8.8s finished\n"
          ],
          "name": "stderr"
        },
        {
          "output_type": "stream",
          "text": [
            "[GraphicalLassoCV] Done refinement  4 out of 4:  22s\n"
          ],
          "name": "stdout"
        },
        {
          "output_type": "stream",
          "text": [
            "[Parallel(n_jobs=1)]: Using backend SequentialBackend with 1 concurrent workers.\n",
            "/usr/local/lib/python3.7/dist-packages/sklearn/covariance/_graph_lasso.py:238: RuntimeWarning: invalid value encountered in multiply\n",
            "  * coefs)\n",
            "/usr/local/lib/python3.7/dist-packages/sklearn/covariance/_graph_lasso.py:240: RuntimeWarning: invalid value encountered in multiply\n",
            "  * coefs)\n",
            "[Parallel(n_jobs=1)]: Done   3 out of   3 | elapsed:    3.2s finished\n",
            "[Parallel(n_jobs=1)]: Using backend SequentialBackend with 1 concurrent workers.\n"
          ],
          "name": "stderr"
        },
        {
          "output_type": "stream",
          "text": [
            "[GraphicalLassoCV] Done refinement  1 out of 4:   3s\n"
          ],
          "name": "stdout"
        },
        {
          "output_type": "stream",
          "text": [
            "[Parallel(n_jobs=1)]: Done   3 out of   3 | elapsed:    3.8s finished\n",
            "[Parallel(n_jobs=1)]: Using backend SequentialBackend with 1 concurrent workers.\n"
          ],
          "name": "stderr"
        },
        {
          "output_type": "stream",
          "text": [
            "[GraphicalLassoCV] Done refinement  2 out of 4:   6s\n"
          ],
          "name": "stdout"
        },
        {
          "output_type": "stream",
          "text": [
            "[Parallel(n_jobs=1)]: Done   3 out of   3 | elapsed:    5.2s finished\n",
            "[Parallel(n_jobs=1)]: Using backend SequentialBackend with 1 concurrent workers.\n"
          ],
          "name": "stderr"
        },
        {
          "output_type": "stream",
          "text": [
            "[GraphicalLassoCV] Done refinement  3 out of 4:  12s\n"
          ],
          "name": "stdout"
        },
        {
          "output_type": "stream",
          "text": [
            "[Parallel(n_jobs=1)]: Done   3 out of   3 | elapsed:    9.0s finished\n"
          ],
          "name": "stderr"
        },
        {
          "output_type": "stream",
          "text": [
            "[GraphicalLassoCV] Done refinement  4 out of 4:  21s\n"
          ],
          "name": "stdout"
        },
        {
          "output_type": "stream",
          "text": [
            "[Parallel(n_jobs=1)]: Using backend SequentialBackend with 1 concurrent workers.\n",
            "[Parallel(n_jobs=1)]: Done   3 out of   3 | elapsed:    3.3s finished\n",
            "[Parallel(n_jobs=1)]: Using backend SequentialBackend with 1 concurrent workers.\n"
          ],
          "name": "stderr"
        },
        {
          "output_type": "stream",
          "text": [
            "[GraphicalLassoCV] Done refinement  1 out of 4:   3s\n"
          ],
          "name": "stdout"
        },
        {
          "output_type": "stream",
          "text": [
            "[Parallel(n_jobs=1)]: Done   3 out of   3 | elapsed:    5.9s finished\n",
            "[Parallel(n_jobs=1)]: Using backend SequentialBackend with 1 concurrent workers.\n"
          ],
          "name": "stderr"
        },
        {
          "output_type": "stream",
          "text": [
            "[GraphicalLassoCV] Done refinement  2 out of 4:   9s\n"
          ],
          "name": "stdout"
        },
        {
          "output_type": "stream",
          "text": [
            "[Parallel(n_jobs=1)]: Done   3 out of   3 | elapsed:    9.6s finished\n",
            "[Parallel(n_jobs=1)]: Using backend SequentialBackend with 1 concurrent workers.\n"
          ],
          "name": "stderr"
        },
        {
          "output_type": "stream",
          "text": [
            "[GraphicalLassoCV] Done refinement  3 out of 4:  18s\n"
          ],
          "name": "stdout"
        },
        {
          "output_type": "stream",
          "text": [
            "[Parallel(n_jobs=1)]: Done   3 out of   3 | elapsed:    9.7s finished\n"
          ],
          "name": "stderr"
        },
        {
          "output_type": "stream",
          "text": [
            "[GraphicalLassoCV] Done refinement  4 out of 4:  28s\n"
          ],
          "name": "stdout"
        },
        {
          "output_type": "stream",
          "text": [
            "[Parallel(n_jobs=1)]: Using backend SequentialBackend with 1 concurrent workers.\n",
            "[Parallel(n_jobs=1)]: Done   3 out of   3 | elapsed:    3.1s finished\n",
            "[Parallel(n_jobs=1)]: Using backend SequentialBackend with 1 concurrent workers.\n"
          ],
          "name": "stderr"
        },
        {
          "output_type": "stream",
          "text": [
            "[GraphicalLassoCV] Done refinement  1 out of 4:   3s\n"
          ],
          "name": "stdout"
        },
        {
          "output_type": "stream",
          "text": [
            "[Parallel(n_jobs=1)]: Done   3 out of   3 | elapsed:    3.6s finished\n",
            "[Parallel(n_jobs=1)]: Using backend SequentialBackend with 1 concurrent workers.\n"
          ],
          "name": "stderr"
        },
        {
          "output_type": "stream",
          "text": [
            "[GraphicalLassoCV] Done refinement  2 out of 4:   6s\n"
          ],
          "name": "stdout"
        },
        {
          "output_type": "stream",
          "text": [
            "[Parallel(n_jobs=1)]: Done   3 out of   3 | elapsed:    5.7s finished\n",
            "[Parallel(n_jobs=1)]: Using backend SequentialBackend with 1 concurrent workers.\n"
          ],
          "name": "stderr"
        },
        {
          "output_type": "stream",
          "text": [
            "[GraphicalLassoCV] Done refinement  3 out of 4:  12s\n"
          ],
          "name": "stdout"
        },
        {
          "output_type": "stream",
          "text": [
            "[Parallel(n_jobs=1)]: Done   3 out of   3 | elapsed:    5.8s finished\n"
          ],
          "name": "stderr"
        },
        {
          "output_type": "stream",
          "text": [
            "[GraphicalLassoCV] Done refinement  4 out of 4:  18s\n"
          ],
          "name": "stdout"
        },
        {
          "output_type": "stream",
          "text": [
            "[Parallel(n_jobs=1)]: Using backend SequentialBackend with 1 concurrent workers.\n",
            "[Parallel(n_jobs=1)]: Done   3 out of   3 | elapsed:    3.7s finished\n",
            "[Parallel(n_jobs=1)]: Using backend SequentialBackend with 1 concurrent workers.\n"
          ],
          "name": "stderr"
        },
        {
          "output_type": "stream",
          "text": [
            "[GraphicalLassoCV] Done refinement  1 out of 4:   3s\n"
          ],
          "name": "stdout"
        },
        {
          "output_type": "stream",
          "text": [
            "[Parallel(n_jobs=1)]: Done   3 out of   3 | elapsed:    3.9s finished\n",
            "[Parallel(n_jobs=1)]: Using backend SequentialBackend with 1 concurrent workers.\n"
          ],
          "name": "stderr"
        },
        {
          "output_type": "stream",
          "text": [
            "[GraphicalLassoCV] Done refinement  2 out of 4:   7s\n"
          ],
          "name": "stdout"
        },
        {
          "output_type": "stream",
          "text": [
            "[Parallel(n_jobs=1)]: Done   3 out of   3 | elapsed:    8.3s finished\n",
            "[Parallel(n_jobs=1)]: Using backend SequentialBackend with 1 concurrent workers.\n"
          ],
          "name": "stderr"
        },
        {
          "output_type": "stream",
          "text": [
            "[GraphicalLassoCV] Done refinement  3 out of 4:  15s\n"
          ],
          "name": "stdout"
        },
        {
          "output_type": "stream",
          "text": [
            "[Parallel(n_jobs=1)]: Done   3 out of   3 | elapsed:    8.6s finished\n"
          ],
          "name": "stderr"
        },
        {
          "output_type": "stream",
          "text": [
            "[GraphicalLassoCV] Done refinement  4 out of 4:  24s\n"
          ],
          "name": "stdout"
        },
        {
          "output_type": "stream",
          "text": [
            "[Parallel(n_jobs=1)]: Using backend SequentialBackend with 1 concurrent workers.\n",
            "[Parallel(n_jobs=1)]: Done   3 out of   3 | elapsed:    2.9s finished\n",
            "[Parallel(n_jobs=1)]: Using backend SequentialBackend with 1 concurrent workers.\n"
          ],
          "name": "stderr"
        },
        {
          "output_type": "stream",
          "text": [
            "[GraphicalLassoCV] Done refinement  1 out of 4:   2s\n"
          ],
          "name": "stdout"
        },
        {
          "output_type": "stream",
          "text": [
            "[Parallel(n_jobs=1)]: Done   3 out of   3 | elapsed:    5.4s finished\n",
            "[Parallel(n_jobs=1)]: Using backend SequentialBackend with 1 concurrent workers.\n"
          ],
          "name": "stderr"
        },
        {
          "output_type": "stream",
          "text": [
            "[GraphicalLassoCV] Done refinement  2 out of 4:   8s\n"
          ],
          "name": "stdout"
        },
        {
          "output_type": "stream",
          "text": [
            "[Parallel(n_jobs=1)]: Done   3 out of   3 | elapsed:    5.3s finished\n",
            "[Parallel(n_jobs=1)]: Using backend SequentialBackend with 1 concurrent workers.\n"
          ],
          "name": "stderr"
        },
        {
          "output_type": "stream",
          "text": [
            "[GraphicalLassoCV] Done refinement  3 out of 4:  13s\n"
          ],
          "name": "stdout"
        },
        {
          "output_type": "stream",
          "text": [
            "[Parallel(n_jobs=1)]: Done   3 out of   3 | elapsed:    7.1s finished\n"
          ],
          "name": "stderr"
        },
        {
          "output_type": "stream",
          "text": [
            "[GraphicalLassoCV] Done refinement  4 out of 4:  20s\n"
          ],
          "name": "stdout"
        },
        {
          "output_type": "stream",
          "text": [
            "[Parallel(n_jobs=1)]: Using backend SequentialBackend with 1 concurrent workers.\n",
            "[Parallel(n_jobs=1)]: Done   3 out of   3 | elapsed:    3.4s finished\n",
            "[Parallel(n_jobs=1)]: Using backend SequentialBackend with 1 concurrent workers.\n"
          ],
          "name": "stderr"
        },
        {
          "output_type": "stream",
          "text": [
            "[GraphicalLassoCV] Done refinement  1 out of 4:   3s\n"
          ],
          "name": "stdout"
        },
        {
          "output_type": "stream",
          "text": [
            "[Parallel(n_jobs=1)]: Done   3 out of   3 | elapsed:    4.0s finished\n",
            "[Parallel(n_jobs=1)]: Using backend SequentialBackend with 1 concurrent workers.\n"
          ],
          "name": "stderr"
        },
        {
          "output_type": "stream",
          "text": [
            "[GraphicalLassoCV] Done refinement  2 out of 4:   7s\n"
          ],
          "name": "stdout"
        },
        {
          "output_type": "stream",
          "text": [
            "[Parallel(n_jobs=1)]: Done   3 out of   3 | elapsed:    6.9s finished\n",
            "[Parallel(n_jobs=1)]: Using backend SequentialBackend with 1 concurrent workers.\n"
          ],
          "name": "stderr"
        },
        {
          "output_type": "stream",
          "text": [
            "[GraphicalLassoCV] Done refinement  3 out of 4:  14s\n"
          ],
          "name": "stdout"
        },
        {
          "output_type": "stream",
          "text": [
            "[Parallel(n_jobs=1)]: Done   3 out of   3 | elapsed:   16.6s finished\n"
          ],
          "name": "stderr"
        },
        {
          "output_type": "stream",
          "text": [
            "[GraphicalLassoCV] Done refinement  4 out of 4:  30s\n"
          ],
          "name": "stdout"
        },
        {
          "output_type": "stream",
          "text": [
            "[Parallel(n_jobs=1)]: Using backend SequentialBackend with 1 concurrent workers.\n",
            "[Parallel(n_jobs=1)]: Done   3 out of   3 | elapsed:    3.7s finished\n",
            "[Parallel(n_jobs=1)]: Using backend SequentialBackend with 1 concurrent workers.\n"
          ],
          "name": "stderr"
        },
        {
          "output_type": "stream",
          "text": [
            "[GraphicalLassoCV] Done refinement  1 out of 4:   3s\n"
          ],
          "name": "stdout"
        },
        {
          "output_type": "stream",
          "text": [
            "[Parallel(n_jobs=1)]: Done   3 out of   3 | elapsed:    5.1s finished\n",
            "[Parallel(n_jobs=1)]: Using backend SequentialBackend with 1 concurrent workers.\n"
          ],
          "name": "stderr"
        },
        {
          "output_type": "stream",
          "text": [
            "[GraphicalLassoCV] Done refinement  2 out of 4:   8s\n"
          ],
          "name": "stdout"
        },
        {
          "output_type": "stream",
          "text": [
            "[Parallel(n_jobs=1)]: Done   3 out of   3 | elapsed:    5.0s finished\n",
            "[Parallel(n_jobs=1)]: Using backend SequentialBackend with 1 concurrent workers.\n"
          ],
          "name": "stderr"
        },
        {
          "output_type": "stream",
          "text": [
            "[GraphicalLassoCV] Done refinement  3 out of 4:  13s\n"
          ],
          "name": "stdout"
        },
        {
          "output_type": "stream",
          "text": [
            "[Parallel(n_jobs=1)]: Done   3 out of   3 | elapsed:    6.1s finished\n"
          ],
          "name": "stderr"
        },
        {
          "output_type": "stream",
          "text": [
            "[GraphicalLassoCV] Done refinement  4 out of 4:  19s\n"
          ],
          "name": "stdout"
        },
        {
          "output_type": "stream",
          "text": [
            "[Parallel(n_jobs=1)]: Using backend SequentialBackend with 1 concurrent workers.\n",
            "[Parallel(n_jobs=1)]: Done   3 out of   3 | elapsed:    3.4s finished\n",
            "[Parallel(n_jobs=1)]: Using backend SequentialBackend with 1 concurrent workers.\n"
          ],
          "name": "stderr"
        },
        {
          "output_type": "stream",
          "text": [
            "[GraphicalLassoCV] Done refinement  1 out of 4:   3s\n"
          ],
          "name": "stdout"
        },
        {
          "output_type": "stream",
          "text": [
            "[Parallel(n_jobs=1)]: Done   3 out of   3 | elapsed:    3.8s finished\n",
            "[Parallel(n_jobs=1)]: Using backend SequentialBackend with 1 concurrent workers.\n"
          ],
          "name": "stderr"
        },
        {
          "output_type": "stream",
          "text": [
            "[GraphicalLassoCV] Done refinement  2 out of 4:   7s\n"
          ],
          "name": "stdout"
        },
        {
          "output_type": "stream",
          "text": [
            "[Parallel(n_jobs=1)]: Done   3 out of   3 | elapsed:    4.0s finished\n",
            "[Parallel(n_jobs=1)]: Using backend SequentialBackend with 1 concurrent workers.\n"
          ],
          "name": "stderr"
        },
        {
          "output_type": "stream",
          "text": [
            "[GraphicalLassoCV] Done refinement  3 out of 4:  11s\n"
          ],
          "name": "stdout"
        },
        {
          "output_type": "stream",
          "text": [
            "[Parallel(n_jobs=1)]: Done   3 out of   3 | elapsed:    5.4s finished\n"
          ],
          "name": "stderr"
        },
        {
          "output_type": "stream",
          "text": [
            "[GraphicalLassoCV] Done refinement  4 out of 4:  16s\n"
          ],
          "name": "stdout"
        },
        {
          "output_type": "stream",
          "text": [
            "[Parallel(n_jobs=1)]: Using backend SequentialBackend with 1 concurrent workers.\n",
            "[Parallel(n_jobs=1)]: Done   3 out of   3 | elapsed:    3.7s finished\n",
            "[Parallel(n_jobs=1)]: Using backend SequentialBackend with 1 concurrent workers.\n"
          ],
          "name": "stderr"
        },
        {
          "output_type": "stream",
          "text": [
            "[GraphicalLassoCV] Done refinement  1 out of 4:   3s\n"
          ],
          "name": "stdout"
        },
        {
          "output_type": "stream",
          "text": [
            "[Parallel(n_jobs=1)]: Done   3 out of   3 | elapsed:    3.9s finished\n",
            "[Parallel(n_jobs=1)]: Using backend SequentialBackend with 1 concurrent workers.\n"
          ],
          "name": "stderr"
        },
        {
          "output_type": "stream",
          "text": [
            "[GraphicalLassoCV] Done refinement  2 out of 4:   7s\n"
          ],
          "name": "stdout"
        },
        {
          "output_type": "stream",
          "text": [
            "[Parallel(n_jobs=1)]: Done   3 out of   3 | elapsed:    4.0s finished\n",
            "[Parallel(n_jobs=1)]: Using backend SequentialBackend with 1 concurrent workers.\n"
          ],
          "name": "stderr"
        },
        {
          "output_type": "stream",
          "text": [
            "[GraphicalLassoCV] Done refinement  3 out of 4:  11s\n"
          ],
          "name": "stdout"
        },
        {
          "output_type": "stream",
          "text": [
            "[Parallel(n_jobs=1)]: Done   3 out of   3 | elapsed:    4.2s finished\n"
          ],
          "name": "stderr"
        },
        {
          "output_type": "stream",
          "text": [
            "[GraphicalLassoCV] Done refinement  4 out of 4:  15s\n"
          ],
          "name": "stdout"
        },
        {
          "output_type": "stream",
          "text": [
            "[Parallel(n_jobs=1)]: Using backend SequentialBackend with 1 concurrent workers.\n",
            "/usr/local/lib/python3.7/dist-packages/sklearn/covariance/_graph_lasso.py:238: RuntimeWarning: invalid value encountered in multiply\n",
            "  * coefs)\n",
            "/usr/local/lib/python3.7/dist-packages/sklearn/covariance/_graph_lasso.py:240: RuntimeWarning: invalid value encountered in multiply\n",
            "  * coefs)\n",
            "[Parallel(n_jobs=1)]: Done   3 out of   3 | elapsed:    3.1s finished\n",
            "[Parallel(n_jobs=1)]: Using backend SequentialBackend with 1 concurrent workers.\n"
          ],
          "name": "stderr"
        },
        {
          "output_type": "stream",
          "text": [
            "[GraphicalLassoCV] Done refinement  1 out of 4:   3s\n"
          ],
          "name": "stdout"
        },
        {
          "output_type": "stream",
          "text": [
            "[Parallel(n_jobs=1)]: Done   3 out of   3 | elapsed:    4.1s finished\n",
            "[Parallel(n_jobs=1)]: Using backend SequentialBackend with 1 concurrent workers.\n"
          ],
          "name": "stderr"
        },
        {
          "output_type": "stream",
          "text": [
            "[GraphicalLassoCV] Done refinement  2 out of 4:   7s\n"
          ],
          "name": "stdout"
        },
        {
          "output_type": "stream",
          "text": [
            "[Parallel(n_jobs=1)]: Done   3 out of   3 | elapsed:    7.4s finished\n",
            "[Parallel(n_jobs=1)]: Using backend SequentialBackend with 1 concurrent workers.\n"
          ],
          "name": "stderr"
        },
        {
          "output_type": "stream",
          "text": [
            "[GraphicalLassoCV] Done refinement  3 out of 4:  14s\n"
          ],
          "name": "stdout"
        },
        {
          "output_type": "stream",
          "text": [
            "[Parallel(n_jobs=1)]: Done   3 out of   3 | elapsed:    8.6s finished\n"
          ],
          "name": "stderr"
        },
        {
          "output_type": "stream",
          "text": [
            "[GraphicalLassoCV] Done refinement  4 out of 4:  23s\n"
          ],
          "name": "stdout"
        },
        {
          "output_type": "stream",
          "text": [
            "[Parallel(n_jobs=1)]: Using backend SequentialBackend with 1 concurrent workers.\n",
            "[Parallel(n_jobs=1)]: Done   3 out of   3 | elapsed:    4.4s finished\n",
            "[Parallel(n_jobs=1)]: Using backend SequentialBackend with 1 concurrent workers.\n"
          ],
          "name": "stderr"
        },
        {
          "output_type": "stream",
          "text": [
            "[GraphicalLassoCV] Done refinement  1 out of 4:   4s\n"
          ],
          "name": "stdout"
        },
        {
          "output_type": "stream",
          "text": [
            "[Parallel(n_jobs=1)]: Done   3 out of   3 | elapsed:    3.8s finished\n",
            "[Parallel(n_jobs=1)]: Using backend SequentialBackend with 1 concurrent workers.\n"
          ],
          "name": "stderr"
        },
        {
          "output_type": "stream",
          "text": [
            "[GraphicalLassoCV] Done refinement  2 out of 4:   8s\n"
          ],
          "name": "stdout"
        },
        {
          "output_type": "stream",
          "text": [
            "[Parallel(n_jobs=1)]: Done   3 out of   3 | elapsed:    3.8s finished\n",
            "[Parallel(n_jobs=1)]: Using backend SequentialBackend with 1 concurrent workers.\n"
          ],
          "name": "stderr"
        },
        {
          "output_type": "stream",
          "text": [
            "[GraphicalLassoCV] Done refinement  3 out of 4:  11s\n"
          ],
          "name": "stdout"
        },
        {
          "output_type": "stream",
          "text": [
            "[Parallel(n_jobs=1)]: Done   3 out of   3 | elapsed:    4.2s finished\n"
          ],
          "name": "stderr"
        },
        {
          "output_type": "stream",
          "text": [
            "[GraphicalLassoCV] Done refinement  4 out of 4:  16s\n"
          ],
          "name": "stdout"
        },
        {
          "output_type": "stream",
          "text": [
            "[Parallel(n_jobs=1)]: Using backend SequentialBackend with 1 concurrent workers.\n",
            "[Parallel(n_jobs=1)]: Done   3 out of   3 | elapsed:    3.6s finished\n",
            "[Parallel(n_jobs=1)]: Using backend SequentialBackend with 1 concurrent workers.\n"
          ],
          "name": "stderr"
        },
        {
          "output_type": "stream",
          "text": [
            "[GraphicalLassoCV] Done refinement  1 out of 4:   3s\n"
          ],
          "name": "stdout"
        },
        {
          "output_type": "stream",
          "text": [
            "[Parallel(n_jobs=1)]: Done   3 out of   3 | elapsed:    7.3s finished\n",
            "[Parallel(n_jobs=1)]: Using backend SequentialBackend with 1 concurrent workers.\n"
          ],
          "name": "stderr"
        },
        {
          "output_type": "stream",
          "text": [
            "[GraphicalLassoCV] Done refinement  2 out of 4:  10s\n"
          ],
          "name": "stdout"
        },
        {
          "output_type": "stream",
          "text": [
            "[Parallel(n_jobs=1)]: Done   3 out of   3 | elapsed:    8.9s finished\n",
            "[Parallel(n_jobs=1)]: Using backend SequentialBackend with 1 concurrent workers.\n"
          ],
          "name": "stderr"
        },
        {
          "output_type": "stream",
          "text": [
            "[GraphicalLassoCV] Done refinement  3 out of 4:  19s\n"
          ],
          "name": "stdout"
        },
        {
          "output_type": "stream",
          "text": [
            "[Parallel(n_jobs=1)]: Done   3 out of   3 | elapsed:   10.4s finished\n"
          ],
          "name": "stderr"
        },
        {
          "output_type": "stream",
          "text": [
            "[GraphicalLassoCV] Done refinement  4 out of 4:  30s\n"
          ],
          "name": "stdout"
        },
        {
          "output_type": "stream",
          "text": [
            "[Parallel(n_jobs=1)]: Using backend SequentialBackend with 1 concurrent workers.\n",
            "[Parallel(n_jobs=1)]: Done   3 out of   3 | elapsed:    3.5s finished\n",
            "[Parallel(n_jobs=1)]: Using backend SequentialBackend with 1 concurrent workers.\n"
          ],
          "name": "stderr"
        },
        {
          "output_type": "stream",
          "text": [
            "[GraphicalLassoCV] Done refinement  1 out of 4:   3s\n"
          ],
          "name": "stdout"
        },
        {
          "output_type": "stream",
          "text": [
            "[Parallel(n_jobs=1)]: Done   3 out of   3 | elapsed:    8.0s finished\n",
            "[Parallel(n_jobs=1)]: Using backend SequentialBackend with 1 concurrent workers.\n"
          ],
          "name": "stderr"
        },
        {
          "output_type": "stream",
          "text": [
            "[GraphicalLassoCV] Done refinement  2 out of 4:  11s\n"
          ],
          "name": "stdout"
        },
        {
          "output_type": "stream",
          "text": [
            "[Parallel(n_jobs=1)]: Done   3 out of   3 | elapsed:    9.0s finished\n",
            "[Parallel(n_jobs=1)]: Using backend SequentialBackend with 1 concurrent workers.\n"
          ],
          "name": "stderr"
        },
        {
          "output_type": "stream",
          "text": [
            "[GraphicalLassoCV] Done refinement  3 out of 4:  20s\n"
          ],
          "name": "stdout"
        },
        {
          "output_type": "stream",
          "text": [
            "[Parallel(n_jobs=1)]: Done   3 out of   3 | elapsed:   11.1s finished\n"
          ],
          "name": "stderr"
        },
        {
          "output_type": "stream",
          "text": [
            "[GraphicalLassoCV] Done refinement  4 out of 4:  31s\n"
          ],
          "name": "stdout"
        },
        {
          "output_type": "stream",
          "text": [
            "[Parallel(n_jobs=1)]: Using backend SequentialBackend with 1 concurrent workers.\n",
            "[Parallel(n_jobs=1)]: Done   3 out of   3 | elapsed:    3.5s finished\n",
            "[Parallel(n_jobs=1)]: Using backend SequentialBackend with 1 concurrent workers.\n"
          ],
          "name": "stderr"
        },
        {
          "output_type": "stream",
          "text": [
            "[GraphicalLassoCV] Done refinement  1 out of 4:   3s\n"
          ],
          "name": "stdout"
        },
        {
          "output_type": "stream",
          "text": [
            "[Parallel(n_jobs=1)]: Done   3 out of   3 | elapsed:    4.9s finished\n",
            "[Parallel(n_jobs=1)]: Using backend SequentialBackend with 1 concurrent workers.\n"
          ],
          "name": "stderr"
        },
        {
          "output_type": "stream",
          "text": [
            "[GraphicalLassoCV] Done refinement  2 out of 4:   8s\n"
          ],
          "name": "stdout"
        },
        {
          "output_type": "stream",
          "text": [
            "[Parallel(n_jobs=1)]: Done   3 out of   3 | elapsed:    5.8s finished\n",
            "[Parallel(n_jobs=1)]: Using backend SequentialBackend with 1 concurrent workers.\n"
          ],
          "name": "stderr"
        },
        {
          "output_type": "stream",
          "text": [
            "[GraphicalLassoCV] Done refinement  3 out of 4:  14s\n"
          ],
          "name": "stdout"
        },
        {
          "output_type": "stream",
          "text": [
            "[Parallel(n_jobs=1)]: Done   3 out of   3 | elapsed:    7.6s finished\n"
          ],
          "name": "stderr"
        },
        {
          "output_type": "stream",
          "text": [
            "[GraphicalLassoCV] Done refinement  4 out of 4:  21s\n"
          ],
          "name": "stdout"
        },
        {
          "output_type": "stream",
          "text": [
            "[Parallel(n_jobs=1)]: Using backend SequentialBackend with 1 concurrent workers.\n",
            "[Parallel(n_jobs=1)]: Done   3 out of   3 | elapsed:    3.6s finished\n",
            "[Parallel(n_jobs=1)]: Using backend SequentialBackend with 1 concurrent workers.\n"
          ],
          "name": "stderr"
        },
        {
          "output_type": "stream",
          "text": [
            "[GraphicalLassoCV] Done refinement  1 out of 4:   3s\n"
          ],
          "name": "stdout"
        },
        {
          "output_type": "stream",
          "text": [
            "[Parallel(n_jobs=1)]: Done   3 out of   3 | elapsed:    6.2s finished\n",
            "[Parallel(n_jobs=1)]: Using backend SequentialBackend with 1 concurrent workers.\n"
          ],
          "name": "stderr"
        },
        {
          "output_type": "stream",
          "text": [
            "[GraphicalLassoCV] Done refinement  2 out of 4:   9s\n"
          ],
          "name": "stdout"
        },
        {
          "output_type": "stream",
          "text": [
            "[Parallel(n_jobs=1)]: Done   3 out of   3 | elapsed:    9.9s finished\n",
            "[Parallel(n_jobs=1)]: Using backend SequentialBackend with 1 concurrent workers.\n"
          ],
          "name": "stderr"
        },
        {
          "output_type": "stream",
          "text": [
            "[GraphicalLassoCV] Done refinement  3 out of 4:  19s\n"
          ],
          "name": "stdout"
        },
        {
          "output_type": "stream",
          "text": [
            "[Parallel(n_jobs=1)]: Done   3 out of   3 | elapsed:    9.0s finished\n"
          ],
          "name": "stderr"
        },
        {
          "output_type": "stream",
          "text": [
            "[GraphicalLassoCV] Done refinement  4 out of 4:  28s\n"
          ],
          "name": "stdout"
        },
        {
          "output_type": "stream",
          "text": [
            "[Parallel(n_jobs=1)]: Using backend SequentialBackend with 1 concurrent workers.\n",
            "[Parallel(n_jobs=1)]: Done   3 out of   3 | elapsed:    3.1s finished\n",
            "[Parallel(n_jobs=1)]: Using backend SequentialBackend with 1 concurrent workers.\n"
          ],
          "name": "stderr"
        },
        {
          "output_type": "stream",
          "text": [
            "[GraphicalLassoCV] Done refinement  1 out of 4:   3s\n"
          ],
          "name": "stdout"
        },
        {
          "output_type": "stream",
          "text": [
            "[Parallel(n_jobs=1)]: Done   3 out of   3 | elapsed:    7.8s finished\n",
            "[Parallel(n_jobs=1)]: Using backend SequentialBackend with 1 concurrent workers.\n"
          ],
          "name": "stderr"
        },
        {
          "output_type": "stream",
          "text": [
            "[GraphicalLassoCV] Done refinement  2 out of 4:  10s\n"
          ],
          "name": "stdout"
        },
        {
          "output_type": "stream",
          "text": [
            "[Parallel(n_jobs=1)]: Done   3 out of   3 | elapsed:    9.6s finished\n",
            "[Parallel(n_jobs=1)]: Using backend SequentialBackend with 1 concurrent workers.\n"
          ],
          "name": "stderr"
        },
        {
          "output_type": "stream",
          "text": [
            "[GraphicalLassoCV] Done refinement  3 out of 4:  20s\n"
          ],
          "name": "stdout"
        },
        {
          "output_type": "stream",
          "text": [
            "[Parallel(n_jobs=1)]: Done   3 out of   3 | elapsed:   10.6s finished\n"
          ],
          "name": "stderr"
        },
        {
          "output_type": "stream",
          "text": [
            "[GraphicalLassoCV] Done refinement  4 out of 4:  31s\n"
          ],
          "name": "stdout"
        },
        {
          "output_type": "stream",
          "text": [
            "[Parallel(n_jobs=1)]: Using backend SequentialBackend with 1 concurrent workers.\n",
            "[Parallel(n_jobs=1)]: Done   3 out of   3 | elapsed:    3.3s finished\n",
            "[Parallel(n_jobs=1)]: Using backend SequentialBackend with 1 concurrent workers.\n"
          ],
          "name": "stderr"
        },
        {
          "output_type": "stream",
          "text": [
            "[GraphicalLassoCV] Done refinement  1 out of 4:   3s\n"
          ],
          "name": "stdout"
        },
        {
          "output_type": "stream",
          "text": [
            "[Parallel(n_jobs=1)]: Done   3 out of   3 | elapsed:    6.6s finished\n",
            "[Parallel(n_jobs=1)]: Using backend SequentialBackend with 1 concurrent workers.\n"
          ],
          "name": "stderr"
        },
        {
          "output_type": "stream",
          "text": [
            "[GraphicalLassoCV] Done refinement  2 out of 4:   9s\n"
          ],
          "name": "stdout"
        },
        {
          "output_type": "stream",
          "text": [
            "[Parallel(n_jobs=1)]: Done   3 out of   3 | elapsed:    9.5s finished\n",
            "[Parallel(n_jobs=1)]: Using backend SequentialBackend with 1 concurrent workers.\n"
          ],
          "name": "stderr"
        },
        {
          "output_type": "stream",
          "text": [
            "[GraphicalLassoCV] Done refinement  3 out of 4:  19s\n"
          ],
          "name": "stdout"
        },
        {
          "output_type": "stream",
          "text": [
            "[Parallel(n_jobs=1)]: Done   3 out of   3 | elapsed:    9.9s finished\n"
          ],
          "name": "stderr"
        },
        {
          "output_type": "stream",
          "text": [
            "[GraphicalLassoCV] Done refinement  4 out of 4:  29s\n"
          ],
          "name": "stdout"
        },
        {
          "output_type": "stream",
          "text": [
            "[Parallel(n_jobs=1)]: Using backend SequentialBackend with 1 concurrent workers.\n",
            "/usr/local/lib/python3.7/dist-packages/sklearn/covariance/_graph_lasso.py:238: RuntimeWarning: invalid value encountered in multiply\n",
            "  * coefs)\n",
            "/usr/local/lib/python3.7/dist-packages/sklearn/covariance/_graph_lasso.py:240: RuntimeWarning: invalid value encountered in multiply\n",
            "  * coefs)\n",
            "[Parallel(n_jobs=1)]: Done   3 out of   3 | elapsed:    3.9s finished\n",
            "[Parallel(n_jobs=1)]: Using backend SequentialBackend with 1 concurrent workers.\n"
          ],
          "name": "stderr"
        },
        {
          "output_type": "stream",
          "text": [
            "[GraphicalLassoCV] Done refinement  1 out of 4:   3s\n"
          ],
          "name": "stdout"
        },
        {
          "output_type": "stream",
          "text": [
            "[Parallel(n_jobs=1)]: Done   3 out of   3 | elapsed:    4.8s finished\n",
            "[Parallel(n_jobs=1)]: Using backend SequentialBackend with 1 concurrent workers.\n"
          ],
          "name": "stderr"
        },
        {
          "output_type": "stream",
          "text": [
            "[GraphicalLassoCV] Done refinement  2 out of 4:   8s\n"
          ],
          "name": "stdout"
        },
        {
          "output_type": "stream",
          "text": [
            "[Parallel(n_jobs=1)]: Done   3 out of   3 | elapsed:    8.0s finished\n",
            "[Parallel(n_jobs=1)]: Using backend SequentialBackend with 1 concurrent workers.\n"
          ],
          "name": "stderr"
        },
        {
          "output_type": "stream",
          "text": [
            "[GraphicalLassoCV] Done refinement  3 out of 4:  16s\n"
          ],
          "name": "stdout"
        },
        {
          "output_type": "stream",
          "text": [
            "[Parallel(n_jobs=1)]: Done   3 out of   3 | elapsed:    8.9s finished\n"
          ],
          "name": "stderr"
        },
        {
          "output_type": "stream",
          "text": [
            "[GraphicalLassoCV] Done refinement  4 out of 4:  25s\n"
          ],
          "name": "stdout"
        },
        {
          "output_type": "stream",
          "text": [
            "[Parallel(n_jobs=1)]: Using backend SequentialBackend with 1 concurrent workers.\n",
            "[Parallel(n_jobs=1)]: Done   3 out of   3 | elapsed:    8.1s finished\n",
            "[Parallel(n_jobs=1)]: Using backend SequentialBackend with 1 concurrent workers.\n"
          ],
          "name": "stderr"
        },
        {
          "output_type": "stream",
          "text": [
            "[GraphicalLassoCV] Done refinement  1 out of 4:   8s\n"
          ],
          "name": "stdout"
        },
        {
          "output_type": "stream",
          "text": [
            "[Parallel(n_jobs=1)]: Done   3 out of   3 | elapsed:    7.6s finished\n",
            "[Parallel(n_jobs=1)]: Using backend SequentialBackend with 1 concurrent workers.\n"
          ],
          "name": "stderr"
        },
        {
          "output_type": "stream",
          "text": [
            "[GraphicalLassoCV] Done refinement  2 out of 4:  15s\n"
          ],
          "name": "stdout"
        },
        {
          "output_type": "stream",
          "text": [
            "[Parallel(n_jobs=1)]: Done   3 out of   3 | elapsed:    9.7s finished\n",
            "[Parallel(n_jobs=1)]: Using backend SequentialBackend with 1 concurrent workers.\n"
          ],
          "name": "stderr"
        },
        {
          "output_type": "stream",
          "text": [
            "[GraphicalLassoCV] Done refinement  3 out of 4:  25s\n"
          ],
          "name": "stdout"
        },
        {
          "output_type": "stream",
          "text": [
            "[Parallel(n_jobs=1)]: Done   3 out of   3 | elapsed:   10.3s finished\n"
          ],
          "name": "stderr"
        },
        {
          "output_type": "stream",
          "text": [
            "[GraphicalLassoCV] Done refinement  4 out of 4:  35s\n"
          ],
          "name": "stdout"
        },
        {
          "output_type": "stream",
          "text": [
            "[Parallel(n_jobs=1)]: Using backend SequentialBackend with 1 concurrent workers.\n",
            "[Parallel(n_jobs=1)]: Done   3 out of   3 | elapsed:    3.1s finished\n",
            "[Parallel(n_jobs=1)]: Using backend SequentialBackend with 1 concurrent workers.\n"
          ],
          "name": "stderr"
        },
        {
          "output_type": "stream",
          "text": [
            "[GraphicalLassoCV] Done refinement  1 out of 4:   3s\n"
          ],
          "name": "stdout"
        },
        {
          "output_type": "stream",
          "text": [
            "[Parallel(n_jobs=1)]: Done   3 out of   3 | elapsed:    8.3s finished\n",
            "[Parallel(n_jobs=1)]: Using backend SequentialBackend with 1 concurrent workers.\n"
          ],
          "name": "stderr"
        },
        {
          "output_type": "stream",
          "text": [
            "[GraphicalLassoCV] Done refinement  2 out of 4:  11s\n"
          ],
          "name": "stdout"
        },
        {
          "output_type": "stream",
          "text": [
            "[Parallel(n_jobs=1)]: Done   3 out of   3 | elapsed:    5.7s finished\n",
            "[Parallel(n_jobs=1)]: Using backend SequentialBackend with 1 concurrent workers.\n"
          ],
          "name": "stderr"
        },
        {
          "output_type": "stream",
          "text": [
            "[GraphicalLassoCV] Done refinement  3 out of 4:  17s\n"
          ],
          "name": "stdout"
        },
        {
          "output_type": "stream",
          "text": [
            "[Parallel(n_jobs=1)]: Done   3 out of   3 | elapsed:    6.0s finished\n"
          ],
          "name": "stderr"
        },
        {
          "output_type": "stream",
          "text": [
            "[GraphicalLassoCV] Done refinement  4 out of 4:  23s\n"
          ],
          "name": "stdout"
        },
        {
          "output_type": "stream",
          "text": [
            "[Parallel(n_jobs=1)]: Using backend SequentialBackend with 1 concurrent workers.\n",
            "[Parallel(n_jobs=1)]: Done   3 out of   3 | elapsed:    3.0s finished\n",
            "[Parallel(n_jobs=1)]: Using backend SequentialBackend with 1 concurrent workers.\n"
          ],
          "name": "stderr"
        },
        {
          "output_type": "stream",
          "text": [
            "[GraphicalLassoCV] Done refinement  1 out of 4:   3s\n"
          ],
          "name": "stdout"
        },
        {
          "output_type": "stream",
          "text": [
            "[Parallel(n_jobs=1)]: Done   3 out of   3 | elapsed:    6.6s finished\n",
            "[Parallel(n_jobs=1)]: Using backend SequentialBackend with 1 concurrent workers.\n"
          ],
          "name": "stderr"
        },
        {
          "output_type": "stream",
          "text": [
            "[GraphicalLassoCV] Done refinement  2 out of 4:   9s\n"
          ],
          "name": "stdout"
        },
        {
          "output_type": "stream",
          "text": [
            "[Parallel(n_jobs=1)]: Done   3 out of   3 | elapsed:   11.0s finished\n",
            "[Parallel(n_jobs=1)]: Using backend SequentialBackend with 1 concurrent workers.\n"
          ],
          "name": "stderr"
        },
        {
          "output_type": "stream",
          "text": [
            "[GraphicalLassoCV] Done refinement  3 out of 4:  20s\n"
          ],
          "name": "stdout"
        },
        {
          "output_type": "stream",
          "text": [
            "[Parallel(n_jobs=1)]: Done   3 out of   3 | elapsed:   11.4s finished\n"
          ],
          "name": "stderr"
        },
        {
          "output_type": "stream",
          "text": [
            "[GraphicalLassoCV] Done refinement  4 out of 4:  31s\n"
          ],
          "name": "stdout"
        },
        {
          "output_type": "stream",
          "text": [
            "[Parallel(n_jobs=1)]: Using backend SequentialBackend with 1 concurrent workers.\n",
            "[Parallel(n_jobs=1)]: Done   3 out of   3 | elapsed:    3.6s finished\n",
            "[Parallel(n_jobs=1)]: Using backend SequentialBackend with 1 concurrent workers.\n"
          ],
          "name": "stderr"
        },
        {
          "output_type": "stream",
          "text": [
            "[GraphicalLassoCV] Done refinement  1 out of 4:   3s\n"
          ],
          "name": "stdout"
        },
        {
          "output_type": "stream",
          "text": [
            "[Parallel(n_jobs=1)]: Done   3 out of   3 | elapsed:    3.6s finished\n",
            "[Parallel(n_jobs=1)]: Using backend SequentialBackend with 1 concurrent workers.\n"
          ],
          "name": "stderr"
        },
        {
          "output_type": "stream",
          "text": [
            "[GraphicalLassoCV] Done refinement  2 out of 4:   7s\n"
          ],
          "name": "stdout"
        },
        {
          "output_type": "stream",
          "text": [
            "[Parallel(n_jobs=1)]: Done   3 out of   3 | elapsed:    5.1s finished\n",
            "[Parallel(n_jobs=1)]: Using backend SequentialBackend with 1 concurrent workers.\n"
          ],
          "name": "stderr"
        },
        {
          "output_type": "stream",
          "text": [
            "[GraphicalLassoCV] Done refinement  3 out of 4:  12s\n"
          ],
          "name": "stdout"
        },
        {
          "output_type": "stream",
          "text": [
            "[Parallel(n_jobs=1)]: Done   3 out of   3 | elapsed:    5.6s finished\n"
          ],
          "name": "stderr"
        },
        {
          "output_type": "stream",
          "text": [
            "[GraphicalLassoCV] Done refinement  4 out of 4:  17s\n"
          ],
          "name": "stdout"
        },
        {
          "output_type": "stream",
          "text": [
            "[Parallel(n_jobs=1)]: Using backend SequentialBackend with 1 concurrent workers.\n",
            "[Parallel(n_jobs=1)]: Done   3 out of   3 | elapsed:    2.8s finished\n",
            "[Parallel(n_jobs=1)]: Using backend SequentialBackend with 1 concurrent workers.\n"
          ],
          "name": "stderr"
        },
        {
          "output_type": "stream",
          "text": [
            "[GraphicalLassoCV] Done refinement  1 out of 4:   2s\n"
          ],
          "name": "stdout"
        },
        {
          "output_type": "stream",
          "text": [
            "/usr/local/lib/python3.7/dist-packages/sklearn/covariance/_graph_lasso.py:238: RuntimeWarning: invalid value encountered in multiply\n",
            "  * coefs)\n",
            "/usr/local/lib/python3.7/dist-packages/sklearn/covariance/_graph_lasso.py:240: RuntimeWarning: invalid value encountered in multiply\n",
            "  * coefs)\n",
            "[Parallel(n_jobs=1)]: Done   3 out of   3 | elapsed:    4.9s finished\n",
            "[Parallel(n_jobs=1)]: Using backend SequentialBackend with 1 concurrent workers.\n"
          ],
          "name": "stderr"
        },
        {
          "output_type": "stream",
          "text": [
            "[GraphicalLassoCV] Done refinement  2 out of 4:   7s\n"
          ],
          "name": "stdout"
        },
        {
          "output_type": "stream",
          "text": [
            "[Parallel(n_jobs=1)]: Done   3 out of   3 | elapsed:    6.3s finished\n",
            "[Parallel(n_jobs=1)]: Using backend SequentialBackend with 1 concurrent workers.\n"
          ],
          "name": "stderr"
        },
        {
          "output_type": "stream",
          "text": [
            "[GraphicalLassoCV] Done refinement  3 out of 4:  14s\n"
          ],
          "name": "stdout"
        },
        {
          "output_type": "stream",
          "text": [
            "[Parallel(n_jobs=1)]: Done   3 out of   3 | elapsed:    7.0s finished\n"
          ],
          "name": "stderr"
        },
        {
          "output_type": "stream",
          "text": [
            "[GraphicalLassoCV] Done refinement  4 out of 4:  21s\n"
          ],
          "name": "stdout"
        },
        {
          "output_type": "stream",
          "text": [
            "[Parallel(n_jobs=1)]: Using backend SequentialBackend with 1 concurrent workers.\n",
            "[Parallel(n_jobs=1)]: Done   3 out of   3 | elapsed:    3.2s finished\n",
            "[Parallel(n_jobs=1)]: Using backend SequentialBackend with 1 concurrent workers.\n"
          ],
          "name": "stderr"
        },
        {
          "output_type": "stream",
          "text": [
            "[GraphicalLassoCV] Done refinement  1 out of 4:   3s\n"
          ],
          "name": "stdout"
        },
        {
          "output_type": "stream",
          "text": [
            "[Parallel(n_jobs=1)]: Done   3 out of   3 | elapsed:    4.5s finished\n",
            "[Parallel(n_jobs=1)]: Using backend SequentialBackend with 1 concurrent workers.\n"
          ],
          "name": "stderr"
        },
        {
          "output_type": "stream",
          "text": [
            "[GraphicalLassoCV] Done refinement  2 out of 4:   7s\n"
          ],
          "name": "stdout"
        },
        {
          "output_type": "stream",
          "text": [
            "[Parallel(n_jobs=1)]: Done   3 out of   3 | elapsed:    4.3s finished\n",
            "[Parallel(n_jobs=1)]: Using backend SequentialBackend with 1 concurrent workers.\n"
          ],
          "name": "stderr"
        },
        {
          "output_type": "stream",
          "text": [
            "[GraphicalLassoCV] Done refinement  3 out of 4:  12s\n"
          ],
          "name": "stdout"
        },
        {
          "output_type": "stream",
          "text": [
            "[Parallel(n_jobs=1)]: Done   3 out of   3 | elapsed:    5.0s finished\n"
          ],
          "name": "stderr"
        },
        {
          "output_type": "stream",
          "text": [
            "[GraphicalLassoCV] Done refinement  4 out of 4:  17s\n"
          ],
          "name": "stdout"
        },
        {
          "output_type": "stream",
          "text": [
            "[Parallel(n_jobs=1)]: Using backend SequentialBackend with 1 concurrent workers.\n",
            "[Parallel(n_jobs=1)]: Done   3 out of   3 | elapsed:    3.2s finished\n",
            "[Parallel(n_jobs=1)]: Using backend SequentialBackend with 1 concurrent workers.\n"
          ],
          "name": "stderr"
        },
        {
          "output_type": "stream",
          "text": [
            "[GraphicalLassoCV] Done refinement  1 out of 4:   3s\n"
          ],
          "name": "stdout"
        },
        {
          "output_type": "stream",
          "text": [
            "[Parallel(n_jobs=1)]: Done   3 out of   3 | elapsed:    6.9s finished\n",
            "[Parallel(n_jobs=1)]: Using backend SequentialBackend with 1 concurrent workers.\n"
          ],
          "name": "stderr"
        },
        {
          "output_type": "stream",
          "text": [
            "[GraphicalLassoCV] Done refinement  2 out of 4:  10s\n"
          ],
          "name": "stdout"
        },
        {
          "output_type": "stream",
          "text": [
            "[Parallel(n_jobs=1)]: Done   3 out of   3 | elapsed:    6.8s finished\n",
            "[Parallel(n_jobs=1)]: Using backend SequentialBackend with 1 concurrent workers.\n"
          ],
          "name": "stderr"
        },
        {
          "output_type": "stream",
          "text": [
            "[GraphicalLassoCV] Done refinement  3 out of 4:  16s\n"
          ],
          "name": "stdout"
        },
        {
          "output_type": "stream",
          "text": [
            "[Parallel(n_jobs=1)]: Done   3 out of   3 | elapsed:    7.3s finished\n"
          ],
          "name": "stderr"
        },
        {
          "output_type": "stream",
          "text": [
            "[GraphicalLassoCV] Done refinement  4 out of 4:  24s\n"
          ],
          "name": "stdout"
        },
        {
          "output_type": "stream",
          "text": [
            "[Parallel(n_jobs=1)]: Using backend SequentialBackend with 1 concurrent workers.\n",
            "[Parallel(n_jobs=1)]: Done   3 out of   3 | elapsed:    2.8s finished\n",
            "[Parallel(n_jobs=1)]: Using backend SequentialBackend with 1 concurrent workers.\n"
          ],
          "name": "stderr"
        },
        {
          "output_type": "stream",
          "text": [
            "[GraphicalLassoCV] Done refinement  1 out of 4:   2s\n"
          ],
          "name": "stdout"
        },
        {
          "output_type": "stream",
          "text": [
            "[Parallel(n_jobs=1)]: Done   3 out of   3 | elapsed:    3.3s finished\n",
            "[Parallel(n_jobs=1)]: Using backend SequentialBackend with 1 concurrent workers.\n"
          ],
          "name": "stderr"
        },
        {
          "output_type": "stream",
          "text": [
            "[GraphicalLassoCV] Done refinement  2 out of 4:   6s\n"
          ],
          "name": "stdout"
        },
        {
          "output_type": "stream",
          "text": [
            "[Parallel(n_jobs=1)]: Done   3 out of   3 | elapsed:    4.6s finished\n",
            "[Parallel(n_jobs=1)]: Using backend SequentialBackend with 1 concurrent workers.\n"
          ],
          "name": "stderr"
        },
        {
          "output_type": "stream",
          "text": [
            "[GraphicalLassoCV] Done refinement  3 out of 4:  10s\n"
          ],
          "name": "stdout"
        },
        {
          "output_type": "stream",
          "text": [
            "[Parallel(n_jobs=1)]: Done   3 out of   3 | elapsed:    6.5s finished\n"
          ],
          "name": "stderr"
        },
        {
          "output_type": "stream",
          "text": [
            "[GraphicalLassoCV] Done refinement  4 out of 4:  17s\n"
          ],
          "name": "stdout"
        },
        {
          "output_type": "stream",
          "text": [
            "[Parallel(n_jobs=1)]: Using backend SequentialBackend with 1 concurrent workers.\n",
            "[Parallel(n_jobs=1)]: Done   3 out of   3 | elapsed:    3.1s finished\n",
            "[Parallel(n_jobs=1)]: Using backend SequentialBackend with 1 concurrent workers.\n"
          ],
          "name": "stderr"
        },
        {
          "output_type": "stream",
          "text": [
            "[GraphicalLassoCV] Done refinement  1 out of 4:   3s\n"
          ],
          "name": "stdout"
        },
        {
          "output_type": "stream",
          "text": [
            "[Parallel(n_jobs=1)]: Done   3 out of   3 | elapsed:    4.5s finished\n",
            "[Parallel(n_jobs=1)]: Using backend SequentialBackend with 1 concurrent workers.\n"
          ],
          "name": "stderr"
        },
        {
          "output_type": "stream",
          "text": [
            "[GraphicalLassoCV] Done refinement  2 out of 4:   7s\n"
          ],
          "name": "stdout"
        },
        {
          "output_type": "stream",
          "text": [
            "[Parallel(n_jobs=1)]: Done   3 out of   3 | elapsed:    7.5s finished\n",
            "[Parallel(n_jobs=1)]: Using backend SequentialBackend with 1 concurrent workers.\n"
          ],
          "name": "stderr"
        },
        {
          "output_type": "stream",
          "text": [
            "[GraphicalLassoCV] Done refinement  3 out of 4:  15s\n"
          ],
          "name": "stdout"
        },
        {
          "output_type": "stream",
          "text": [
            "[Parallel(n_jobs=1)]: Done   3 out of   3 | elapsed:    8.6s finished\n"
          ],
          "name": "stderr"
        },
        {
          "output_type": "stream",
          "text": [
            "[GraphicalLassoCV] Done refinement  4 out of 4:  23s\n"
          ],
          "name": "stdout"
        },
        {
          "output_type": "stream",
          "text": [
            "[Parallel(n_jobs=1)]: Using backend SequentialBackend with 1 concurrent workers.\n",
            "/usr/local/lib/python3.7/dist-packages/sklearn/covariance/_graph_lasso.py:238: RuntimeWarning: invalid value encountered in multiply\n",
            "  * coefs)\n",
            "/usr/local/lib/python3.7/dist-packages/sklearn/covariance/_graph_lasso.py:240: RuntimeWarning: invalid value encountered in multiply\n",
            "  * coefs)\n",
            "[Parallel(n_jobs=1)]: Done   3 out of   3 | elapsed:    4.0s finished\n",
            "[Parallel(n_jobs=1)]: Using backend SequentialBackend with 1 concurrent workers.\n"
          ],
          "name": "stderr"
        },
        {
          "output_type": "stream",
          "text": [
            "[GraphicalLassoCV] Done refinement  1 out of 4:   4s\n"
          ],
          "name": "stdout"
        },
        {
          "output_type": "stream",
          "text": [
            "[Parallel(n_jobs=1)]: Done   3 out of   3 | elapsed:    6.4s finished\n",
            "[Parallel(n_jobs=1)]: Using backend SequentialBackend with 1 concurrent workers.\n"
          ],
          "name": "stderr"
        },
        {
          "output_type": "stream",
          "text": [
            "[GraphicalLassoCV] Done refinement  2 out of 4:  10s\n"
          ],
          "name": "stdout"
        },
        {
          "output_type": "stream",
          "text": [
            "[Parallel(n_jobs=1)]: Done   3 out of   3 | elapsed:    9.4s finished\n",
            "[Parallel(n_jobs=1)]: Using backend SequentialBackend with 1 concurrent workers.\n"
          ],
          "name": "stderr"
        },
        {
          "output_type": "stream",
          "text": [
            "[GraphicalLassoCV] Done refinement  3 out of 4:  19s\n"
          ],
          "name": "stdout"
        },
        {
          "output_type": "stream",
          "text": [
            "[Parallel(n_jobs=1)]: Done   3 out of   3 | elapsed:    9.4s finished\n"
          ],
          "name": "stderr"
        },
        {
          "output_type": "stream",
          "text": [
            "[GraphicalLassoCV] Done refinement  4 out of 4:  29s\n"
          ],
          "name": "stdout"
        },
        {
          "output_type": "stream",
          "text": [
            "[Parallel(n_jobs=1)]: Using backend SequentialBackend with 1 concurrent workers.\n",
            "[Parallel(n_jobs=1)]: Done   3 out of   3 | elapsed:    3.6s finished\n",
            "[Parallel(n_jobs=1)]: Using backend SequentialBackend with 1 concurrent workers.\n"
          ],
          "name": "stderr"
        },
        {
          "output_type": "stream",
          "text": [
            "[GraphicalLassoCV] Done refinement  1 out of 4:   3s\n"
          ],
          "name": "stdout"
        },
        {
          "output_type": "stream",
          "text": [
            "[Parallel(n_jobs=1)]: Done   3 out of   3 | elapsed:    6.1s finished\n",
            "[Parallel(n_jobs=1)]: Using backend SequentialBackend with 1 concurrent workers.\n"
          ],
          "name": "stderr"
        },
        {
          "output_type": "stream",
          "text": [
            "[GraphicalLassoCV] Done refinement  2 out of 4:   9s\n"
          ],
          "name": "stdout"
        },
        {
          "output_type": "stream",
          "text": [
            "[Parallel(n_jobs=1)]: Done   3 out of   3 | elapsed:    4.0s finished\n",
            "[Parallel(n_jobs=1)]: Using backend SequentialBackend with 1 concurrent workers.\n"
          ],
          "name": "stderr"
        },
        {
          "output_type": "stream",
          "text": [
            "[GraphicalLassoCV] Done refinement  3 out of 4:  13s\n"
          ],
          "name": "stdout"
        },
        {
          "output_type": "stream",
          "text": [
            "[Parallel(n_jobs=1)]: Done   3 out of   3 | elapsed:    4.6s finished\n"
          ],
          "name": "stderr"
        },
        {
          "output_type": "stream",
          "text": [
            "[GraphicalLassoCV] Done refinement  4 out of 4:  18s\n"
          ],
          "name": "stdout"
        },
        {
          "output_type": "stream",
          "text": [
            "[Parallel(n_jobs=1)]: Using backend SequentialBackend with 1 concurrent workers.\n",
            "/usr/local/lib/python3.7/dist-packages/sklearn/covariance/_graph_lasso.py:238: RuntimeWarning: invalid value encountered in multiply\n",
            "  * coefs)\n",
            "/usr/local/lib/python3.7/dist-packages/sklearn/covariance/_graph_lasso.py:240: RuntimeWarning: invalid value encountered in multiply\n",
            "  * coefs)\n",
            "[Parallel(n_jobs=1)]: Done   3 out of   3 | elapsed:    3.3s finished\n",
            "[Parallel(n_jobs=1)]: Using backend SequentialBackend with 1 concurrent workers.\n"
          ],
          "name": "stderr"
        },
        {
          "output_type": "stream",
          "text": [
            "[GraphicalLassoCV] Done refinement  1 out of 4:   3s\n"
          ],
          "name": "stdout"
        },
        {
          "output_type": "stream",
          "text": [
            "[Parallel(n_jobs=1)]: Done   3 out of   3 | elapsed:    3.8s finished\n",
            "[Parallel(n_jobs=1)]: Using backend SequentialBackend with 1 concurrent workers.\n"
          ],
          "name": "stderr"
        },
        {
          "output_type": "stream",
          "text": [
            "[GraphicalLassoCV] Done refinement  2 out of 4:   7s\n"
          ],
          "name": "stdout"
        },
        {
          "output_type": "stream",
          "text": [
            "[Parallel(n_jobs=1)]: Done   3 out of   3 | elapsed:    6.5s finished\n",
            "[Parallel(n_jobs=1)]: Using backend SequentialBackend with 1 concurrent workers.\n"
          ],
          "name": "stderr"
        },
        {
          "output_type": "stream",
          "text": [
            "[GraphicalLassoCV] Done refinement  3 out of 4:  13s\n"
          ],
          "name": "stdout"
        },
        {
          "output_type": "stream",
          "text": [
            "[Parallel(n_jobs=1)]: Done   3 out of   3 | elapsed:    8.5s finished\n"
          ],
          "name": "stderr"
        },
        {
          "output_type": "stream",
          "text": [
            "[GraphicalLassoCV] Done refinement  4 out of 4:  22s\n"
          ],
          "name": "stdout"
        },
        {
          "output_type": "stream",
          "text": [
            "[Parallel(n_jobs=1)]: Using backend SequentialBackend with 1 concurrent workers.\n",
            "[Parallel(n_jobs=1)]: Done   3 out of   3 | elapsed:    5.9s finished\n",
            "[Parallel(n_jobs=1)]: Using backend SequentialBackend with 1 concurrent workers.\n"
          ],
          "name": "stderr"
        },
        {
          "output_type": "stream",
          "text": [
            "[GraphicalLassoCV] Done refinement  1 out of 4:   5s\n"
          ],
          "name": "stdout"
        },
        {
          "output_type": "stream",
          "text": [
            "[Parallel(n_jobs=1)]: Done   3 out of   3 | elapsed:    9.8s finished\n",
            "[Parallel(n_jobs=1)]: Using backend SequentialBackend with 1 concurrent workers.\n"
          ],
          "name": "stderr"
        },
        {
          "output_type": "stream",
          "text": [
            "[GraphicalLassoCV] Done refinement  2 out of 4:  15s\n"
          ],
          "name": "stdout"
        },
        {
          "output_type": "stream",
          "text": [
            "[Parallel(n_jobs=1)]: Done   3 out of   3 | elapsed:   10.5s finished\n",
            "[Parallel(n_jobs=1)]: Using backend SequentialBackend with 1 concurrent workers.\n"
          ],
          "name": "stderr"
        },
        {
          "output_type": "stream",
          "text": [
            "[GraphicalLassoCV] Done refinement  3 out of 4:  26s\n"
          ],
          "name": "stdout"
        },
        {
          "output_type": "stream",
          "text": [
            "[Parallel(n_jobs=1)]: Done   3 out of   3 | elapsed:   10.7s finished\n"
          ],
          "name": "stderr"
        },
        {
          "output_type": "stream",
          "text": [
            "[GraphicalLassoCV] Done refinement  4 out of 4:  36s\n"
          ],
          "name": "stdout"
        },
        {
          "output_type": "stream",
          "text": [
            "/usr/local/lib/python3.7/dist-packages/sklearn/covariance/_graph_lasso.py:263: ConvergenceWarning: graphical_lasso: did not converge after 100 iteration: dual gap: -1.578e-04\n",
            "  % (max_iter, d_gap), ConvergenceWarning)\n",
            "[Parallel(n_jobs=1)]: Using backend SequentialBackend with 1 concurrent workers.\n",
            "[Parallel(n_jobs=1)]: Done   3 out of   3 | elapsed:    3.5s finished\n",
            "[Parallel(n_jobs=1)]: Using backend SequentialBackend with 1 concurrent workers.\n"
          ],
          "name": "stderr"
        },
        {
          "output_type": "stream",
          "text": [
            "[GraphicalLassoCV] Done refinement  1 out of 4:   3s\n"
          ],
          "name": "stdout"
        },
        {
          "output_type": "stream",
          "text": [
            "/usr/local/lib/python3.7/dist-packages/sklearn/covariance/_graph_lasso.py:238: RuntimeWarning: overflow encountered in multiply\n",
            "  * coefs)\n",
            "/usr/local/lib/python3.7/dist-packages/sklearn/covariance/_graph_lasso.py:240: RuntimeWarning: overflow encountered in multiply\n",
            "  * coefs)\n",
            "/usr/local/lib/python3.7/dist-packages/numpy/core/_methods.py:47: RuntimeWarning: overflow encountered in reduce\n",
            "  return umr_sum(a, axis, dtype, out, keepdims, initial, where)\n",
            "/usr/local/lib/python3.7/dist-packages/numpy/core/_methods.py:47: RuntimeWarning: invalid value encountered in reduce\n",
            "  return umr_sum(a, axis, dtype, out, keepdims, initial, where)\n",
            "[Parallel(n_jobs=1)]: Done   3 out of   3 | elapsed:    4.0s finished\n",
            "[Parallel(n_jobs=1)]: Using backend SequentialBackend with 1 concurrent workers.\n"
          ],
          "name": "stderr"
        },
        {
          "output_type": "stream",
          "text": [
            "[GraphicalLassoCV] Done refinement  2 out of 4:   7s\n"
          ],
          "name": "stdout"
        },
        {
          "output_type": "stream",
          "text": [
            "[Parallel(n_jobs=1)]: Done   3 out of   3 | elapsed:    4.7s finished\n",
            "[Parallel(n_jobs=1)]: Using backend SequentialBackend with 1 concurrent workers.\n"
          ],
          "name": "stderr"
        },
        {
          "output_type": "stream",
          "text": [
            "[GraphicalLassoCV] Done refinement  3 out of 4:  12s\n"
          ],
          "name": "stdout"
        },
        {
          "output_type": "stream",
          "text": [
            "[Parallel(n_jobs=1)]: Done   3 out of   3 | elapsed:    5.8s finished\n"
          ],
          "name": "stderr"
        },
        {
          "output_type": "stream",
          "text": [
            "[GraphicalLassoCV] Done refinement  4 out of 4:  17s\n"
          ],
          "name": "stdout"
        },
        {
          "output_type": "stream",
          "text": [
            "[Parallel(n_jobs=1)]: Using backend SequentialBackend with 1 concurrent workers.\n",
            "[Parallel(n_jobs=1)]: Done   3 out of   3 | elapsed:    3.0s finished\n",
            "[Parallel(n_jobs=1)]: Using backend SequentialBackend with 1 concurrent workers.\n"
          ],
          "name": "stderr"
        },
        {
          "output_type": "stream",
          "text": [
            "[GraphicalLassoCV] Done refinement  1 out of 4:   2s\n"
          ],
          "name": "stdout"
        },
        {
          "output_type": "stream",
          "text": [
            "[Parallel(n_jobs=1)]: Done   3 out of   3 | elapsed:    6.6s finished\n",
            "[Parallel(n_jobs=1)]: Using backend SequentialBackend with 1 concurrent workers.\n"
          ],
          "name": "stderr"
        },
        {
          "output_type": "stream",
          "text": [
            "[GraphicalLassoCV] Done refinement  2 out of 4:   9s\n"
          ],
          "name": "stdout"
        },
        {
          "output_type": "stream",
          "text": [
            "[Parallel(n_jobs=1)]: Done   3 out of   3 | elapsed:    9.7s finished\n",
            "[Parallel(n_jobs=1)]: Using backend SequentialBackend with 1 concurrent workers.\n"
          ],
          "name": "stderr"
        },
        {
          "output_type": "stream",
          "text": [
            "[GraphicalLassoCV] Done refinement  3 out of 4:  19s\n"
          ],
          "name": "stdout"
        },
        {
          "output_type": "stream",
          "text": [
            "[Parallel(n_jobs=1)]: Done   3 out of   3 | elapsed:    9.0s finished\n"
          ],
          "name": "stderr"
        },
        {
          "output_type": "stream",
          "text": [
            "[GraphicalLassoCV] Done refinement  4 out of 4:  28s\n"
          ],
          "name": "stdout"
        },
        {
          "output_type": "stream",
          "text": [
            "/usr/local/lib/python3.7/dist-packages/sklearn/covariance/_graph_lasso.py:263: ConvergenceWarning: graphical_lasso: did not converge after 100 iteration: dual gap: 1.658e-04\n",
            "  % (max_iter, d_gap), ConvergenceWarning)\n",
            "[Parallel(n_jobs=1)]: Using backend SequentialBackend with 1 concurrent workers.\n",
            "[Parallel(n_jobs=1)]: Done   3 out of   3 | elapsed:    3.6s finished\n",
            "[Parallel(n_jobs=1)]: Using backend SequentialBackend with 1 concurrent workers.\n"
          ],
          "name": "stderr"
        },
        {
          "output_type": "stream",
          "text": [
            "[GraphicalLassoCV] Done refinement  1 out of 4:   3s\n"
          ],
          "name": "stdout"
        },
        {
          "output_type": "stream",
          "text": [
            "[Parallel(n_jobs=1)]: Done   3 out of   3 | elapsed:    4.0s finished\n",
            "[Parallel(n_jobs=1)]: Using backend SequentialBackend with 1 concurrent workers.\n"
          ],
          "name": "stderr"
        },
        {
          "output_type": "stream",
          "text": [
            "[GraphicalLassoCV] Done refinement  2 out of 4:   7s\n"
          ],
          "name": "stdout"
        },
        {
          "output_type": "stream",
          "text": [
            "[Parallel(n_jobs=1)]: Done   3 out of   3 | elapsed:    3.9s finished\n",
            "[Parallel(n_jobs=1)]: Using backend SequentialBackend with 1 concurrent workers.\n"
          ],
          "name": "stderr"
        },
        {
          "output_type": "stream",
          "text": [
            "[GraphicalLassoCV] Done refinement  3 out of 4:  11s\n"
          ],
          "name": "stdout"
        },
        {
          "output_type": "stream",
          "text": [
            "[Parallel(n_jobs=1)]: Done   3 out of   3 | elapsed:    4.5s finished\n"
          ],
          "name": "stderr"
        },
        {
          "output_type": "stream",
          "text": [
            "[GraphicalLassoCV] Done refinement  4 out of 4:  15s\n"
          ],
          "name": "stdout"
        },
        {
          "output_type": "stream",
          "text": [
            "[Parallel(n_jobs=1)]: Using backend SequentialBackend with 1 concurrent workers.\n",
            "[Parallel(n_jobs=1)]: Done   3 out of   3 | elapsed:    3.9s finished\n",
            "[Parallel(n_jobs=1)]: Using backend SequentialBackend with 1 concurrent workers.\n"
          ],
          "name": "stderr"
        },
        {
          "output_type": "stream",
          "text": [
            "[GraphicalLassoCV] Done refinement  1 out of 4:   3s\n"
          ],
          "name": "stdout"
        },
        {
          "output_type": "stream",
          "text": [
            "[Parallel(n_jobs=1)]: Done   3 out of   3 | elapsed:    4.5s finished\n",
            "[Parallel(n_jobs=1)]: Using backend SequentialBackend with 1 concurrent workers.\n"
          ],
          "name": "stderr"
        },
        {
          "output_type": "stream",
          "text": [
            "[GraphicalLassoCV] Done refinement  2 out of 4:   8s\n"
          ],
          "name": "stdout"
        },
        {
          "output_type": "stream",
          "text": [
            "[Parallel(n_jobs=1)]: Done   3 out of   3 | elapsed:    8.0s finished\n",
            "[Parallel(n_jobs=1)]: Using backend SequentialBackend with 1 concurrent workers.\n"
          ],
          "name": "stderr"
        },
        {
          "output_type": "stream",
          "text": [
            "[GraphicalLassoCV] Done refinement  3 out of 4:  16s\n"
          ],
          "name": "stdout"
        },
        {
          "output_type": "stream",
          "text": [
            "[Parallel(n_jobs=1)]: Done   3 out of   3 | elapsed:    9.3s finished\n"
          ],
          "name": "stderr"
        },
        {
          "output_type": "stream",
          "text": [
            "[GraphicalLassoCV] Done refinement  4 out of 4:  25s\n"
          ],
          "name": "stdout"
        },
        {
          "output_type": "stream",
          "text": [
            "[Parallel(n_jobs=1)]: Using backend SequentialBackend with 1 concurrent workers.\n",
            "[Parallel(n_jobs=1)]: Done   3 out of   3 | elapsed:    3.2s finished\n",
            "[Parallel(n_jobs=1)]: Using backend SequentialBackend with 1 concurrent workers.\n"
          ],
          "name": "stderr"
        },
        {
          "output_type": "stream",
          "text": [
            "[GraphicalLassoCV] Done refinement  1 out of 4:   3s\n"
          ],
          "name": "stdout"
        },
        {
          "output_type": "stream",
          "text": [
            "/usr/local/lib/python3.7/dist-packages/sklearn/covariance/_graph_lasso.py:238: RuntimeWarning: invalid value encountered in multiply\n",
            "  * coefs)\n",
            "/usr/local/lib/python3.7/dist-packages/sklearn/covariance/_graph_lasso.py:240: RuntimeWarning: invalid value encountered in multiply\n",
            "  * coefs)\n",
            "[Parallel(n_jobs=1)]: Done   3 out of   3 | elapsed:    4.1s finished\n",
            "[Parallel(n_jobs=1)]: Using backend SequentialBackend with 1 concurrent workers.\n"
          ],
          "name": "stderr"
        },
        {
          "output_type": "stream",
          "text": [
            "[GraphicalLassoCV] Done refinement  2 out of 4:   7s\n"
          ],
          "name": "stdout"
        },
        {
          "output_type": "stream",
          "text": [
            "[Parallel(n_jobs=1)]: Done   3 out of   3 | elapsed:    4.5s finished\n",
            "[Parallel(n_jobs=1)]: Using backend SequentialBackend with 1 concurrent workers.\n"
          ],
          "name": "stderr"
        },
        {
          "output_type": "stream",
          "text": [
            "[GraphicalLassoCV] Done refinement  3 out of 4:  11s\n"
          ],
          "name": "stdout"
        },
        {
          "output_type": "stream",
          "text": [
            "[Parallel(n_jobs=1)]: Done   3 out of   3 | elapsed:    5.9s finished\n"
          ],
          "name": "stderr"
        },
        {
          "output_type": "stream",
          "text": [
            "[GraphicalLassoCV] Done refinement  4 out of 4:  17s\n"
          ],
          "name": "stdout"
        },
        {
          "output_type": "stream",
          "text": [
            "[Parallel(n_jobs=1)]: Using backend SequentialBackend with 1 concurrent workers.\n",
            "[Parallel(n_jobs=1)]: Done   3 out of   3 | elapsed:    3.0s finished\n",
            "[Parallel(n_jobs=1)]: Using backend SequentialBackend with 1 concurrent workers.\n"
          ],
          "name": "stderr"
        },
        {
          "output_type": "stream",
          "text": [
            "[GraphicalLassoCV] Done refinement  1 out of 4:   3s\n"
          ],
          "name": "stdout"
        },
        {
          "output_type": "stream",
          "text": [
            "[Parallel(n_jobs=1)]: Done   3 out of   3 | elapsed:    4.1s finished\n",
            "[Parallel(n_jobs=1)]: Using backend SequentialBackend with 1 concurrent workers.\n"
          ],
          "name": "stderr"
        },
        {
          "output_type": "stream",
          "text": [
            "[GraphicalLassoCV] Done refinement  2 out of 4:   7s\n"
          ],
          "name": "stdout"
        },
        {
          "output_type": "stream",
          "text": [
            "[Parallel(n_jobs=1)]: Done   3 out of   3 | elapsed:    6.0s finished\n",
            "[Parallel(n_jobs=1)]: Using backend SequentialBackend with 1 concurrent workers.\n"
          ],
          "name": "stderr"
        },
        {
          "output_type": "stream",
          "text": [
            "[GraphicalLassoCV] Done refinement  3 out of 4:  13s\n"
          ],
          "name": "stdout"
        },
        {
          "output_type": "stream",
          "text": [
            "[Parallel(n_jobs=1)]: Done   3 out of   3 | elapsed:    8.3s finished\n"
          ],
          "name": "stderr"
        },
        {
          "output_type": "stream",
          "text": [
            "[GraphicalLassoCV] Done refinement  4 out of 4:  21s\n"
          ],
          "name": "stdout"
        },
        {
          "output_type": "stream",
          "text": [
            "[Parallel(n_jobs=1)]: Using backend SequentialBackend with 1 concurrent workers.\n",
            "[Parallel(n_jobs=1)]: Done   3 out of   3 | elapsed:    3.5s finished\n",
            "[Parallel(n_jobs=1)]: Using backend SequentialBackend with 1 concurrent workers.\n"
          ],
          "name": "stderr"
        },
        {
          "output_type": "stream",
          "text": [
            "[GraphicalLassoCV] Done refinement  1 out of 4:   3s\n"
          ],
          "name": "stdout"
        },
        {
          "output_type": "stream",
          "text": [
            "[Parallel(n_jobs=1)]: Done   3 out of   3 | elapsed:    3.7s finished\n",
            "[Parallel(n_jobs=1)]: Using backend SequentialBackend with 1 concurrent workers.\n"
          ],
          "name": "stderr"
        },
        {
          "output_type": "stream",
          "text": [
            "[GraphicalLassoCV] Done refinement  2 out of 4:   7s\n"
          ],
          "name": "stdout"
        },
        {
          "output_type": "stream",
          "text": [
            "[Parallel(n_jobs=1)]: Done   3 out of   3 | elapsed:    3.9s finished\n",
            "[Parallel(n_jobs=1)]: Using backend SequentialBackend with 1 concurrent workers.\n"
          ],
          "name": "stderr"
        },
        {
          "output_type": "stream",
          "text": [
            "[GraphicalLassoCV] Done refinement  3 out of 4:  11s\n"
          ],
          "name": "stdout"
        },
        {
          "output_type": "stream",
          "text": [
            "[Parallel(n_jobs=1)]: Done   3 out of   3 | elapsed:    5.3s finished\n"
          ],
          "name": "stderr"
        },
        {
          "output_type": "stream",
          "text": [
            "[GraphicalLassoCV] Done refinement  4 out of 4:  16s\n"
          ],
          "name": "stdout"
        },
        {
          "output_type": "stream",
          "text": [
            "[Parallel(n_jobs=1)]: Using backend SequentialBackend with 1 concurrent workers.\n",
            "[Parallel(n_jobs=1)]: Done   3 out of   3 | elapsed:    3.3s finished\n",
            "[Parallel(n_jobs=1)]: Using backend SequentialBackend with 1 concurrent workers.\n"
          ],
          "name": "stderr"
        },
        {
          "output_type": "stream",
          "text": [
            "[GraphicalLassoCV] Done refinement  1 out of 4:   3s\n"
          ],
          "name": "stdout"
        },
        {
          "output_type": "stream",
          "text": [
            "[Parallel(n_jobs=1)]: Done   3 out of   3 | elapsed:    4.5s finished\n",
            "[Parallel(n_jobs=1)]: Using backend SequentialBackend with 1 concurrent workers.\n"
          ],
          "name": "stderr"
        },
        {
          "output_type": "stream",
          "text": [
            "[GraphicalLassoCV] Done refinement  2 out of 4:   7s\n"
          ],
          "name": "stdout"
        },
        {
          "output_type": "stream",
          "text": [
            "[Parallel(n_jobs=1)]: Done   3 out of   3 | elapsed:    5.1s finished\n",
            "[Parallel(n_jobs=1)]: Using backend SequentialBackend with 1 concurrent workers.\n"
          ],
          "name": "stderr"
        },
        {
          "output_type": "stream",
          "text": [
            "[GraphicalLassoCV] Done refinement  3 out of 4:  12s\n"
          ],
          "name": "stdout"
        },
        {
          "output_type": "stream",
          "text": [
            "[Parallel(n_jobs=1)]: Done   3 out of   3 | elapsed:    9.2s finished\n"
          ],
          "name": "stderr"
        },
        {
          "output_type": "stream",
          "text": [
            "[GraphicalLassoCV] Done refinement  4 out of 4:  22s\n"
          ],
          "name": "stdout"
        },
        {
          "output_type": "stream",
          "text": [
            "[Parallel(n_jobs=1)]: Using backend SequentialBackend with 1 concurrent workers.\n",
            "[Parallel(n_jobs=1)]: Done   3 out of   3 | elapsed:    3.9s finished\n",
            "[Parallel(n_jobs=1)]: Using backend SequentialBackend with 1 concurrent workers.\n"
          ],
          "name": "stderr"
        },
        {
          "output_type": "stream",
          "text": [
            "[GraphicalLassoCV] Done refinement  1 out of 4:   3s\n"
          ],
          "name": "stdout"
        },
        {
          "output_type": "stream",
          "text": [
            "[Parallel(n_jobs=1)]: Done   3 out of   3 | elapsed:    5.3s finished\n",
            "[Parallel(n_jobs=1)]: Using backend SequentialBackend with 1 concurrent workers.\n"
          ],
          "name": "stderr"
        },
        {
          "output_type": "stream",
          "text": [
            "[GraphicalLassoCV] Done refinement  2 out of 4:   9s\n"
          ],
          "name": "stdout"
        },
        {
          "output_type": "stream",
          "text": [
            "[Parallel(n_jobs=1)]: Done   3 out of   3 | elapsed:    6.6s finished\n",
            "[Parallel(n_jobs=1)]: Using backend SequentialBackend with 1 concurrent workers.\n"
          ],
          "name": "stderr"
        },
        {
          "output_type": "stream",
          "text": [
            "[GraphicalLassoCV] Done refinement  3 out of 4:  15s\n"
          ],
          "name": "stdout"
        },
        {
          "output_type": "stream",
          "text": [
            "[Parallel(n_jobs=1)]: Done   3 out of   3 | elapsed:    6.4s finished\n"
          ],
          "name": "stderr"
        },
        {
          "output_type": "stream",
          "text": [
            "[GraphicalLassoCV] Done refinement  4 out of 4:  22s\n"
          ],
          "name": "stdout"
        },
        {
          "output_type": "stream",
          "text": [
            "[Parallel(n_jobs=1)]: Using backend SequentialBackend with 1 concurrent workers.\n",
            "[Parallel(n_jobs=1)]: Done   3 out of   3 | elapsed:    2.9s finished\n",
            "[Parallel(n_jobs=1)]: Using backend SequentialBackend with 1 concurrent workers.\n"
          ],
          "name": "stderr"
        },
        {
          "output_type": "stream",
          "text": [
            "[GraphicalLassoCV] Done refinement  1 out of 4:   2s\n"
          ],
          "name": "stdout"
        },
        {
          "output_type": "stream",
          "text": [
            "[Parallel(n_jobs=1)]: Done   3 out of   3 | elapsed:    6.1s finished\n",
            "[Parallel(n_jobs=1)]: Using backend SequentialBackend with 1 concurrent workers.\n"
          ],
          "name": "stderr"
        },
        {
          "output_type": "stream",
          "text": [
            "[GraphicalLassoCV] Done refinement  2 out of 4:   8s\n"
          ],
          "name": "stdout"
        },
        {
          "output_type": "stream",
          "text": [
            "[Parallel(n_jobs=1)]: Done   3 out of   3 | elapsed:    8.6s finished\n",
            "[Parallel(n_jobs=1)]: Using backend SequentialBackend with 1 concurrent workers.\n"
          ],
          "name": "stderr"
        },
        {
          "output_type": "stream",
          "text": [
            "[GraphicalLassoCV] Done refinement  3 out of 4:  17s\n"
          ],
          "name": "stdout"
        },
        {
          "output_type": "stream",
          "text": [
            "[Parallel(n_jobs=1)]: Done   3 out of   3 | elapsed:    9.2s finished\n"
          ],
          "name": "stderr"
        },
        {
          "output_type": "stream",
          "text": [
            "[GraphicalLassoCV] Done refinement  4 out of 4:  26s\n"
          ],
          "name": "stdout"
        },
        {
          "output_type": "stream",
          "text": [
            "[Parallel(n_jobs=1)]: Using backend SequentialBackend with 1 concurrent workers.\n",
            "[Parallel(n_jobs=1)]: Done   3 out of   3 | elapsed:    3.3s finished\n",
            "[Parallel(n_jobs=1)]: Using backend SequentialBackend with 1 concurrent workers.\n"
          ],
          "name": "stderr"
        },
        {
          "output_type": "stream",
          "text": [
            "[GraphicalLassoCV] Done refinement  1 out of 4:   3s\n"
          ],
          "name": "stdout"
        },
        {
          "output_type": "stream",
          "text": [
            "[Parallel(n_jobs=1)]: Done   3 out of   3 | elapsed:    6.8s finished\n",
            "[Parallel(n_jobs=1)]: Using backend SequentialBackend with 1 concurrent workers.\n"
          ],
          "name": "stderr"
        },
        {
          "output_type": "stream",
          "text": [
            "[GraphicalLassoCV] Done refinement  2 out of 4:  10s\n"
          ],
          "name": "stdout"
        },
        {
          "output_type": "stream",
          "text": [
            "[Parallel(n_jobs=1)]: Done   3 out of   3 | elapsed:    9.2s finished\n",
            "[Parallel(n_jobs=1)]: Using backend SequentialBackend with 1 concurrent workers.\n"
          ],
          "name": "stderr"
        },
        {
          "output_type": "stream",
          "text": [
            "[GraphicalLassoCV] Done refinement  3 out of 4:  19s\n"
          ],
          "name": "stdout"
        },
        {
          "output_type": "stream",
          "text": [
            "[Parallel(n_jobs=1)]: Done   3 out of   3 | elapsed:    8.6s finished\n"
          ],
          "name": "stderr"
        },
        {
          "output_type": "stream",
          "text": [
            "[GraphicalLassoCV] Done refinement  4 out of 4:  27s\n"
          ],
          "name": "stdout"
        },
        {
          "output_type": "stream",
          "text": [
            "[Parallel(n_jobs=1)]: Using backend SequentialBackend with 1 concurrent workers.\n",
            "[Parallel(n_jobs=1)]: Done   3 out of   3 | elapsed:    3.6s finished\n",
            "[Parallel(n_jobs=1)]: Using backend SequentialBackend with 1 concurrent workers.\n"
          ],
          "name": "stderr"
        },
        {
          "output_type": "stream",
          "text": [
            "[GraphicalLassoCV] Done refinement  1 out of 4:   3s\n"
          ],
          "name": "stdout"
        },
        {
          "output_type": "stream",
          "text": [
            "[Parallel(n_jobs=1)]: Done   3 out of   3 | elapsed:    4.9s finished\n",
            "[Parallel(n_jobs=1)]: Using backend SequentialBackend with 1 concurrent workers.\n"
          ],
          "name": "stderr"
        },
        {
          "output_type": "stream",
          "text": [
            "[GraphicalLassoCV] Done refinement  2 out of 4:   8s\n"
          ],
          "name": "stdout"
        },
        {
          "output_type": "stream",
          "text": [
            "[Parallel(n_jobs=1)]: Done   3 out of   3 | elapsed:    8.6s finished\n",
            "[Parallel(n_jobs=1)]: Using backend SequentialBackend with 1 concurrent workers.\n"
          ],
          "name": "stderr"
        },
        {
          "output_type": "stream",
          "text": [
            "[GraphicalLassoCV] Done refinement  3 out of 4:  17s\n"
          ],
          "name": "stdout"
        },
        {
          "output_type": "stream",
          "text": [
            "[Parallel(n_jobs=1)]: Done   3 out of   3 | elapsed:   10.8s finished\n"
          ],
          "name": "stderr"
        },
        {
          "output_type": "stream",
          "text": [
            "[GraphicalLassoCV] Done refinement  4 out of 4:  27s\n"
          ],
          "name": "stdout"
        },
        {
          "output_type": "stream",
          "text": [
            "/usr/local/lib/python3.7/dist-packages/sklearn/covariance/_graph_lasso.py:263: ConvergenceWarning: graphical_lasso: did not converge after 100 iteration: dual gap: 3.369e-04\n",
            "  % (max_iter, d_gap), ConvergenceWarning)\n",
            "[Parallel(n_jobs=1)]: Using backend SequentialBackend with 1 concurrent workers.\n",
            "[Parallel(n_jobs=1)]: Done   3 out of   3 | elapsed:    3.5s finished\n",
            "[Parallel(n_jobs=1)]: Using backend SequentialBackend with 1 concurrent workers.\n"
          ],
          "name": "stderr"
        },
        {
          "output_type": "stream",
          "text": [
            "[GraphicalLassoCV] Done refinement  1 out of 4:   3s\n"
          ],
          "name": "stdout"
        },
        {
          "output_type": "stream",
          "text": [
            "[Parallel(n_jobs=1)]: Done   3 out of   3 | elapsed:    5.0s finished\n",
            "[Parallel(n_jobs=1)]: Using backend SequentialBackend with 1 concurrent workers.\n"
          ],
          "name": "stderr"
        },
        {
          "output_type": "stream",
          "text": [
            "[GraphicalLassoCV] Done refinement  2 out of 4:   8s\n"
          ],
          "name": "stdout"
        },
        {
          "output_type": "stream",
          "text": [
            "[Parallel(n_jobs=1)]: Done   3 out of   3 | elapsed:   10.9s finished\n",
            "[Parallel(n_jobs=1)]: Using backend SequentialBackend with 1 concurrent workers.\n"
          ],
          "name": "stderr"
        },
        {
          "output_type": "stream",
          "text": [
            "[GraphicalLassoCV] Done refinement  3 out of 4:  19s\n"
          ],
          "name": "stdout"
        },
        {
          "output_type": "stream",
          "text": [
            "[Parallel(n_jobs=1)]: Done   3 out of   3 | elapsed:    9.9s finished\n"
          ],
          "name": "stderr"
        },
        {
          "output_type": "stream",
          "text": [
            "[GraphicalLassoCV] Done refinement  4 out of 4:  29s\n"
          ],
          "name": "stdout"
        },
        {
          "output_type": "stream",
          "text": [
            "/usr/local/lib/python3.7/dist-packages/sklearn/covariance/_graph_lasso.py:263: ConvergenceWarning: graphical_lasso: did not converge after 100 iteration: dual gap: 2.637e-04\n",
            "  % (max_iter, d_gap), ConvergenceWarning)\n",
            "[Parallel(n_jobs=1)]: Using backend SequentialBackend with 1 concurrent workers.\n",
            "[Parallel(n_jobs=1)]: Done   3 out of   3 | elapsed:    3.2s finished\n",
            "[Parallel(n_jobs=1)]: Using backend SequentialBackend with 1 concurrent workers.\n"
          ],
          "name": "stderr"
        },
        {
          "output_type": "stream",
          "text": [
            "[GraphicalLassoCV] Done refinement  1 out of 4:   3s\n"
          ],
          "name": "stdout"
        },
        {
          "output_type": "stream",
          "text": [
            "[Parallel(n_jobs=1)]: Done   3 out of   3 | elapsed:    4.2s finished\n",
            "[Parallel(n_jobs=1)]: Using backend SequentialBackend with 1 concurrent workers.\n"
          ],
          "name": "stderr"
        },
        {
          "output_type": "stream",
          "text": [
            "[GraphicalLassoCV] Done refinement  2 out of 4:   7s\n"
          ],
          "name": "stdout"
        },
        {
          "output_type": "stream",
          "text": [
            "[Parallel(n_jobs=1)]: Done   3 out of   3 | elapsed:    7.2s finished\n",
            "[Parallel(n_jobs=1)]: Using backend SequentialBackend with 1 concurrent workers.\n"
          ],
          "name": "stderr"
        },
        {
          "output_type": "stream",
          "text": [
            "[GraphicalLassoCV] Done refinement  3 out of 4:  14s\n"
          ],
          "name": "stdout"
        },
        {
          "output_type": "stream",
          "text": [
            "[Parallel(n_jobs=1)]: Done   3 out of   3 | elapsed:    8.6s finished\n"
          ],
          "name": "stderr"
        },
        {
          "output_type": "stream",
          "text": [
            "[GraphicalLassoCV] Done refinement  4 out of 4:  23s\n"
          ],
          "name": "stdout"
        },
        {
          "output_type": "stream",
          "text": [
            "[Parallel(n_jobs=1)]: Using backend SequentialBackend with 1 concurrent workers.\n",
            "[Parallel(n_jobs=1)]: Done   3 out of   3 | elapsed:    3.2s finished\n",
            "[Parallel(n_jobs=1)]: Using backend SequentialBackend with 1 concurrent workers.\n"
          ],
          "name": "stderr"
        },
        {
          "output_type": "stream",
          "text": [
            "[GraphicalLassoCV] Done refinement  1 out of 4:   3s\n"
          ],
          "name": "stdout"
        },
        {
          "output_type": "stream",
          "text": [
            "[Parallel(n_jobs=1)]: Done   3 out of   3 | elapsed:    5.4s finished\n",
            "[Parallel(n_jobs=1)]: Using backend SequentialBackend with 1 concurrent workers.\n"
          ],
          "name": "stderr"
        },
        {
          "output_type": "stream",
          "text": [
            "[GraphicalLassoCV] Done refinement  2 out of 4:   8s\n"
          ],
          "name": "stdout"
        },
        {
          "output_type": "stream",
          "text": [
            "[Parallel(n_jobs=1)]: Done   3 out of   3 | elapsed:   10.3s finished\n",
            "[Parallel(n_jobs=1)]: Using backend SequentialBackend with 1 concurrent workers.\n"
          ],
          "name": "stderr"
        },
        {
          "output_type": "stream",
          "text": [
            "[GraphicalLassoCV] Done refinement  3 out of 4:  18s\n"
          ],
          "name": "stdout"
        },
        {
          "output_type": "stream",
          "text": [
            "[Parallel(n_jobs=1)]: Done   3 out of   3 | elapsed:   10.3s finished\n"
          ],
          "name": "stderr"
        },
        {
          "output_type": "stream",
          "text": [
            "[GraphicalLassoCV] Done refinement  4 out of 4:  29s\n"
          ],
          "name": "stdout"
        },
        {
          "output_type": "stream",
          "text": [
            "[Parallel(n_jobs=1)]: Using backend SequentialBackend with 1 concurrent workers.\n",
            "/usr/local/lib/python3.7/dist-packages/sklearn/covariance/_graph_lasso.py:238: RuntimeWarning: invalid value encountered in multiply\n",
            "  * coefs)\n",
            "/usr/local/lib/python3.7/dist-packages/sklearn/covariance/_graph_lasso.py:240: RuntimeWarning: invalid value encountered in multiply\n",
            "  * coefs)\n",
            "[Parallel(n_jobs=1)]: Done   3 out of   3 | elapsed:    3.6s finished\n",
            "[Parallel(n_jobs=1)]: Using backend SequentialBackend with 1 concurrent workers.\n"
          ],
          "name": "stderr"
        },
        {
          "output_type": "stream",
          "text": [
            "[GraphicalLassoCV] Done refinement  1 out of 4:   3s\n"
          ],
          "name": "stdout"
        },
        {
          "output_type": "stream",
          "text": [
            "[Parallel(n_jobs=1)]: Done   3 out of   3 | elapsed:    5.4s finished\n",
            "[Parallel(n_jobs=1)]: Using backend SequentialBackend with 1 concurrent workers.\n"
          ],
          "name": "stderr"
        },
        {
          "output_type": "stream",
          "text": [
            "[GraphicalLassoCV] Done refinement  2 out of 4:   8s\n"
          ],
          "name": "stdout"
        },
        {
          "output_type": "stream",
          "text": [
            "[Parallel(n_jobs=1)]: Done   3 out of   3 | elapsed:    8.8s finished\n",
            "[Parallel(n_jobs=1)]: Using backend SequentialBackend with 1 concurrent workers.\n"
          ],
          "name": "stderr"
        },
        {
          "output_type": "stream",
          "text": [
            "[GraphicalLassoCV] Done refinement  3 out of 4:  17s\n"
          ],
          "name": "stdout"
        },
        {
          "output_type": "stream",
          "text": [
            "[Parallel(n_jobs=1)]: Done   3 out of   3 | elapsed:    9.2s finished\n"
          ],
          "name": "stderr"
        },
        {
          "output_type": "stream",
          "text": [
            "[GraphicalLassoCV] Done refinement  4 out of 4:  26s\n"
          ],
          "name": "stdout"
        },
        {
          "output_type": "stream",
          "text": [
            "[Parallel(n_jobs=1)]: Using backend SequentialBackend with 1 concurrent workers.\n",
            "[Parallel(n_jobs=1)]: Done   3 out of   3 | elapsed:    2.8s finished\n",
            "[Parallel(n_jobs=1)]: Using backend SequentialBackend with 1 concurrent workers.\n"
          ],
          "name": "stderr"
        },
        {
          "output_type": "stream",
          "text": [
            "[GraphicalLassoCV] Done refinement  1 out of 4:   2s\n"
          ],
          "name": "stdout"
        },
        {
          "output_type": "stream",
          "text": [
            "[Parallel(n_jobs=1)]: Done   3 out of   3 | elapsed:    5.6s finished\n",
            "[Parallel(n_jobs=1)]: Using backend SequentialBackend with 1 concurrent workers.\n"
          ],
          "name": "stderr"
        },
        {
          "output_type": "stream",
          "text": [
            "[GraphicalLassoCV] Done refinement  2 out of 4:   8s\n"
          ],
          "name": "stdout"
        },
        {
          "output_type": "stream",
          "text": [
            "[Parallel(n_jobs=1)]: Done   3 out of   3 | elapsed:    8.0s finished\n",
            "[Parallel(n_jobs=1)]: Using backend SequentialBackend with 1 concurrent workers.\n"
          ],
          "name": "stderr"
        },
        {
          "output_type": "stream",
          "text": [
            "[GraphicalLassoCV] Done refinement  3 out of 4:  16s\n"
          ],
          "name": "stdout"
        },
        {
          "output_type": "stream",
          "text": [
            "[Parallel(n_jobs=1)]: Done   3 out of   3 | elapsed:   10.1s finished\n"
          ],
          "name": "stderr"
        },
        {
          "output_type": "stream",
          "text": [
            "[GraphicalLassoCV] Done refinement  4 out of 4:  26s\n"
          ],
          "name": "stdout"
        },
        {
          "output_type": "stream",
          "text": [
            "[Parallel(n_jobs=1)]: Using backend SequentialBackend with 1 concurrent workers.\n",
            "[Parallel(n_jobs=1)]: Done   3 out of   3 | elapsed:    2.9s finished\n",
            "[Parallel(n_jobs=1)]: Using backend SequentialBackend with 1 concurrent workers.\n"
          ],
          "name": "stderr"
        },
        {
          "output_type": "stream",
          "text": [
            "[GraphicalLassoCV] Done refinement  1 out of 4:   2s\n"
          ],
          "name": "stdout"
        },
        {
          "output_type": "stream",
          "text": [
            "[Parallel(n_jobs=1)]: Done   3 out of   3 | elapsed:    3.5s finished\n",
            "[Parallel(n_jobs=1)]: Using backend SequentialBackend with 1 concurrent workers.\n"
          ],
          "name": "stderr"
        },
        {
          "output_type": "stream",
          "text": [
            "[GraphicalLassoCV] Done refinement  2 out of 4:   6s\n"
          ],
          "name": "stdout"
        },
        {
          "output_type": "stream",
          "text": [
            "[Parallel(n_jobs=1)]: Done   3 out of   3 | elapsed:    5.1s finished\n",
            "[Parallel(n_jobs=1)]: Using backend SequentialBackend with 1 concurrent workers.\n"
          ],
          "name": "stderr"
        },
        {
          "output_type": "stream",
          "text": [
            "[GraphicalLassoCV] Done refinement  3 out of 4:  11s\n"
          ],
          "name": "stdout"
        },
        {
          "output_type": "stream",
          "text": [
            "[Parallel(n_jobs=1)]: Done   3 out of   3 | elapsed:    5.8s finished\n"
          ],
          "name": "stderr"
        },
        {
          "output_type": "stream",
          "text": [
            "[GraphicalLassoCV] Done refinement  4 out of 4:  17s\n"
          ],
          "name": "stdout"
        },
        {
          "output_type": "stream",
          "text": [
            "[Parallel(n_jobs=1)]: Using backend SequentialBackend with 1 concurrent workers.\n",
            "[Parallel(n_jobs=1)]: Done   3 out of   3 | elapsed:    3.1s finished\n",
            "[Parallel(n_jobs=1)]: Using backend SequentialBackend with 1 concurrent workers.\n"
          ],
          "name": "stderr"
        },
        {
          "output_type": "stream",
          "text": [
            "[GraphicalLassoCV] Done refinement  1 out of 4:   3s\n"
          ],
          "name": "stdout"
        },
        {
          "output_type": "stream",
          "text": [
            "[Parallel(n_jobs=1)]: Done   3 out of   3 | elapsed:    4.0s finished\n",
            "[Parallel(n_jobs=1)]: Using backend SequentialBackend with 1 concurrent workers.\n"
          ],
          "name": "stderr"
        },
        {
          "output_type": "stream",
          "text": [
            "[GraphicalLassoCV] Done refinement  2 out of 4:   7s\n"
          ],
          "name": "stdout"
        },
        {
          "output_type": "stream",
          "text": [
            "[Parallel(n_jobs=1)]: Done   3 out of   3 | elapsed:    7.7s finished\n",
            "[Parallel(n_jobs=1)]: Using backend SequentialBackend with 1 concurrent workers.\n"
          ],
          "name": "stderr"
        },
        {
          "output_type": "stream",
          "text": [
            "[GraphicalLassoCV] Done refinement  3 out of 4:  14s\n"
          ],
          "name": "stdout"
        },
        {
          "output_type": "stream",
          "text": [
            "[Parallel(n_jobs=1)]: Done   3 out of   3 | elapsed:    8.2s finished\n"
          ],
          "name": "stderr"
        },
        {
          "output_type": "stream",
          "text": [
            "[GraphicalLassoCV] Done refinement  4 out of 4:  23s\n"
          ],
          "name": "stdout"
        },
        {
          "output_type": "stream",
          "text": [
            "/usr/local/lib/python3.7/dist-packages/sklearn/covariance/_graph_lasso.py:263: ConvergenceWarning: graphical_lasso: did not converge after 100 iteration: dual gap: 1.263e-04\n",
            "  % (max_iter, d_gap), ConvergenceWarning)\n",
            "[Parallel(n_jobs=1)]: Using backend SequentialBackend with 1 concurrent workers.\n",
            "[Parallel(n_jobs=1)]: Done   3 out of   3 | elapsed:    3.5s finished\n",
            "[Parallel(n_jobs=1)]: Using backend SequentialBackend with 1 concurrent workers.\n"
          ],
          "name": "stderr"
        },
        {
          "output_type": "stream",
          "text": [
            "[GraphicalLassoCV] Done refinement  1 out of 4:   3s\n"
          ],
          "name": "stdout"
        },
        {
          "output_type": "stream",
          "text": [
            "[Parallel(n_jobs=1)]: Done   3 out of   3 | elapsed:    5.4s finished\n",
            "[Parallel(n_jobs=1)]: Using backend SequentialBackend with 1 concurrent workers.\n"
          ],
          "name": "stderr"
        },
        {
          "output_type": "stream",
          "text": [
            "[GraphicalLassoCV] Done refinement  2 out of 4:   8s\n"
          ],
          "name": "stdout"
        },
        {
          "output_type": "stream",
          "text": [
            "[Parallel(n_jobs=1)]: Done   3 out of   3 | elapsed:    9.7s finished\n",
            "[Parallel(n_jobs=1)]: Using backend SequentialBackend with 1 concurrent workers.\n"
          ],
          "name": "stderr"
        },
        {
          "output_type": "stream",
          "text": [
            "[GraphicalLassoCV] Done refinement  3 out of 4:  18s\n"
          ],
          "name": "stdout"
        },
        {
          "output_type": "stream",
          "text": [
            "[Parallel(n_jobs=1)]: Done   3 out of   3 | elapsed:   10.4s finished\n"
          ],
          "name": "stderr"
        },
        {
          "output_type": "stream",
          "text": [
            "[GraphicalLassoCV] Done refinement  4 out of 4:  29s\n"
          ],
          "name": "stdout"
        },
        {
          "output_type": "stream",
          "text": [
            "/usr/local/lib/python3.7/dist-packages/sklearn/covariance/_graph_lasso.py:263: ConvergenceWarning: graphical_lasso: did not converge after 100 iteration: dual gap: -2.316e-04\n",
            "  % (max_iter, d_gap), ConvergenceWarning)\n",
            "[Parallel(n_jobs=1)]: Using backend SequentialBackend with 1 concurrent workers.\n",
            "[Parallel(n_jobs=1)]: Done   3 out of   3 | elapsed:    3.0s finished\n",
            "[Parallel(n_jobs=1)]: Using backend SequentialBackend with 1 concurrent workers.\n"
          ],
          "name": "stderr"
        },
        {
          "output_type": "stream",
          "text": [
            "[GraphicalLassoCV] Done refinement  1 out of 4:   3s\n"
          ],
          "name": "stdout"
        },
        {
          "output_type": "stream",
          "text": [
            "[Parallel(n_jobs=1)]: Done   3 out of   3 | elapsed:    5.4s finished\n",
            "[Parallel(n_jobs=1)]: Using backend SequentialBackend with 1 concurrent workers.\n"
          ],
          "name": "stderr"
        },
        {
          "output_type": "stream",
          "text": [
            "[GraphicalLassoCV] Done refinement  2 out of 4:   8s\n"
          ],
          "name": "stdout"
        },
        {
          "output_type": "stream",
          "text": [
            "[Parallel(n_jobs=1)]: Done   3 out of   3 | elapsed:    8.7s finished\n",
            "[Parallel(n_jobs=1)]: Using backend SequentialBackend with 1 concurrent workers.\n"
          ],
          "name": "stderr"
        },
        {
          "output_type": "stream",
          "text": [
            "[GraphicalLassoCV] Done refinement  3 out of 4:  17s\n"
          ],
          "name": "stdout"
        },
        {
          "output_type": "stream",
          "text": [
            "[Parallel(n_jobs=1)]: Done   3 out of   3 | elapsed:   10.0s finished\n"
          ],
          "name": "stderr"
        },
        {
          "output_type": "stream",
          "text": [
            "[GraphicalLassoCV] Done refinement  4 out of 4:  27s\n"
          ],
          "name": "stdout"
        },
        {
          "output_type": "stream",
          "text": [
            "[Parallel(n_jobs=1)]: Using backend SequentialBackend with 1 concurrent workers.\n",
            "[Parallel(n_jobs=1)]: Done   3 out of   3 | elapsed:    3.4s finished\n",
            "[Parallel(n_jobs=1)]: Using backend SequentialBackend with 1 concurrent workers.\n"
          ],
          "name": "stderr"
        },
        {
          "output_type": "stream",
          "text": [
            "[GraphicalLassoCV] Done refinement  1 out of 4:   3s\n"
          ],
          "name": "stdout"
        },
        {
          "output_type": "stream",
          "text": [
            "[Parallel(n_jobs=1)]: Done   3 out of   3 | elapsed:    3.1s finished\n",
            "[Parallel(n_jobs=1)]: Using backend SequentialBackend with 1 concurrent workers.\n"
          ],
          "name": "stderr"
        },
        {
          "output_type": "stream",
          "text": [
            "[GraphicalLassoCV] Done refinement  2 out of 4:   6s\n"
          ],
          "name": "stdout"
        },
        {
          "output_type": "stream",
          "text": [
            "[Parallel(n_jobs=1)]: Done   3 out of   3 | elapsed:    7.2s finished\n",
            "[Parallel(n_jobs=1)]: Using backend SequentialBackend with 1 concurrent workers.\n"
          ],
          "name": "stderr"
        },
        {
          "output_type": "stream",
          "text": [
            "[GraphicalLassoCV] Done refinement  3 out of 4:  13s\n"
          ],
          "name": "stdout"
        },
        {
          "output_type": "stream",
          "text": [
            "[Parallel(n_jobs=1)]: Done   3 out of   3 | elapsed:    8.8s finished\n"
          ],
          "name": "stderr"
        },
        {
          "output_type": "stream",
          "text": [
            "[GraphicalLassoCV] Done refinement  4 out of 4:  22s\n"
          ],
          "name": "stdout"
        },
        {
          "output_type": "stream",
          "text": [
            "[Parallel(n_jobs=1)]: Using backend SequentialBackend with 1 concurrent workers.\n",
            "[Parallel(n_jobs=1)]: Done   3 out of   3 | elapsed:    3.2s finished\n",
            "[Parallel(n_jobs=1)]: Using backend SequentialBackend with 1 concurrent workers.\n"
          ],
          "name": "stderr"
        },
        {
          "output_type": "stream",
          "text": [
            "[GraphicalLassoCV] Done refinement  1 out of 4:   3s\n"
          ],
          "name": "stdout"
        },
        {
          "output_type": "stream",
          "text": [
            "[Parallel(n_jobs=1)]: Done   3 out of   3 | elapsed:    3.8s finished\n",
            "[Parallel(n_jobs=1)]: Using backend SequentialBackend with 1 concurrent workers.\n"
          ],
          "name": "stderr"
        },
        {
          "output_type": "stream",
          "text": [
            "[GraphicalLassoCV] Done refinement  2 out of 4:   7s\n"
          ],
          "name": "stdout"
        },
        {
          "output_type": "stream",
          "text": [
            "[Parallel(n_jobs=1)]: Done   3 out of   3 | elapsed:    7.7s finished\n",
            "[Parallel(n_jobs=1)]: Using backend SequentialBackend with 1 concurrent workers.\n"
          ],
          "name": "stderr"
        },
        {
          "output_type": "stream",
          "text": [
            "[GraphicalLassoCV] Done refinement  3 out of 4:  14s\n"
          ],
          "name": "stdout"
        },
        {
          "output_type": "stream",
          "text": [
            "[Parallel(n_jobs=1)]: Done   3 out of   3 | elapsed:    8.0s finished\n"
          ],
          "name": "stderr"
        },
        {
          "output_type": "stream",
          "text": [
            "[GraphicalLassoCV] Done refinement  4 out of 4:  22s\n"
          ],
          "name": "stdout"
        },
        {
          "output_type": "stream",
          "text": [
            "[Parallel(n_jobs=1)]: Using backend SequentialBackend with 1 concurrent workers.\n",
            "/usr/local/lib/python3.7/dist-packages/sklearn/covariance/_graph_lasso.py:236: RuntimeWarning: divide by zero encountered in double_scalars\n",
            "  - np.dot(covariance_[indices != idx, idx], coefs)))\n",
            "/usr/local/lib/python3.7/dist-packages/sklearn/covariance/_graph_lasso.py:238: RuntimeWarning: invalid value encountered in multiply\n",
            "  * coefs)\n",
            "/usr/local/lib/python3.7/dist-packages/sklearn/covariance/_graph_lasso.py:240: RuntimeWarning: invalid value encountered in multiply\n",
            "  * coefs)\n",
            "[Parallel(n_jobs=1)]: Done   3 out of   3 | elapsed:    6.8s finished\n",
            "[Parallel(n_jobs=1)]: Using backend SequentialBackend with 1 concurrent workers.\n",
            "/usr/local/lib/python3.7/dist-packages/sklearn/covariance/_graph_lasso.py:236: RuntimeWarning: divide by zero encountered in double_scalars\n",
            "  - np.dot(covariance_[indices != idx, idx], coefs)))\n",
            "/usr/local/lib/python3.7/dist-packages/sklearn/covariance/_graph_lasso.py:238: RuntimeWarning: invalid value encountered in multiply\n",
            "  * coefs)\n",
            "/usr/local/lib/python3.7/dist-packages/sklearn/covariance/_graph_lasso.py:240: RuntimeWarning: invalid value encountered in multiply\n",
            "  * coefs)\n"
          ],
          "name": "stderr"
        },
        {
          "output_type": "stream",
          "text": [
            "[GraphicalLassoCV] Done refinement  1 out of 4:   6s\n"
          ],
          "name": "stdout"
        },
        {
          "output_type": "stream",
          "text": [
            "[Parallel(n_jobs=1)]: Done   3 out of   3 | elapsed:    4.0s finished\n",
            "[Parallel(n_jobs=1)]: Using backend SequentialBackend with 1 concurrent workers.\n",
            "/usr/local/lib/python3.7/dist-packages/sklearn/covariance/_graph_lasso.py:236: RuntimeWarning: divide by zero encountered in double_scalars\n",
            "  - np.dot(covariance_[indices != idx, idx], coefs)))\n",
            "/usr/local/lib/python3.7/dist-packages/sklearn/covariance/_graph_lasso.py:238: RuntimeWarning: invalid value encountered in multiply\n",
            "  * coefs)\n",
            "/usr/local/lib/python3.7/dist-packages/sklearn/covariance/_graph_lasso.py:240: RuntimeWarning: invalid value encountered in multiply\n",
            "  * coefs)\n"
          ],
          "name": "stderr"
        },
        {
          "output_type": "stream",
          "text": [
            "[GraphicalLassoCV] Done refinement  2 out of 4:  10s\n"
          ],
          "name": "stdout"
        },
        {
          "output_type": "stream",
          "text": [
            "[Parallel(n_jobs=1)]: Done   3 out of   3 | elapsed:    3.3s finished\n",
            "[Parallel(n_jobs=1)]: Using backend SequentialBackend with 1 concurrent workers.\n",
            "/usr/local/lib/python3.7/dist-packages/sklearn/covariance/_graph_lasso.py:236: RuntimeWarning: divide by zero encountered in double_scalars\n",
            "  - np.dot(covariance_[indices != idx, idx], coefs)))\n",
            "/usr/local/lib/python3.7/dist-packages/sklearn/covariance/_graph_lasso.py:238: RuntimeWarning: invalid value encountered in multiply\n",
            "  * coefs)\n",
            "/usr/local/lib/python3.7/dist-packages/sklearn/covariance/_graph_lasso.py:240: RuntimeWarning: invalid value encountered in multiply\n",
            "  * coefs)\n"
          ],
          "name": "stderr"
        },
        {
          "output_type": "stream",
          "text": [
            "[GraphicalLassoCV] Done refinement  3 out of 4:  14s\n"
          ],
          "name": "stdout"
        },
        {
          "output_type": "stream",
          "text": [
            "[Parallel(n_jobs=1)]: Done   3 out of   3 | elapsed:    3.7s finished\n"
          ],
          "name": "stderr"
        },
        {
          "output_type": "stream",
          "text": [
            "[GraphicalLassoCV] Done refinement  4 out of 4:  17s\n"
          ],
          "name": "stdout"
        },
        {
          "output_type": "stream",
          "text": [
            "/usr/local/lib/python3.7/dist-packages/sklearn/covariance/_graph_lasso.py:226: ConvergenceWarning: Objective did not converge. You might want to increase the number of iterations. Duality gap: nan, tolerance: 1.3958014125005982e-08\n",
            "  check_random_state(None), False)\n",
            "/usr/local/lib/python3.7/dist-packages/sklearn/covariance/_graph_lasso.py:226: ConvergenceWarning: Objective did not converge. You might want to increase the number of iterations. Duality gap: nan, tolerance: 8.141971923568767e-08\n",
            "  check_random_state(None), False)\n",
            "/usr/local/lib/python3.7/dist-packages/sklearn/covariance/_graph_lasso.py:226: ConvergenceWarning: Objective did not converge. You might want to increase the number of iterations. Duality gap: nan, tolerance: 7.806885241597259e-08\n",
            "  check_random_state(None), False)\n",
            "/usr/local/lib/python3.7/dist-packages/sklearn/covariance/_graph_lasso.py:226: ConvergenceWarning: Objective did not converge. You might want to increase the number of iterations. Duality gap: nan, tolerance: 8.28325364338425e-09\n",
            "  check_random_state(None), False)\n",
            "/usr/local/lib/python3.7/dist-packages/sklearn/covariance/_graph_lasso.py:226: ConvergenceWarning: Objective did not converge. You might want to increase the number of iterations. Duality gap: nan, tolerance: 1.890663945153052e-08\n",
            "  check_random_state(None), False)\n",
            "/usr/local/lib/python3.7/dist-packages/sklearn/covariance/_graph_lasso.py:226: ConvergenceWarning: Objective did not converge. You might want to increase the number of iterations. Duality gap: nan, tolerance: 4.96171306435645e-09\n",
            "  check_random_state(None), False)\n",
            "/usr/local/lib/python3.7/dist-packages/sklearn/covariance/_graph_lasso.py:226: ConvergenceWarning: Objective did not converge. You might want to increase the number of iterations. Duality gap: nan, tolerance: 6.923348058744905e-09\n",
            "  check_random_state(None), False)\n",
            "/usr/local/lib/python3.7/dist-packages/sklearn/covariance/_graph_lasso.py:226: ConvergenceWarning: Objective did not converge. You might want to increase the number of iterations. Duality gap: nan, tolerance: 1.064587640884022e-08\n",
            "  check_random_state(None), False)\n",
            "/usr/local/lib/python3.7/dist-packages/sklearn/covariance/_graph_lasso.py:226: ConvergenceWarning: Objective did not converge. You might want to increase the number of iterations. Duality gap: nan, tolerance: 1.4301037152603835e-08\n",
            "  check_random_state(None), False)\n",
            "/usr/local/lib/python3.7/dist-packages/sklearn/covariance/_graph_lasso.py:226: ConvergenceWarning: Objective did not converge. You might want to increase the number of iterations. Duality gap: nan, tolerance: 1.1147238010962208e-08\n",
            "  check_random_state(None), False)\n",
            "/usr/local/lib/python3.7/dist-packages/sklearn/covariance/_graph_lasso.py:226: ConvergenceWarning: Objective did not converge. You might want to increase the number of iterations. Duality gap: nan, tolerance: 4.5698023064821136e-08\n",
            "  check_random_state(None), False)\n",
            "/usr/local/lib/python3.7/dist-packages/sklearn/covariance/_graph_lasso.py:226: ConvergenceWarning: Objective did not converge. You might want to increase the number of iterations. Duality gap: nan, tolerance: 9.125001423002097e-09\n",
            "  check_random_state(None), False)\n",
            "/usr/local/lib/python3.7/dist-packages/sklearn/covariance/_graph_lasso.py:226: ConvergenceWarning: Objective did not converge. You might want to increase the number of iterations. Duality gap: nan, tolerance: 1.2685818527238796e-08\n",
            "  check_random_state(None), False)\n",
            "/usr/local/lib/python3.7/dist-packages/sklearn/covariance/_graph_lasso.py:226: ConvergenceWarning: Objective did not converge. You might want to increase the number of iterations. Duality gap: nan, tolerance: 1.2997218280794692e-08\n",
            "  check_random_state(None), False)\n",
            "/usr/local/lib/python3.7/dist-packages/sklearn/covariance/_graph_lasso.py:226: ConvergenceWarning: Objective did not converge. You might want to increase the number of iterations. Duality gap: nan, tolerance: 1.100083921023028e-08\n",
            "  check_random_state(None), False)\n",
            "/usr/local/lib/python3.7/dist-packages/sklearn/covariance/_graph_lasso.py:226: ConvergenceWarning: Objective did not converge. You might want to increase the number of iterations. Duality gap: nan, tolerance: 1.7609615647049765e-08\n",
            "  check_random_state(None), False)\n",
            "/usr/local/lib/python3.7/dist-packages/sklearn/covariance/_graph_lasso.py:226: ConvergenceWarning: Objective did not converge. You might want to increase the number of iterations. Duality gap: nan, tolerance: 1.569192698563884e-08\n",
            "  check_random_state(None), False)\n",
            "/usr/local/lib/python3.7/dist-packages/sklearn/covariance/_graph_lasso.py:226: ConvergenceWarning: Objective did not converge. You might want to increase the number of iterations. Duality gap: nan, tolerance: 7.66991247006115e-08\n",
            "  check_random_state(None), False)\n",
            "/usr/local/lib/python3.7/dist-packages/sklearn/covariance/_graph_lasso.py:226: ConvergenceWarning: Objective did not converge. You might want to increase the number of iterations. Duality gap: nan, tolerance: 1.6810173688939463e-09\n",
            "  check_random_state(None), False)\n",
            "/usr/local/lib/python3.7/dist-packages/sklearn/covariance/_graph_lasso.py:226: ConvergenceWarning: Objective did not converge. You might want to increase the number of iterations. Duality gap: nan, tolerance: 1.1808033027128483e-08\n",
            "  check_random_state(None), False)\n",
            "/usr/local/lib/python3.7/dist-packages/sklearn/covariance/_graph_lasso.py:226: ConvergenceWarning: Objective did not converge. You might want to increase the number of iterations. Duality gap: nan, tolerance: 1.68117301621682e-08\n",
            "  check_random_state(None), False)\n",
            "/usr/local/lib/python3.7/dist-packages/sklearn/covariance/_graph_lasso.py:226: ConvergenceWarning: Objective did not converge. You might want to increase the number of iterations. Duality gap: nan, tolerance: 2.812770405411371e-08\n",
            "  check_random_state(None), False)\n",
            "/usr/local/lib/python3.7/dist-packages/sklearn/covariance/_graph_lasso.py:226: ConvergenceWarning: Objective did not converge. You might want to increase the number of iterations. Duality gap: nan, tolerance: 2.0337996813708747e-08\n",
            "  check_random_state(None), False)\n",
            "/usr/local/lib/python3.7/dist-packages/sklearn/covariance/_graph_lasso.py:226: ConvergenceWarning: Objective did not converge. You might want to increase the number of iterations. Duality gap: nan, tolerance: 2.079309481925255e-08\n",
            "  check_random_state(None), False)\n",
            "/usr/local/lib/python3.7/dist-packages/sklearn/covariance/_graph_lasso.py:226: ConvergenceWarning: Objective did not converge. You might want to increase the number of iterations. Duality gap: nan, tolerance: 1.488297100093184e-08\n",
            "  check_random_state(None), False)\n",
            "/usr/local/lib/python3.7/dist-packages/sklearn/covariance/_graph_lasso.py:226: ConvergenceWarning: Objective did not converge. You might want to increase the number of iterations. Duality gap: nan, tolerance: 2.3716356131563744e-09\n",
            "  check_random_state(None), False)\n",
            "/usr/local/lib/python3.7/dist-packages/sklearn/covariance/_graph_lasso.py:226: ConvergenceWarning: Objective did not converge. You might want to increase the number of iterations. Duality gap: nan, tolerance: 7.825488242242179e-09\n",
            "  check_random_state(None), False)\n",
            "/usr/local/lib/python3.7/dist-packages/sklearn/covariance/_graph_lasso.py:226: ConvergenceWarning: Objective did not converge. You might want to increase the number of iterations. Duality gap: nan, tolerance: 4.718545732931123e-09\n",
            "  check_random_state(None), False)\n",
            "/usr/local/lib/python3.7/dist-packages/sklearn/covariance/_graph_lasso.py:226: ConvergenceWarning: Objective did not converge. You might want to increase the number of iterations. Duality gap: nan, tolerance: 1.9758731512658018e-08\n",
            "  check_random_state(None), False)\n",
            "/usr/local/lib/python3.7/dist-packages/sklearn/covariance/_graph_lasso.py:226: ConvergenceWarning: Objective did not converge. You might want to increase the number of iterations. Duality gap: nan, tolerance: 2.237208013957962e-08\n",
            "  check_random_state(None), False)\n",
            "/usr/local/lib/python3.7/dist-packages/sklearn/covariance/_graph_lasso.py:226: ConvergenceWarning: Objective did not converge. You might want to increase the number of iterations. Duality gap: nan, tolerance: 3.040312326382248e-08\n",
            "  check_random_state(None), False)\n",
            "/usr/local/lib/python3.7/dist-packages/sklearn/covariance/_graph_lasso.py:226: ConvergenceWarning: Objective did not converge. You might want to increase the number of iterations. Duality gap: nan, tolerance: 3.1912358209900584e-08\n",
            "  check_random_state(None), False)\n",
            "/usr/local/lib/python3.7/dist-packages/sklearn/covariance/_graph_lasso.py:226: ConvergenceWarning: Objective did not converge. You might want to increase the number of iterations. Duality gap: nan, tolerance: 3.091299753774459e-08\n",
            "  check_random_state(None), False)\n",
            "/usr/local/lib/python3.7/dist-packages/sklearn/covariance/_graph_lasso.py:226: ConvergenceWarning: Objective did not converge. You might want to increase the number of iterations. Duality gap: nan, tolerance: 4.084213424751277e-08\n",
            "  check_random_state(None), False)\n",
            "/usr/local/lib/python3.7/dist-packages/sklearn/covariance/_graph_lasso.py:226: ConvergenceWarning: Objective did not converge. You might want to increase the number of iterations. Duality gap: nan, tolerance: 2.7687121706099536e-08\n",
            "  check_random_state(None), False)\n",
            "/usr/local/lib/python3.7/dist-packages/sklearn/covariance/_graph_lasso.py:226: ConvergenceWarning: Objective did not converge. You might want to increase the number of iterations. Duality gap: nan, tolerance: 5.658944301850198e-09\n",
            "  check_random_state(None), False)\n",
            "/usr/local/lib/python3.7/dist-packages/sklearn/covariance/_graph_lasso.py:226: ConvergenceWarning: Objective did not converge. You might want to increase the number of iterations. Duality gap: nan, tolerance: 9.311563793627252e-08\n",
            "  check_random_state(None), False)\n",
            "/usr/local/lib/python3.7/dist-packages/sklearn/covariance/_graph_lasso.py:226: ConvergenceWarning: Objective did not converge. You might want to increase the number of iterations. Duality gap: nan, tolerance: 5.374322033742742e-09\n",
            "  check_random_state(None), False)\n",
            "/usr/local/lib/python3.7/dist-packages/sklearn/covariance/_graph_lasso.py:226: ConvergenceWarning: Objective did not converge. You might want to increase the number of iterations. Duality gap: nan, tolerance: 5.6451021156278205e-09\n",
            "  check_random_state(None), False)\n",
            "/usr/local/lib/python3.7/dist-packages/sklearn/covariance/_graph_lasso.py:226: ConvergenceWarning: Objective did not converge. You might want to increase the number of iterations. Duality gap: nan, tolerance: 3.786544677182342e-09\n",
            "  check_random_state(None), False)\n",
            "/usr/local/lib/python3.7/dist-packages/sklearn/covariance/_graph_lasso.py:226: ConvergenceWarning: Objective did not converge. You might want to increase the number of iterations. Duality gap: nan, tolerance: 5.7015257944983876e-09\n",
            "  check_random_state(None), False)\n",
            "/usr/local/lib/python3.7/dist-packages/sklearn/covariance/_graph_lasso.py:226: ConvergenceWarning: Objective did not converge. You might want to increase the number of iterations. Duality gap: nan, tolerance: 2.229081732306587e-08\n",
            "  check_random_state(None), False)\n",
            "/usr/local/lib/python3.7/dist-packages/sklearn/covariance/_graph_lasso.py:226: ConvergenceWarning: Objective did not converge. You might want to increase the number of iterations. Duality gap: nan, tolerance: 1.4833163755410289e-08\n",
            "  check_random_state(None), False)\n",
            "/usr/local/lib/python3.7/dist-packages/sklearn/covariance/_graph_lasso.py:226: ConvergenceWarning: Objective did not converge. You might want to increase the number of iterations. Duality gap: nan, tolerance: 3.805170173207375e-08\n",
            "  check_random_state(None), False)\n",
            "/usr/local/lib/python3.7/dist-packages/sklearn/covariance/_graph_lasso.py:226: ConvergenceWarning: Objective did not converge. You might want to increase the number of iterations. Duality gap: nan, tolerance: 1.592105389406575e-08\n",
            "  check_random_state(None), False)\n",
            "/usr/local/lib/python3.7/dist-packages/sklearn/covariance/_graph_lasso.py:226: ConvergenceWarning: Objective did not converge. You might want to increase the number of iterations. Duality gap: nan, tolerance: 1.1002193881918626e-08\n",
            "  check_random_state(None), False)\n",
            "/usr/local/lib/python3.7/dist-packages/sklearn/covariance/_graph_lasso.py:226: ConvergenceWarning: Objective did not converge. You might want to increase the number of iterations. Duality gap: nan, tolerance: 5.293562329818707e-08\n",
            "  check_random_state(None), False)\n",
            "/usr/local/lib/python3.7/dist-packages/sklearn/covariance/_graph_lasso.py:226: ConvergenceWarning: Objective did not converge. You might want to increase the number of iterations. Duality gap: nan, tolerance: 5.000524135243387e-09\n",
            "  check_random_state(None), False)\n",
            "/usr/local/lib/python3.7/dist-packages/sklearn/covariance/_graph_lasso.py:226: ConvergenceWarning: Objective did not converge. You might want to increase the number of iterations. Duality gap: nan, tolerance: 6.252734039515957e-08\n",
            "  check_random_state(None), False)\n",
            "/usr/local/lib/python3.7/dist-packages/sklearn/covariance/_graph_lasso.py:226: ConvergenceWarning: Objective did not converge. You might want to increase the number of iterations. Duality gap: nan, tolerance: 1.5413924041664856e-08\n",
            "  check_random_state(None), False)\n",
            "/usr/local/lib/python3.7/dist-packages/sklearn/covariance/_graph_lasso.py:226: ConvergenceWarning: Objective did not converge. You might want to increase the number of iterations. Duality gap: nan, tolerance: 5.5500354977793825e-08\n",
            "  check_random_state(None), False)\n",
            "/usr/local/lib/python3.7/dist-packages/sklearn/covariance/_graph_lasso.py:226: ConvergenceWarning: Objective did not converge. You might want to increase the number of iterations. Duality gap: nan, tolerance: 1.1280612671569845e-08\n",
            "  check_random_state(None), False)\n",
            "/usr/local/lib/python3.7/dist-packages/sklearn/covariance/_graph_lasso.py:226: ConvergenceWarning: Objective did not converge. You might want to increase the number of iterations. Duality gap: nan, tolerance: 1.0191803818067689e-08\n",
            "  check_random_state(None), False)\n",
            "/usr/local/lib/python3.7/dist-packages/sklearn/covariance/_graph_lasso.py:226: ConvergenceWarning: Objective did not converge. You might want to increase the number of iterations. Duality gap: nan, tolerance: 1.141761975459455e-08\n",
            "  check_random_state(None), False)\n",
            "/usr/local/lib/python3.7/dist-packages/sklearn/covariance/_graph_lasso.py:226: ConvergenceWarning: Objective did not converge. You might want to increase the number of iterations. Duality gap: nan, tolerance: 1.6014173531518322e-08\n",
            "  check_random_state(None), False)\n",
            "/usr/local/lib/python3.7/dist-packages/sklearn/covariance/_graph_lasso.py:226: ConvergenceWarning: Objective did not converge. You might want to increase the number of iterations. Duality gap: nan, tolerance: 1.080414120799676e-08\n",
            "  check_random_state(None), False)\n",
            "/usr/local/lib/python3.7/dist-packages/sklearn/covariance/_graph_lasso.py:226: ConvergenceWarning: Objective did not converge. You might want to increase the number of iterations. Duality gap: nan, tolerance: 1.5975317168458203e-09\n",
            "  check_random_state(None), False)\n",
            "/usr/local/lib/python3.7/dist-packages/sklearn/covariance/_graph_lasso.py:226: ConvergenceWarning: Objective did not converge. You might want to increase the number of iterations. Duality gap: nan, tolerance: 5.981154126903379e-08\n",
            "  check_random_state(None), False)\n",
            "/usr/local/lib/python3.7/dist-packages/sklearn/covariance/_graph_lasso.py:226: ConvergenceWarning: Objective did not converge. You might want to increase the number of iterations. Duality gap: nan, tolerance: 6.901877724568115e-08\n",
            "  check_random_state(None), False)\n",
            "/usr/local/lib/python3.7/dist-packages/sklearn/covariance/_graph_lasso.py:226: ConvergenceWarning: Objective did not converge. You might want to increase the number of iterations. Duality gap: nan, tolerance: 4.0890673606866017e-08\n",
            "  check_random_state(None), False)\n",
            "/usr/local/lib/python3.7/dist-packages/sklearn/covariance/_graph_lasso.py:226: ConvergenceWarning: Objective did not converge. You might want to increase the number of iterations. Duality gap: nan, tolerance: 8.230757351591433e-09\n",
            "  check_random_state(None), False)\n",
            "/usr/local/lib/python3.7/dist-packages/sklearn/covariance/_graph_lasso.py:226: ConvergenceWarning: Objective did not converge. You might want to increase the number of iterations. Duality gap: nan, tolerance: 6.692799395886627e-08\n",
            "  check_random_state(None), False)\n",
            "/usr/local/lib/python3.7/dist-packages/sklearn/covariance/_graph_lasso.py:226: ConvergenceWarning: Objective did not converge. You might want to increase the number of iterations. Duality gap: nan, tolerance: 3.98047057318784e-09\n",
            "  check_random_state(None), False)\n",
            "/usr/local/lib/python3.7/dist-packages/sklearn/covariance/_graph_lasso.py:226: ConvergenceWarning: Objective did not converge. You might want to increase the number of iterations. Duality gap: nan, tolerance: 5.869227695179029e-09\n",
            "  check_random_state(None), False)\n",
            "/usr/local/lib/python3.7/dist-packages/sklearn/covariance/_graph_lasso.py:226: ConvergenceWarning: Objective did not converge. You might want to increase the number of iterations. Duality gap: nan, tolerance: 1.4137783095583475e-08\n",
            "  check_random_state(None), False)\n",
            "/usr/local/lib/python3.7/dist-packages/sklearn/covariance/_graph_lasso.py:226: ConvergenceWarning: Objective did not converge. You might want to increase the number of iterations. Duality gap: nan, tolerance: 1.426278976425262e-08\n",
            "  check_random_state(None), False)\n",
            "/usr/local/lib/python3.7/dist-packages/sklearn/covariance/_graph_lasso.py:226: ConvergenceWarning: Objective did not converge. You might want to increase the number of iterations. Duality gap: nan, tolerance: 1.5917391475182587e-08\n",
            "  check_random_state(None), False)\n",
            "/usr/local/lib/python3.7/dist-packages/sklearn/covariance/_graph_lasso.py:226: ConvergenceWarning: Objective did not converge. You might want to increase the number of iterations. Duality gap: nan, tolerance: 9.76326323354624e-09\n",
            "  check_random_state(None), False)\n",
            "/usr/local/lib/python3.7/dist-packages/sklearn/covariance/_graph_lasso.py:226: ConvergenceWarning: Objective did not converge. You might want to increase the number of iterations. Duality gap: nan, tolerance: 1.9172730812043703e-08\n",
            "  check_random_state(None), False)\n",
            "/usr/local/lib/python3.7/dist-packages/sklearn/covariance/_graph_lasso.py:226: ConvergenceWarning: Objective did not converge. You might want to increase the number of iterations. Duality gap: nan, tolerance: 4.650543565224293e-09\n",
            "  check_random_state(None), False)\n",
            "/usr/local/lib/python3.7/dist-packages/sklearn/covariance/_graph_lasso.py:226: ConvergenceWarning: Objective did not converge. You might want to increase the number of iterations. Duality gap: nan, tolerance: 1.062307440366685e-08\n",
            "  check_random_state(None), False)\n",
            "/usr/local/lib/python3.7/dist-packages/sklearn/covariance/_graph_lasso.py:226: ConvergenceWarning: Objective did not converge. You might want to increase the number of iterations. Duality gap: nan, tolerance: 3.4879960277677748e-09\n",
            "  check_random_state(None), False)\n",
            "/usr/local/lib/python3.7/dist-packages/sklearn/covariance/_graph_lasso.py:226: ConvergenceWarning: Objective did not converge. You might want to increase the number of iterations. Duality gap: nan, tolerance: 3.7112920230833065e-08\n",
            "  check_random_state(None), False)\n",
            "/usr/local/lib/python3.7/dist-packages/sklearn/covariance/_graph_lasso.py:226: ConvergenceWarning: Objective did not converge. You might want to increase the number of iterations. Duality gap: nan, tolerance: 4.543587299322693e-08\n",
            "  check_random_state(None), False)\n",
            "/usr/local/lib/python3.7/dist-packages/sklearn/covariance/_graph_lasso.py:226: ConvergenceWarning: Objective did not converge. You might want to increase the number of iterations. Duality gap: nan, tolerance: 2.6887411120268408e-08\n",
            "  check_random_state(None), False)\n",
            "/usr/local/lib/python3.7/dist-packages/sklearn/covariance/_graph_lasso.py:226: ConvergenceWarning: Objective did not converge. You might want to increase the number of iterations. Duality gap: nan, tolerance: 1.2633216574481034e-08\n",
            "  check_random_state(None), False)\n",
            "/usr/local/lib/python3.7/dist-packages/sklearn/covariance/_graph_lasso.py:226: ConvergenceWarning: Objective did not converge. You might want to increase the number of iterations. Duality gap: nan, tolerance: 5.0392990136228776e-08\n",
            "  check_random_state(None), False)\n",
            "/usr/local/lib/python3.7/dist-packages/sklearn/covariance/_graph_lasso.py:226: ConvergenceWarning: Objective did not converge. You might want to increase the number of iterations. Duality gap: nan, tolerance: 1.72262284030324e-08\n",
            "  check_random_state(None), False)\n",
            "/usr/local/lib/python3.7/dist-packages/sklearn/covariance/_graph_lasso.py:226: ConvergenceWarning: Objective did not converge. You might want to increase the number of iterations. Duality gap: nan, tolerance: 6.927748329499125e-09\n",
            "  check_random_state(None), False)\n",
            "/usr/local/lib/python3.7/dist-packages/sklearn/covariance/_graph_lasso.py:226: ConvergenceWarning: Objective did not converge. You might want to increase the number of iterations. Duality gap: nan, tolerance: 5.135182807408184e-09\n",
            "  check_random_state(None), False)\n",
            "/usr/local/lib/python3.7/dist-packages/sklearn/covariance/_graph_lasso.py:226: ConvergenceWarning: Objective did not converge. You might want to increase the number of iterations. Duality gap: nan, tolerance: 7.037559069983999e-09\n",
            "  check_random_state(None), False)\n",
            "/usr/local/lib/python3.7/dist-packages/sklearn/covariance/_graph_lasso.py:226: ConvergenceWarning: Objective did not converge. You might want to increase the number of iterations. Duality gap: nan, tolerance: 8.209687173437328e-09\n",
            "  check_random_state(None), False)\n",
            "/usr/local/lib/python3.7/dist-packages/sklearn/covariance/_graph_lasso.py:226: ConvergenceWarning: Objective did not converge. You might want to increase the number of iterations. Duality gap: nan, tolerance: 3.878316129559313e-09\n",
            "  check_random_state(None), False)\n",
            "/usr/local/lib/python3.7/dist-packages/sklearn/covariance/_graph_lasso.py:226: ConvergenceWarning: Objective did not converge. You might want to increase the number of iterations. Duality gap: nan, tolerance: 7.76110852107853e-09\n",
            "  check_random_state(None), False)\n",
            "/usr/local/lib/python3.7/dist-packages/sklearn/covariance/_graph_lasso.py:226: ConvergenceWarning: Objective did not converge. You might want to increase the number of iterations. Duality gap: nan, tolerance: 5.000197188947427e-08\n",
            "  check_random_state(None), False)\n",
            "/usr/local/lib/python3.7/dist-packages/sklearn/covariance/_graph_lasso.py:226: ConvergenceWarning: Objective did not converge. You might want to increase the number of iterations. Duality gap: nan, tolerance: 4.462014520060398e-08\n",
            "  check_random_state(None), False)\n",
            "/usr/local/lib/python3.7/dist-packages/sklearn/covariance/_graph_lasso.py:226: ConvergenceWarning: Objective did not converge. You might want to increase the number of iterations. Duality gap: nan, tolerance: 3.19600647820667e-08\n",
            "  check_random_state(None), False)\n",
            "/usr/local/lib/python3.7/dist-packages/sklearn/covariance/_graph_lasso.py:226: ConvergenceWarning: Objective did not converge. You might want to increase the number of iterations. Duality gap: nan, tolerance: 3.389027551818345e-08\n",
            "  check_random_state(None), False)\n",
            "/usr/local/lib/python3.7/dist-packages/sklearn/covariance/_graph_lasso.py:226: ConvergenceWarning: Objective did not converge. You might want to increase the number of iterations. Duality gap: nan, tolerance: 1.2445375078107375e-08\n",
            "  check_random_state(None), False)\n",
            "/usr/local/lib/python3.7/dist-packages/sklearn/covariance/_graph_lasso.py:226: ConvergenceWarning: Objective did not converge. You might want to increase the number of iterations. Duality gap: nan, tolerance: 1.718695076821946e-08\n",
            "  check_random_state(None), False)\n",
            "/usr/local/lib/python3.7/dist-packages/sklearn/covariance/_graph_lasso.py:226: ConvergenceWarning: Objective did not converge. You might want to increase the number of iterations. Duality gap: nan, tolerance: 1.0192405608137255e-08\n",
            "  check_random_state(None), False)\n",
            "/usr/local/lib/python3.7/dist-packages/sklearn/covariance/_graph_lasso.py:226: ConvergenceWarning: Objective did not converge. You might want to increase the number of iterations. Duality gap: nan, tolerance: 1.0344405765165849e-07\n",
            "  check_random_state(None), False)\n",
            "/usr/local/lib/python3.7/dist-packages/sklearn/covariance/_graph_lasso.py:226: ConvergenceWarning: Objective did not converge. You might want to increase the number of iterations. Duality gap: nan, tolerance: 1.3256341777155145e-08\n",
            "  check_random_state(None), False)\n",
            "/usr/local/lib/python3.7/dist-packages/sklearn/covariance/_graph_lasso.py:226: ConvergenceWarning: Objective did not converge. You might want to increase the number of iterations. Duality gap: nan, tolerance: 1.4471985161713963e-08\n",
            "  check_random_state(None), False)\n",
            "/usr/local/lib/python3.7/dist-packages/sklearn/covariance/_graph_lasso.py:226: ConvergenceWarning: Objective did not converge. You might want to increase the number of iterations. Duality gap: nan, tolerance: 9.882838904061e-08\n",
            "  check_random_state(None), False)\n",
            "/usr/local/lib/python3.7/dist-packages/sklearn/covariance/_graph_lasso.py:226: ConvergenceWarning: Objective did not converge. You might want to increase the number of iterations. Duality gap: nan, tolerance: 9.002888434522175e-09\n",
            "  check_random_state(None), False)\n",
            "/usr/local/lib/python3.7/dist-packages/sklearn/covariance/_graph_lasso.py:226: ConvergenceWarning: Objective did not converge. You might want to increase the number of iterations. Duality gap: nan, tolerance: 1.348654830547029e-08\n",
            "  check_random_state(None), False)\n",
            "/usr/local/lib/python3.7/dist-packages/sklearn/covariance/_graph_lasso.py:226: ConvergenceWarning: Objective did not converge. You might want to increase the number of iterations. Duality gap: nan, tolerance: 2.7313231535511953e-08\n",
            "  check_random_state(None), False)\n",
            "/usr/local/lib/python3.7/dist-packages/sklearn/covariance/_graph_lasso.py:226: ConvergenceWarning: Objective did not converge. You might want to increase the number of iterations. Duality gap: nan, tolerance: 1.2060111710409152e-08\n",
            "  check_random_state(None), False)\n",
            "/usr/local/lib/python3.7/dist-packages/sklearn/covariance/_graph_lasso.py:226: ConvergenceWarning: Objective did not converge. You might want to increase the number of iterations. Duality gap: nan, tolerance: 3.280490251702495e-08\n",
            "  check_random_state(None), False)\n",
            "/usr/local/lib/python3.7/dist-packages/sklearn/covariance/_graph_lasso.py:226: ConvergenceWarning: Objective did not converge. You might want to increase the number of iterations. Duality gap: nan, tolerance: 7.529334882800983e-08\n",
            "  check_random_state(None), False)\n",
            "/usr/local/lib/python3.7/dist-packages/sklearn/covariance/_graph_lasso.py:226: ConvergenceWarning: Objective did not converge. You might want to increase the number of iterations. Duality gap: nan, tolerance: 2.866734623004516e-08\n",
            "  check_random_state(None), False)\n",
            "/usr/local/lib/python3.7/dist-packages/sklearn/covariance/_graph_lasso.py:226: ConvergenceWarning: Objective did not converge. You might want to increase the number of iterations. Duality gap: nan, tolerance: 2.5391199274561822e-08\n",
            "  check_random_state(None), False)\n",
            "/usr/local/lib/python3.7/dist-packages/sklearn/covariance/_graph_lasso.py:226: ConvergenceWarning: Objective did not converge. You might want to increase the number of iterations. Duality gap: nan, tolerance: 9.782478070470717e-08\n",
            "  check_random_state(None), False)\n",
            "/usr/local/lib/python3.7/dist-packages/sklearn/covariance/_graph_lasso.py:226: ConvergenceWarning: Objective did not converge. You might want to increase the number of iterations. Duality gap: nan, tolerance: 1.970779560890652e-08\n",
            "  check_random_state(None), False)\n",
            "/usr/local/lib/python3.7/dist-packages/sklearn/covariance/_graph_lasso.py:226: ConvergenceWarning: Objective did not converge. You might want to increase the number of iterations. Duality gap: nan, tolerance: 4.095646641320956e-08\n",
            "  check_random_state(None), False)\n",
            "/usr/local/lib/python3.7/dist-packages/sklearn/covariance/_graph_lasso.py:226: ConvergenceWarning: Objective did not converge. You might want to increase the number of iterations. Duality gap: nan, tolerance: 2.27208768585201e-08\n",
            "  check_random_state(None), False)\n",
            "/usr/local/lib/python3.7/dist-packages/sklearn/covariance/_graph_lasso.py:226: ConvergenceWarning: Objective did not converge. You might want to increase the number of iterations. Duality gap: nan, tolerance: 4.3459751361616606e-08\n",
            "  check_random_state(None), False)\n",
            "/usr/local/lib/python3.7/dist-packages/sklearn/covariance/_graph_lasso.py:226: ConvergenceWarning: Objective did not converge. You might want to increase the number of iterations. Duality gap: nan, tolerance: 5.1260296377611595e-08\n",
            "  check_random_state(None), False)\n",
            "/usr/local/lib/python3.7/dist-packages/sklearn/covariance/_graph_lasso.py:226: ConvergenceWarning: Objective did not converge. You might want to increase the number of iterations. Duality gap: nan, tolerance: 5.765131737492459e-09\n",
            "  check_random_state(None), False)\n",
            "/usr/local/lib/python3.7/dist-packages/sklearn/covariance/_graph_lasso.py:226: ConvergenceWarning: Objective did not converge. You might want to increase the number of iterations. Duality gap: nan, tolerance: 1.376034502963046e-08\n",
            "  check_random_state(None), False)\n",
            "/usr/local/lib/python3.7/dist-packages/sklearn/covariance/_graph_lasso.py:226: ConvergenceWarning: Objective did not converge. You might want to increase the number of iterations. Duality gap: nan, tolerance: 2.0866484761610464e-08\n",
            "  check_random_state(None), False)\n",
            "/usr/local/lib/python3.7/dist-packages/sklearn/covariance/_graph_lasso.py:226: ConvergenceWarning: Objective did not converge. You might want to increase the number of iterations. Duality gap: nan, tolerance: 1.4683378560790156e-08\n",
            "  check_random_state(None), False)\n",
            "/usr/local/lib/python3.7/dist-packages/sklearn/covariance/_graph_lasso.py:226: ConvergenceWarning: Objective did not converge. You might want to increase the number of iterations. Duality gap: nan, tolerance: 1.1877269916435038e-08\n",
            "  check_random_state(None), False)\n",
            "/usr/local/lib/python3.7/dist-packages/sklearn/covariance/_graph_lasso.py:226: ConvergenceWarning: Objective did not converge. You might want to increase the number of iterations. Duality gap: nan, tolerance: 4.6197513522286333e-08\n",
            "  check_random_state(None), False)\n",
            "/usr/local/lib/python3.7/dist-packages/sklearn/covariance/_graph_lasso.py:226: ConvergenceWarning: Objective did not converge. You might want to increase the number of iterations. Duality gap: nan, tolerance: 3.0908649159234173e-08\n",
            "  check_random_state(None), False)\n",
            "/usr/local/lib/python3.7/dist-packages/sklearn/covariance/_graph_lasso.py:226: ConvergenceWarning: Objective did not converge. You might want to increase the number of iterations. Duality gap: nan, tolerance: 9.536525559987623e-09\n",
            "  check_random_state(None), False)\n",
            "/usr/local/lib/python3.7/dist-packages/sklearn/covariance/_graph_lasso.py:226: ConvergenceWarning: Objective did not converge. You might want to increase the number of iterations. Duality gap: nan, tolerance: 1.591156813556803e-08\n",
            "  check_random_state(None), False)\n",
            "/usr/local/lib/python3.7/dist-packages/sklearn/covariance/_graph_lasso.py:226: ConvergenceWarning: Objective did not converge. You might want to increase the number of iterations. Duality gap: nan, tolerance: 1.0728606641483164e-08\n",
            "  check_random_state(None), False)\n",
            "/usr/local/lib/python3.7/dist-packages/sklearn/covariance/_graph_lasso.py:226: ConvergenceWarning: Objective did not converge. You might want to increase the number of iterations. Duality gap: nan, tolerance: 1.0310885225972772e-08\n",
            "  check_random_state(None), False)\n",
            "/usr/local/lib/python3.7/dist-packages/sklearn/covariance/_graph_lasso.py:226: ConvergenceWarning: Objective did not converge. You might want to increase the number of iterations. Duality gap: nan, tolerance: 3.323026218639537e-08\n",
            "  check_random_state(None), False)\n",
            "/usr/local/lib/python3.7/dist-packages/sklearn/covariance/_graph_lasso.py:226: ConvergenceWarning: Objective did not converge. You might want to increase the number of iterations. Duality gap: nan, tolerance: 4.6171439424246935e-08\n",
            "  check_random_state(None), False)\n",
            "/usr/local/lib/python3.7/dist-packages/sklearn/covariance/_graph_lasso.py:226: ConvergenceWarning: Objective did not converge. You might want to increase the number of iterations. Duality gap: nan, tolerance: 4.770831386512047e-08\n",
            "  check_random_state(None), False)\n",
            "/usr/local/lib/python3.7/dist-packages/sklearn/covariance/_graph_lasso.py:226: ConvergenceWarning: Objective did not converge. You might want to increase the number of iterations. Duality gap: nan, tolerance: 1.7019416378723653e-08\n",
            "  check_random_state(None), False)\n",
            "/usr/local/lib/python3.7/dist-packages/sklearn/covariance/_graph_lasso.py:226: ConvergenceWarning: Objective did not converge. You might want to increase the number of iterations. Duality gap: nan, tolerance: 5.121631635787774e-08\n",
            "  check_random_state(None), False)\n",
            "/usr/local/lib/python3.7/dist-packages/sklearn/covariance/_graph_lasso.py:226: ConvergenceWarning: Objective did not converge. You might want to increase the number of iterations. Duality gap: nan, tolerance: 2.2293346671265985e-08\n",
            "  check_random_state(None), False)\n",
            "/usr/local/lib/python3.7/dist-packages/sklearn/covariance/_graph_lasso.py:226: ConvergenceWarning: Objective did not converge. You might want to increase the number of iterations. Duality gap: nan, tolerance: 2.55879085649377e-08\n",
            "  check_random_state(None), False)\n",
            "/usr/local/lib/python3.7/dist-packages/sklearn/covariance/_graph_lasso.py:226: ConvergenceWarning: Objective did not converge. You might want to increase the number of iterations. Duality gap: nan, tolerance: 4.914100439552022e-08\n",
            "  check_random_state(None), False)\n",
            "/usr/local/lib/python3.7/dist-packages/sklearn/covariance/_graph_lasso.py:226: ConvergenceWarning: Objective did not converge. You might want to increase the number of iterations. Duality gap: nan, tolerance: 1.450144862499376e-08\n",
            "  check_random_state(None), False)\n",
            "/usr/local/lib/python3.7/dist-packages/sklearn/covariance/_graph_lasso.py:226: ConvergenceWarning: Objective did not converge. You might want to increase the number of iterations. Duality gap: nan, tolerance: 4.379661813367315e-08\n",
            "  check_random_state(None), False)\n",
            "/usr/local/lib/python3.7/dist-packages/sklearn/covariance/_graph_lasso.py:226: ConvergenceWarning: Objective did not converge. You might want to increase the number of iterations. Duality gap: nan, tolerance: 1.502652043528737e-08\n",
            "  check_random_state(None), False)\n",
            "/usr/local/lib/python3.7/dist-packages/sklearn/covariance/_graph_lasso.py:226: ConvergenceWarning: Objective did not converge. You might want to increase the number of iterations. Duality gap: nan, tolerance: 2.438848258836598e-08\n",
            "  check_random_state(None), False)\n",
            "/usr/local/lib/python3.7/dist-packages/sklearn/covariance/_graph_lasso.py:226: ConvergenceWarning: Objective did not converge. You might want to increase the number of iterations. Duality gap: nan, tolerance: 8.119693180127097e-09\n",
            "  check_random_state(None), False)\n",
            "/usr/local/lib/python3.7/dist-packages/sklearn/covariance/_graph_lasso.py:226: ConvergenceWarning: Objective did not converge. You might want to increase the number of iterations. Duality gap: nan, tolerance: 2.628151110069164e-08\n",
            "  check_random_state(None), False)\n",
            "/usr/local/lib/python3.7/dist-packages/sklearn/covariance/_graph_lasso.py:226: ConvergenceWarning: Objective did not converge. You might want to increase the number of iterations. Duality gap: nan, tolerance: 2.4763250285798206e-08\n",
            "  check_random_state(None), False)\n",
            "/usr/local/lib/python3.7/dist-packages/sklearn/covariance/_graph_lasso.py:226: ConvergenceWarning: Objective did not converge. You might want to increase the number of iterations. Duality gap: nan, tolerance: 2.5994691487151865e-08\n",
            "  check_random_state(None), False)\n",
            "/usr/local/lib/python3.7/dist-packages/sklearn/covariance/_graph_lasso.py:226: ConvergenceWarning: Objective did not converge. You might want to increase the number of iterations. Duality gap: nan, tolerance: 7.2391014548693025e-09\n",
            "  check_random_state(None), False)\n",
            "/usr/local/lib/python3.7/dist-packages/sklearn/covariance/_graph_lasso.py:226: ConvergenceWarning: Objective did not converge. You might want to increase the number of iterations. Duality gap: nan, tolerance: 6.563793694498147e-08\n",
            "  check_random_state(None), False)\n",
            "/usr/local/lib/python3.7/dist-packages/sklearn/covariance/_graph_lasso.py:226: ConvergenceWarning: Objective did not converge. You might want to increase the number of iterations. Duality gap: nan, tolerance: 3.868388645756755e-08\n",
            "  check_random_state(None), False)\n",
            "/usr/local/lib/python3.7/dist-packages/sklearn/covariance/_graph_lasso.py:226: ConvergenceWarning: Objective did not converge. You might want to increase the number of iterations. Duality gap: nan, tolerance: 3.1066052587557564e-08\n",
            "  check_random_state(None), False)\n",
            "/usr/local/lib/python3.7/dist-packages/sklearn/covariance/_graph_lasso.py:226: ConvergenceWarning: Objective did not converge. You might want to increase the number of iterations. Duality gap: nan, tolerance: 1.5003519864079914e-08\n",
            "  check_random_state(None), False)\n",
            "/usr/local/lib/python3.7/dist-packages/sklearn/covariance/_graph_lasso.py:226: ConvergenceWarning: Objective did not converge. You might want to increase the number of iterations. Duality gap: nan, tolerance: 7.919565764957851e-09\n",
            "  check_random_state(None), False)\n",
            "/usr/local/lib/python3.7/dist-packages/sklearn/covariance/_graph_lasso.py:226: ConvergenceWarning: Objective did not converge. You might want to increase the number of iterations. Duality gap: nan, tolerance: 5.031156455645458e-09\n",
            "  check_random_state(None), False)\n",
            "/usr/local/lib/python3.7/dist-packages/sklearn/covariance/_graph_lasso.py:226: ConvergenceWarning: Objective did not converge. You might want to increase the number of iterations. Duality gap: nan, tolerance: 8.705284749849225e-09\n",
            "  check_random_state(None), False)\n",
            "/usr/local/lib/python3.7/dist-packages/sklearn/covariance/_graph_lasso.py:226: ConvergenceWarning: Objective did not converge. You might want to increase the number of iterations. Duality gap: nan, tolerance: 1.125426042382425e-08\n",
            "  check_random_state(None), False)\n",
            "/usr/local/lib/python3.7/dist-packages/sklearn/covariance/_graph_lasso.py:226: ConvergenceWarning: Objective did not converge. You might want to increase the number of iterations. Duality gap: nan, tolerance: 1.92866820835389e-08\n",
            "  check_random_state(None), False)\n",
            "/usr/local/lib/python3.7/dist-packages/sklearn/covariance/_graph_lasso.py:226: ConvergenceWarning: Objective did not converge. You might want to increase the number of iterations. Duality gap: nan, tolerance: 1.2389377705755424e-08\n",
            "  check_random_state(None), False)\n",
            "/usr/local/lib/python3.7/dist-packages/sklearn/covariance/_graph_lasso.py:226: ConvergenceWarning: Objective did not converge. You might want to increase the number of iterations. Duality gap: nan, tolerance: 2.100897069064837e-08\n",
            "  check_random_state(None), False)\n",
            "/usr/local/lib/python3.7/dist-packages/sklearn/covariance/_graph_lasso.py:226: ConvergenceWarning: Objective did not converge. You might want to increase the number of iterations. Duality gap: nan, tolerance: 1.6056281052707649e-09\n",
            "  check_random_state(None), False)\n",
            "/usr/local/lib/python3.7/dist-packages/sklearn/covariance/_graph_lasso.py:226: ConvergenceWarning: Objective did not converge. You might want to increase the number of iterations. Duality gap: nan, tolerance: 9.599838731010849e-08\n",
            "  check_random_state(None), False)\n",
            "/usr/local/lib/python3.7/dist-packages/sklearn/covariance/_graph_lasso.py:226: ConvergenceWarning: Objective did not converge. You might want to increase the number of iterations. Duality gap: nan, tolerance: 1.3329013775359323e-08\n",
            "  check_random_state(None), False)\n",
            "/usr/local/lib/python3.7/dist-packages/sklearn/covariance/_graph_lasso.py:226: ConvergenceWarning: Objective did not converge. You might want to increase the number of iterations. Duality gap: nan, tolerance: 8.884331194901135e-09\n",
            "  check_random_state(None), False)\n",
            "/usr/local/lib/python3.7/dist-packages/sklearn/covariance/_graph_lasso.py:226: ConvergenceWarning: Objective did not converge. You might want to increase the number of iterations. Duality gap: nan, tolerance: 1.222704253370507e-08\n",
            "  check_random_state(None), False)\n",
            "/usr/local/lib/python3.7/dist-packages/sklearn/covariance/_graph_lasso.py:226: ConvergenceWarning: Objective did not converge. You might want to increase the number of iterations. Duality gap: nan, tolerance: 5.245388539778372e-08\n",
            "  check_random_state(None), False)\n",
            "/usr/local/lib/python3.7/dist-packages/sklearn/covariance/_graph_lasso.py:226: ConvergenceWarning: Objective did not converge. You might want to increase the number of iterations. Duality gap: nan, tolerance: 6.926389051643858e-08\n",
            "  check_random_state(None), False)\n",
            "/usr/local/lib/python3.7/dist-packages/sklearn/covariance/_graph_lasso.py:226: ConvergenceWarning: Objective did not converge. You might want to increase the number of iterations. Duality gap: nan, tolerance: 6.82434184316293e-08\n",
            "  check_random_state(None), False)\n",
            "/usr/local/lib/python3.7/dist-packages/sklearn/covariance/_graph_lasso.py:226: ConvergenceWarning: Objective did not converge. You might want to increase the number of iterations. Duality gap: nan, tolerance: 7.458943742870842e-08\n",
            "  check_random_state(None), False)\n",
            "/usr/local/lib/python3.7/dist-packages/sklearn/covariance/_graph_lasso.py:226: ConvergenceWarning: Objective did not converge. You might want to increase the number of iterations. Duality gap: nan, tolerance: 2.834447537485389e-08\n",
            "  check_random_state(None), False)\n",
            "/usr/local/lib/python3.7/dist-packages/sklearn/covariance/_graph_lasso.py:226: ConvergenceWarning: Objective did not converge. You might want to increase the number of iterations. Duality gap: nan, tolerance: 1.9507793701673648e-08\n",
            "  check_random_state(None), False)\n",
            "/usr/local/lib/python3.7/dist-packages/sklearn/covariance/_graph_lasso.py:226: ConvergenceWarning: Objective did not converge. You might want to increase the number of iterations. Duality gap: nan, tolerance: 6.451331802791494e-08\n",
            "  check_random_state(None), False)\n",
            "/usr/local/lib/python3.7/dist-packages/sklearn/covariance/_graph_lasso.py:226: ConvergenceWarning: Objective did not converge. You might want to increase the number of iterations. Duality gap: nan, tolerance: 8.905239561274601e-09\n",
            "  check_random_state(None), False)\n",
            "/usr/local/lib/python3.7/dist-packages/sklearn/covariance/_graph_lasso.py:226: ConvergenceWarning: Objective did not converge. You might want to increase the number of iterations. Duality gap: nan, tolerance: 1.3875839390032897e-08\n",
            "  check_random_state(None), False)\n",
            "/usr/local/lib/python3.7/dist-packages/sklearn/covariance/_graph_lasso.py:226: ConvergenceWarning: Objective did not converge. You might want to increase the number of iterations. Duality gap: nan, tolerance: 7.82566319384696e-08\n",
            "  check_random_state(None), False)\n",
            "/usr/local/lib/python3.7/dist-packages/sklearn/covariance/_graph_lasso.py:226: ConvergenceWarning: Objective did not converge. You might want to increase the number of iterations. Duality gap: nan, tolerance: 2.1494162495600724e-11\n",
            "  check_random_state(None), False)\n",
            "/usr/local/lib/python3.7/dist-packages/sklearn/covariance/_graph_lasso.py:226: ConvergenceWarning: Objective did not converge. You might want to increase the number of iterations. Duality gap: nan, tolerance: 3.5667298195568744e-08\n",
            "  check_random_state(None), False)\n",
            "/usr/local/lib/python3.7/dist-packages/sklearn/covariance/_graph_lasso.py:226: ConvergenceWarning: Objective did not converge. You might want to increase the number of iterations. Duality gap: nan, tolerance: 1.3016026235169965e-08\n",
            "  check_random_state(None), False)\n",
            "/usr/local/lib/python3.7/dist-packages/sklearn/covariance/_graph_lasso.py:226: ConvergenceWarning: Objective did not converge. You might want to increase the number of iterations. Duality gap: nan, tolerance: 1.5772552701865964e-08\n",
            "  check_random_state(None), False)\n",
            "/usr/local/lib/python3.7/dist-packages/sklearn/covariance/_graph_lasso.py:226: ConvergenceWarning: Objective did not converge. You might want to increase the number of iterations. Duality gap: nan, tolerance: 2.5693515915110427e-08\n",
            "  check_random_state(None), False)\n",
            "/usr/local/lib/python3.7/dist-packages/sklearn/covariance/_graph_lasso.py:226: ConvergenceWarning: Objective did not converge. You might want to increase the number of iterations. Duality gap: nan, tolerance: 2.6911310059969603e-08\n",
            "  check_random_state(None), False)\n",
            "/usr/local/lib/python3.7/dist-packages/sklearn/covariance/_graph_lasso.py:226: ConvergenceWarning: Objective did not converge. You might want to increase the number of iterations. Duality gap: nan, tolerance: 8.280666683669932e-09\n",
            "  check_random_state(None), False)\n",
            "/usr/local/lib/python3.7/dist-packages/sklearn/covariance/_graph_lasso.py:226: ConvergenceWarning: Objective did not converge. You might want to increase the number of iterations. Duality gap: nan, tolerance: 4.610091486073439e-08\n",
            "  check_random_state(None), False)\n",
            "/usr/local/lib/python3.7/dist-packages/sklearn/covariance/_graph_lasso.py:226: ConvergenceWarning: Objective did not converge. You might want to increase the number of iterations. Duality gap: nan, tolerance: 5.344027498460462e-09\n",
            "  check_random_state(None), False)\n",
            "/usr/local/lib/python3.7/dist-packages/sklearn/covariance/_graph_lasso.py:226: ConvergenceWarning: Objective did not converge. You might want to increase the number of iterations. Duality gap: nan, tolerance: 4.655681791477275e-08\n",
            "  check_random_state(None), False)\n",
            "/usr/local/lib/python3.7/dist-packages/sklearn/covariance/_graph_lasso.py:226: ConvergenceWarning: Objective did not converge. You might want to increase the number of iterations. Duality gap: nan, tolerance: 3.955209631699555e-08\n",
            "  check_random_state(None), False)\n",
            "/usr/local/lib/python3.7/dist-packages/sklearn/covariance/_graph_lasso.py:226: ConvergenceWarning: Objective did not converge. You might want to increase the number of iterations. Duality gap: nan, tolerance: 6.929912459392488e-09\n",
            "  check_random_state(None), False)\n",
            "/usr/local/lib/python3.7/dist-packages/sklearn/covariance/_graph_lasso.py:226: ConvergenceWarning: Objective did not converge. You might want to increase the number of iterations. Duality gap: nan, tolerance: 5.0150602828481e-08\n",
            "  check_random_state(None), False)\n",
            "/usr/local/lib/python3.7/dist-packages/sklearn/covariance/_graph_lasso.py:226: ConvergenceWarning: Objective did not converge. You might want to increase the number of iterations. Duality gap: nan, tolerance: 2.3913249957657138e-08\n",
            "  check_random_state(None), False)\n",
            "/usr/local/lib/python3.7/dist-packages/sklearn/covariance/_graph_lasso.py:226: ConvergenceWarning: Objective did not converge. You might want to increase the number of iterations. Duality gap: nan, tolerance: 6.526810958121799e-09\n",
            "  check_random_state(None), False)\n",
            "/usr/local/lib/python3.7/dist-packages/sklearn/covariance/_graph_lasso.py:226: ConvergenceWarning: Objective did not converge. You might want to increase the number of iterations. Duality gap: nan, tolerance: 8.97015947132774e-08\n",
            "  check_random_state(None), False)\n",
            "/usr/local/lib/python3.7/dist-packages/sklearn/covariance/_graph_lasso.py:226: ConvergenceWarning: Objective did not converge. You might want to increase the number of iterations. Duality gap: nan, tolerance: 4.389931028560582e-08\n",
            "  check_random_state(None), False)\n",
            "/usr/local/lib/python3.7/dist-packages/sklearn/covariance/_graph_lasso.py:226: ConvergenceWarning: Objective did not converge. You might want to increase the number of iterations. Duality gap: nan, tolerance: 3.1981286115952106e-08\n",
            "  check_random_state(None), False)\n",
            "/usr/local/lib/python3.7/dist-packages/sklearn/covariance/_graph_lasso.py:226: ConvergenceWarning: Objective did not converge. You might want to increase the number of iterations. Duality gap: nan, tolerance: 3.0144660565814045e-08\n",
            "  check_random_state(None), False)\n",
            "/usr/local/lib/python3.7/dist-packages/sklearn/covariance/_graph_lasso.py:226: ConvergenceWarning: Objective did not converge. You might want to increase the number of iterations. Duality gap: nan, tolerance: 7.356284646499502e-08\n",
            "  check_random_state(None), False)\n",
            "/usr/local/lib/python3.7/dist-packages/sklearn/covariance/_graph_lasso.py:226: ConvergenceWarning: Objective did not converge. You might want to increase the number of iterations. Duality gap: nan, tolerance: 4.4817106543712e-08\n",
            "  check_random_state(None), False)\n",
            "/usr/local/lib/python3.7/dist-packages/sklearn/covariance/_graph_lasso.py:226: ConvergenceWarning: Objective did not converge. You might want to increase the number of iterations. Duality gap: nan, tolerance: 1.4926554693123092e-08\n",
            "  check_random_state(None), False)\n",
            "/usr/local/lib/python3.7/dist-packages/sklearn/covariance/_graph_lasso.py:226: ConvergenceWarning: Objective did not converge. You might want to increase the number of iterations. Duality gap: nan, tolerance: 4.341238680465569e-08\n",
            "  check_random_state(None), False)\n",
            "/usr/local/lib/python3.7/dist-packages/sklearn/covariance/_graph_lasso.py:226: ConvergenceWarning: Objective did not converge. You might want to increase the number of iterations. Duality gap: nan, tolerance: 3.305233918164557e-08\n",
            "  check_random_state(None), False)\n",
            "/usr/local/lib/python3.7/dist-packages/sklearn/covariance/_graph_lasso.py:226: ConvergenceWarning: Objective did not converge. You might want to increase the number of iterations. Duality gap: nan, tolerance: 6.163471791985489e-08\n",
            "  check_random_state(None), False)\n",
            "/usr/local/lib/python3.7/dist-packages/sklearn/covariance/_graph_lasso.py:226: ConvergenceWarning: Objective did not converge. You might want to increase the number of iterations. Duality gap: nan, tolerance: 1.2910617235549954e-08\n",
            "  check_random_state(None), False)\n",
            "/usr/local/lib/python3.7/dist-packages/sklearn/covariance/_graph_lasso.py:226: ConvergenceWarning: Objective did not converge. You might want to increase the number of iterations. Duality gap: nan, tolerance: 7.163269278677082e-09\n",
            "  check_random_state(None), False)\n",
            "/usr/local/lib/python3.7/dist-packages/sklearn/covariance/_graph_lasso.py:226: ConvergenceWarning: Objective did not converge. You might want to increase the number of iterations. Duality gap: nan, tolerance: 5.000030131867873e-08\n",
            "  check_random_state(None), False)\n",
            "/usr/local/lib/python3.7/dist-packages/sklearn/covariance/_graph_lasso.py:226: ConvergenceWarning: Objective did not converge. You might want to increase the number of iterations. Duality gap: nan, tolerance: 2.1033581320578737e-08\n",
            "  check_random_state(None), False)\n",
            "/usr/local/lib/python3.7/dist-packages/sklearn/covariance/_graph_lasso.py:226: ConvergenceWarning: Objective did not converge. You might want to increase the number of iterations. Duality gap: nan, tolerance: 2.1397673182052962e-08\n",
            "  check_random_state(None), False)\n",
            "/usr/local/lib/python3.7/dist-packages/sklearn/covariance/_graph_lasso.py:226: ConvergenceWarning: Objective did not converge. You might want to increase the number of iterations. Duality gap: nan, tolerance: 1.7703687454293062e-08\n",
            "  check_random_state(None), False)\n",
            "/usr/local/lib/python3.7/dist-packages/sklearn/covariance/_graph_lasso.py:226: ConvergenceWarning: Objective did not converge. You might want to increase the number of iterations. Duality gap: nan, tolerance: 3.169094216414519e-08\n",
            "  check_random_state(None), False)\n",
            "/usr/local/lib/python3.7/dist-packages/sklearn/covariance/_graph_lasso.py:226: ConvergenceWarning: Objective did not converge. You might want to increase the number of iterations. Duality gap: nan, tolerance: 2.350940038468312e-08\n",
            "  check_random_state(None), False)\n",
            "/usr/local/lib/python3.7/dist-packages/sklearn/covariance/_graph_lasso.py:226: ConvergenceWarning: Objective did not converge. You might want to increase the number of iterations. Duality gap: nan, tolerance: 6.55851137302524e-08\n",
            "  check_random_state(None), False)\n",
            "/usr/local/lib/python3.7/dist-packages/sklearn/covariance/_graph_lasso.py:226: ConvergenceWarning: Objective did not converge. You might want to increase the number of iterations. Duality gap: nan, tolerance: 6.088849486434629e-08\n",
            "  check_random_state(None), False)\n",
            "/usr/local/lib/python3.7/dist-packages/sklearn/covariance/_graph_lasso.py:226: ConvergenceWarning: Objective did not converge. You might want to increase the number of iterations. Duality gap: nan, tolerance: 3.0772766237828884e-08\n",
            "  check_random_state(None), False)\n",
            "/usr/local/lib/python3.7/dist-packages/sklearn/covariance/_graph_lasso.py:226: ConvergenceWarning: Objective did not converge. You might want to increase the number of iterations. Duality gap: nan, tolerance: 1.6217127112363264e-08\n",
            "  check_random_state(None), False)\n",
            "/usr/local/lib/python3.7/dist-packages/sklearn/covariance/_graph_lasso.py:226: ConvergenceWarning: Objective did not converge. You might want to increase the number of iterations. Duality gap: nan, tolerance: 7.46598361539999e-09\n",
            "  check_random_state(None), False)\n",
            "/usr/local/lib/python3.7/dist-packages/sklearn/covariance/_graph_lasso.py:226: ConvergenceWarning: Objective did not converge. You might want to increase the number of iterations. Duality gap: nan, tolerance: 7.838690581877153e-09\n",
            "  check_random_state(None), False)\n",
            "/usr/local/lib/python3.7/dist-packages/sklearn/covariance/_graph_lasso.py:226: ConvergenceWarning: Objective did not converge. You might want to increase the number of iterations. Duality gap: nan, tolerance: 6.686421708107159e-08\n",
            "  check_random_state(None), False)\n",
            "/usr/local/lib/python3.7/dist-packages/sklearn/covariance/_graph_lasso.py:226: ConvergenceWarning: Objective did not converge. You might want to increase the number of iterations. Duality gap: nan, tolerance: 2.413261307929154e-08\n",
            "  check_random_state(None), False)\n",
            "/usr/local/lib/python3.7/dist-packages/sklearn/covariance/_graph_lasso.py:226: ConvergenceWarning: Objective did not converge. You might want to increase the number of iterations. Duality gap: nan, tolerance: 6.67280253417529e-08\n",
            "  check_random_state(None), False)\n",
            "/usr/local/lib/python3.7/dist-packages/sklearn/covariance/_graph_lasso.py:226: ConvergenceWarning: Objective did not converge. You might want to increase the number of iterations. Duality gap: nan, tolerance: 4.219347638934021e-08\n",
            "  check_random_state(None), False)\n",
            "/usr/local/lib/python3.7/dist-packages/sklearn/covariance/_graph_lasso.py:226: ConvergenceWarning: Objective did not converge. You might want to increase the number of iterations. Duality gap: nan, tolerance: 1.8176021387049115e-08\n",
            "  check_random_state(None), False)\n",
            "/usr/local/lib/python3.7/dist-packages/sklearn/covariance/_graph_lasso.py:226: ConvergenceWarning: Objective did not converge. You might want to increase the number of iterations. Duality gap: nan, tolerance: 2.117514257990649e-08\n",
            "  check_random_state(None), False)\n",
            "/usr/local/lib/python3.7/dist-packages/sklearn/covariance/_graph_lasso.py:226: ConvergenceWarning: Objective did not converge. You might want to increase the number of iterations. Duality gap: nan, tolerance: 9.215535820612349e-08\n",
            "  check_random_state(None), False)\n",
            "/usr/local/lib/python3.7/dist-packages/sklearn/covariance/_graph_lasso.py:226: ConvergenceWarning: Objective did not converge. You might want to increase the number of iterations. Duality gap: nan, tolerance: 7.481505827534525e-09\n",
            "  check_random_state(None), False)\n",
            "/usr/local/lib/python3.7/dist-packages/sklearn/covariance/_graph_lasso.py:226: ConvergenceWarning: Objective did not converge. You might want to increase the number of iterations. Duality gap: nan, tolerance: 3.138473376627668e-08\n",
            "  check_random_state(None), False)\n",
            "/usr/local/lib/python3.7/dist-packages/sklearn/covariance/_graph_lasso.py:226: ConvergenceWarning: Objective did not converge. You might want to increase the number of iterations. Duality gap: nan, tolerance: 6.824168843429119e-08\n",
            "  check_random_state(None), False)\n",
            "/usr/local/lib/python3.7/dist-packages/sklearn/covariance/_graph_lasso.py:226: ConvergenceWarning: Objective did not converge. You might want to increase the number of iterations. Duality gap: nan, tolerance: 7.839408509029945e-08\n",
            "  check_random_state(None), False)\n",
            "/usr/local/lib/python3.7/dist-packages/sklearn/covariance/_graph_lasso.py:226: ConvergenceWarning: Objective did not converge. You might want to increase the number of iterations. Duality gap: nan, tolerance: 1.2501600047612258e-08\n",
            "  check_random_state(None), False)\n",
            "/usr/local/lib/python3.7/dist-packages/sklearn/covariance/_graph_lasso.py:226: ConvergenceWarning: Objective did not converge. You might want to increase the number of iterations. Duality gap: nan, tolerance: 1.8271606969015604e-08\n",
            "  check_random_state(None), False)\n",
            "/usr/local/lib/python3.7/dist-packages/sklearn/covariance/_graph_lasso.py:226: ConvergenceWarning: Objective did not converge. You might want to increase the number of iterations. Duality gap: nan, tolerance: 1.0099107141145412e-08\n",
            "  check_random_state(None), False)\n",
            "/usr/local/lib/python3.7/dist-packages/sklearn/covariance/_graph_lasso.py:226: ConvergenceWarning: Objective did not converge. You might want to increase the number of iterations. Duality gap: nan, tolerance: 3.705707330142352e-09\n",
            "  check_random_state(None), False)\n",
            "/usr/local/lib/python3.7/dist-packages/sklearn/covariance/_graph_lasso.py:226: ConvergenceWarning: Objective did not converge. You might want to increase the number of iterations. Duality gap: nan, tolerance: 4.829215238098235e-09\n",
            "  check_random_state(None), False)\n",
            "/usr/local/lib/python3.7/dist-packages/sklearn/covariance/_graph_lasso.py:226: ConvergenceWarning: Objective did not converge. You might want to increase the number of iterations. Duality gap: nan, tolerance: 6.263111391360806e-09\n",
            "  check_random_state(None), False)\n",
            "/usr/local/lib/python3.7/dist-packages/sklearn/covariance/_graph_lasso.py:226: ConvergenceWarning: Objective did not converge. You might want to increase the number of iterations. Duality gap: nan, tolerance: 4.594213757018545e-09\n",
            "  check_random_state(None), False)\n",
            "/usr/local/lib/python3.7/dist-packages/sklearn/covariance/_graph_lasso.py:226: ConvergenceWarning: Objective did not converge. You might want to increase the number of iterations. Duality gap: nan, tolerance: 3.702449928448696e-08\n",
            "  check_random_state(None), False)\n",
            "/usr/local/lib/python3.7/dist-packages/sklearn/covariance/_graph_lasso.py:226: ConvergenceWarning: Objective did not converge. You might want to increase the number of iterations. Duality gap: nan, tolerance: 6.873962742439137e-09\n",
            "  check_random_state(None), False)\n",
            "/usr/local/lib/python3.7/dist-packages/sklearn/covariance/_graph_lasso.py:226: ConvergenceWarning: Objective did not converge. You might want to increase the number of iterations. Duality gap: nan, tolerance: 1.7625843424520785e-08\n",
            "  check_random_state(None), False)\n",
            "/usr/local/lib/python3.7/dist-packages/sklearn/covariance/_graph_lasso.py:226: ConvergenceWarning: Objective did not converge. You might want to increase the number of iterations. Duality gap: nan, tolerance: 3.2876120524022625e-08\n",
            "  check_random_state(None), False)\n",
            "/usr/local/lib/python3.7/dist-packages/sklearn/covariance/_graph_lasso.py:226: ConvergenceWarning: Objective did not converge. You might want to increase the number of iterations. Duality gap: nan, tolerance: 3.3219603276066465e-08\n",
            "  check_random_state(None), False)\n",
            "/usr/local/lib/python3.7/dist-packages/sklearn/covariance/_graph_lasso.py:226: ConvergenceWarning: Objective did not converge. You might want to increase the number of iterations. Duality gap: nan, tolerance: 8.522229615533907e-09\n",
            "  check_random_state(None), False)\n",
            "/usr/local/lib/python3.7/dist-packages/sklearn/covariance/_graph_lasso.py:226: ConvergenceWarning: Objective did not converge. You might want to increase the number of iterations. Duality gap: nan, tolerance: 8.327872709213213e-09\n",
            "  check_random_state(None), False)\n",
            "/usr/local/lib/python3.7/dist-packages/sklearn/covariance/_graph_lasso.py:226: ConvergenceWarning: Objective did not converge. You might want to increase the number of iterations. Duality gap: nan, tolerance: 4.0923503935083306e-08\n",
            "  check_random_state(None), False)\n",
            "/usr/local/lib/python3.7/dist-packages/sklearn/covariance/_graph_lasso.py:226: ConvergenceWarning: Objective did not converge. You might want to increase the number of iterations. Duality gap: nan, tolerance: 6.56101494025482e-08\n",
            "  check_random_state(None), False)\n",
            "/usr/local/lib/python3.7/dist-packages/sklearn/covariance/_graph_lasso.py:226: ConvergenceWarning: Objective did not converge. You might want to increase the number of iterations. Duality gap: nan, tolerance: 2.1263817722190603e-08\n",
            "  check_random_state(None), False)\n",
            "/usr/local/lib/python3.7/dist-packages/sklearn/covariance/_graph_lasso.py:226: ConvergenceWarning: Objective did not converge. You might want to increase the number of iterations. Duality gap: nan, tolerance: 1.7644294731695277e-08\n",
            "  check_random_state(None), False)\n",
            "/usr/local/lib/python3.7/dist-packages/sklearn/covariance/_graph_lasso.py:226: ConvergenceWarning: Objective did not converge. You might want to increase the number of iterations. Duality gap: nan, tolerance: 1.620830149446492e-08\n",
            "  check_random_state(None), False)\n",
            "/usr/local/lib/python3.7/dist-packages/sklearn/covariance/_graph_lasso.py:226: ConvergenceWarning: Objective did not converge. You might want to increase the number of iterations. Duality gap: nan, tolerance: 3.3550952410984315e-08\n",
            "  check_random_state(None), False)\n",
            "/usr/local/lib/python3.7/dist-packages/sklearn/covariance/_graph_lasso.py:226: ConvergenceWarning: Objective did not converge. You might want to increase the number of iterations. Duality gap: nan, tolerance: 3.4068074978369464e-08\n",
            "  check_random_state(None), False)\n",
            "/usr/local/lib/python3.7/dist-packages/sklearn/covariance/_graph_lasso.py:226: ConvergenceWarning: Objective did not converge. You might want to increase the number of iterations. Duality gap: nan, tolerance: 1.531168411280593e-08\n",
            "  check_random_state(None), False)\n",
            "/usr/local/lib/python3.7/dist-packages/sklearn/covariance/_graph_lasso.py:226: ConvergenceWarning: Objective did not converge. You might want to increase the number of iterations. Duality gap: nan, tolerance: 5.5085525756113294e-09\n",
            "  check_random_state(None), False)\n",
            "/usr/local/lib/python3.7/dist-packages/sklearn/covariance/_graph_lasso.py:226: ConvergenceWarning: Objective did not converge. You might want to increase the number of iterations. Duality gap: nan, tolerance: 7.67367447452676e-09\n",
            "  check_random_state(None), False)\n",
            "/usr/local/lib/python3.7/dist-packages/sklearn/covariance/_graph_lasso.py:226: ConvergenceWarning: Objective did not converge. You might want to increase the number of iterations. Duality gap: nan, tolerance: 4.0234966530713185e-09\n",
            "  check_random_state(None), False)\n",
            "/usr/local/lib/python3.7/dist-packages/sklearn/covariance/_graph_lasso.py:226: ConvergenceWarning: Objective did not converge. You might want to increase the number of iterations. Duality gap: nan, tolerance: 1.8503418582365474e-08\n",
            "  check_random_state(None), False)\n",
            "/usr/local/lib/python3.7/dist-packages/sklearn/covariance/_graph_lasso.py:226: ConvergenceWarning: Objective did not converge. You might want to increase the number of iterations. Duality gap: nan, tolerance: 4.564354871853428e-09\n",
            "  check_random_state(None), False)\n",
            "/usr/local/lib/python3.7/dist-packages/sklearn/covariance/_graph_lasso.py:226: ConvergenceWarning: Objective did not converge. You might want to increase the number of iterations. Duality gap: nan, tolerance: 1.360339375458536e-08\n",
            "  check_random_state(None), False)\n",
            "/usr/local/lib/python3.7/dist-packages/sklearn/covariance/_graph_lasso.py:226: ConvergenceWarning: Objective did not converge. You might want to increase the number of iterations. Duality gap: nan, tolerance: 1.2465882478537025e-08\n",
            "  check_random_state(None), False)\n",
            "/usr/local/lib/python3.7/dist-packages/sklearn/covariance/_graph_lasso.py:226: ConvergenceWarning: Objective did not converge. You might want to increase the number of iterations. Duality gap: nan, tolerance: 4.057692884376264e-08\n",
            "  check_random_state(None), False)\n",
            "/usr/local/lib/python3.7/dist-packages/sklearn/covariance/_graph_lasso.py:226: ConvergenceWarning: Objective did not converge. You might want to increase the number of iterations. Duality gap: nan, tolerance: 6.277822978901337e-09\n",
            "  check_random_state(None), False)\n",
            "/usr/local/lib/python3.7/dist-packages/sklearn/covariance/_graph_lasso.py:226: ConvergenceWarning: Objective did not converge. You might want to increase the number of iterations. Duality gap: nan, tolerance: 4.5018380894876e-09\n",
            "  check_random_state(None), False)\n",
            "/usr/local/lib/python3.7/dist-packages/sklearn/covariance/_graph_lasso.py:226: ConvergenceWarning: Objective did not converge. You might want to increase the number of iterations. Duality gap: nan, tolerance: 3.3092439826383968e-09\n",
            "  check_random_state(None), False)\n",
            "/usr/local/lib/python3.7/dist-packages/sklearn/covariance/_graph_lasso.py:226: ConvergenceWarning: Objective did not converge. You might want to increase the number of iterations. Duality gap: nan, tolerance: 2.5347777203686777e-09\n",
            "  check_random_state(None), False)\n",
            "/usr/local/lib/python3.7/dist-packages/sklearn/covariance/_graph_lasso.py:226: ConvergenceWarning: Objective did not converge. You might want to increase the number of iterations. Duality gap: nan, tolerance: 1.6301992251833913e-08\n",
            "  check_random_state(None), False)\n",
            "/usr/local/lib/python3.7/dist-packages/sklearn/covariance/_graph_lasso.py:226: ConvergenceWarning: Objective did not converge. You might want to increase the number of iterations. Duality gap: nan, tolerance: 1.2475378155921615e-08\n",
            "  check_random_state(None), False)\n",
            "/usr/local/lib/python3.7/dist-packages/sklearn/covariance/_graph_lasso.py:226: ConvergenceWarning: Objective did not converge. You might want to increase the number of iterations. Duality gap: nan, tolerance: 4.067659095654792e-08\n",
            "  check_random_state(None), False)\n",
            "/usr/local/lib/python3.7/dist-packages/sklearn/covariance/_graph_lasso.py:226: ConvergenceWarning: Objective did not converge. You might want to increase the number of iterations. Duality gap: nan, tolerance: 3.260115907687401e-08\n",
            "  check_random_state(None), False)\n",
            "/usr/local/lib/python3.7/dist-packages/sklearn/covariance/_graph_lasso.py:226: ConvergenceWarning: Objective did not converge. You might want to increase the number of iterations. Duality gap: nan, tolerance: 1.4128562515098458e-08\n",
            "  check_random_state(None), False)\n",
            "/usr/local/lib/python3.7/dist-packages/sklearn/covariance/_graph_lasso.py:226: ConvergenceWarning: Objective did not converge. You might want to increase the number of iterations. Duality gap: nan, tolerance: 5.2801813712073654e-08\n",
            "  check_random_state(None), False)\n",
            "/usr/local/lib/python3.7/dist-packages/sklearn/covariance/_graph_lasso.py:226: ConvergenceWarning: Objective did not converge. You might want to increase the number of iterations. Duality gap: nan, tolerance: 3.6265982674172643e-08\n",
            "  check_random_state(None), False)\n",
            "/usr/local/lib/python3.7/dist-packages/sklearn/covariance/_graph_lasso.py:226: ConvergenceWarning: Objective did not converge. You might want to increase the number of iterations. Duality gap: nan, tolerance: 4.312743123457144e-08\n",
            "  check_random_state(None), False)\n",
            "/usr/local/lib/python3.7/dist-packages/sklearn/covariance/_graph_lasso.py:226: ConvergenceWarning: Objective did not converge. You might want to increase the number of iterations. Duality gap: nan, tolerance: 1.343189241272704e-08\n",
            "  check_random_state(None), False)\n",
            "/usr/local/lib/python3.7/dist-packages/sklearn/covariance/_graph_lasso.py:226: ConvergenceWarning: Objective did not converge. You might want to increase the number of iterations. Duality gap: nan, tolerance: 3.7578595720323854e-08\n",
            "  check_random_state(None), False)\n",
            "/usr/local/lib/python3.7/dist-packages/sklearn/covariance/_graph_lasso.py:226: ConvergenceWarning: Objective did not converge. You might want to increase the number of iterations. Duality gap: nan, tolerance: 1.4370868204573466e-08\n",
            "  check_random_state(None), False)\n",
            "/usr/local/lib/python3.7/dist-packages/sklearn/covariance/_graph_lasso.py:226: ConvergenceWarning: Objective did not converge. You might want to increase the number of iterations. Duality gap: nan, tolerance: 7.556505490520741e-08\n",
            "  check_random_state(None), False)\n",
            "/usr/local/lib/python3.7/dist-packages/sklearn/covariance/_graph_lasso.py:226: ConvergenceWarning: Objective did not converge. You might want to increase the number of iterations. Duality gap: nan, tolerance: 9.706497307935781e-08\n",
            "  check_random_state(None), False)\n",
            "/usr/local/lib/python3.7/dist-packages/sklearn/covariance/_graph_lasso.py:226: ConvergenceWarning: Objective did not converge. You might want to increase the number of iterations. Duality gap: nan, tolerance: 8.657356205098846e-08\n",
            "  check_random_state(None), False)\n",
            "/usr/local/lib/python3.7/dist-packages/sklearn/covariance/_graph_lasso.py:226: ConvergenceWarning: Objective did not converge. You might want to increase the number of iterations. Duality gap: nan, tolerance: 2.2227471531328603e-08\n",
            "  check_random_state(None), False)\n",
            "[Parallel(n_jobs=1)]: Using backend SequentialBackend with 1 concurrent workers.\n",
            "[Parallel(n_jobs=1)]: Done   3 out of   3 | elapsed:    3.4s finished\n",
            "[Parallel(n_jobs=1)]: Using backend SequentialBackend with 1 concurrent workers.\n"
          ],
          "name": "stderr"
        },
        {
          "output_type": "stream",
          "text": [
            "[GraphicalLassoCV] Done refinement  1 out of 4:   3s\n"
          ],
          "name": "stdout"
        },
        {
          "output_type": "stream",
          "text": [
            "[Parallel(n_jobs=1)]: Done   3 out of   3 | elapsed:    3.6s finished\n",
            "[Parallel(n_jobs=1)]: Using backend SequentialBackend with 1 concurrent workers.\n"
          ],
          "name": "stderr"
        },
        {
          "output_type": "stream",
          "text": [
            "[GraphicalLassoCV] Done refinement  2 out of 4:   7s\n"
          ],
          "name": "stdout"
        },
        {
          "output_type": "stream",
          "text": [
            "[Parallel(n_jobs=1)]: Done   3 out of   3 | elapsed:    7.5s finished\n",
            "[Parallel(n_jobs=1)]: Using backend SequentialBackend with 1 concurrent workers.\n"
          ],
          "name": "stderr"
        },
        {
          "output_type": "stream",
          "text": [
            "[GraphicalLassoCV] Done refinement  3 out of 4:  14s\n"
          ],
          "name": "stdout"
        },
        {
          "output_type": "stream",
          "text": [
            "[Parallel(n_jobs=1)]: Done   3 out of   3 | elapsed:    7.6s finished\n"
          ],
          "name": "stderr"
        },
        {
          "output_type": "stream",
          "text": [
            "[GraphicalLassoCV] Done refinement  4 out of 4:  22s\n"
          ],
          "name": "stdout"
        },
        {
          "output_type": "stream",
          "text": [
            "[Parallel(n_jobs=1)]: Using backend SequentialBackend with 1 concurrent workers.\n",
            "[Parallel(n_jobs=1)]: Done   3 out of   3 | elapsed:    3.3s finished\n",
            "[Parallel(n_jobs=1)]: Using backend SequentialBackend with 1 concurrent workers.\n"
          ],
          "name": "stderr"
        },
        {
          "output_type": "stream",
          "text": [
            "[GraphicalLassoCV] Done refinement  1 out of 4:   3s\n"
          ],
          "name": "stdout"
        },
        {
          "output_type": "stream",
          "text": [
            "[Parallel(n_jobs=1)]: Done   3 out of   3 | elapsed:    3.3s finished\n",
            "[Parallel(n_jobs=1)]: Using backend SequentialBackend with 1 concurrent workers.\n"
          ],
          "name": "stderr"
        },
        {
          "output_type": "stream",
          "text": [
            "[GraphicalLassoCV] Done refinement  2 out of 4:   6s\n"
          ],
          "name": "stdout"
        },
        {
          "output_type": "stream",
          "text": [
            "[Parallel(n_jobs=1)]: Done   3 out of   3 | elapsed:    5.9s finished\n",
            "[Parallel(n_jobs=1)]: Using backend SequentialBackend with 1 concurrent workers.\n"
          ],
          "name": "stderr"
        },
        {
          "output_type": "stream",
          "text": [
            "[GraphicalLassoCV] Done refinement  3 out of 4:  12s\n"
          ],
          "name": "stdout"
        },
        {
          "output_type": "stream",
          "text": [
            "[Parallel(n_jobs=1)]: Done   3 out of   3 | elapsed:    7.4s finished\n"
          ],
          "name": "stderr"
        },
        {
          "output_type": "stream",
          "text": [
            "[GraphicalLassoCV] Done refinement  4 out of 4:  19s\n"
          ],
          "name": "stdout"
        },
        {
          "output_type": "stream",
          "text": [
            "[Parallel(n_jobs=1)]: Using backend SequentialBackend with 1 concurrent workers.\n",
            "[Parallel(n_jobs=1)]: Done   3 out of   3 | elapsed:    3.3s finished\n",
            "[Parallel(n_jobs=1)]: Using backend SequentialBackend with 1 concurrent workers.\n"
          ],
          "name": "stderr"
        },
        {
          "output_type": "stream",
          "text": [
            "[GraphicalLassoCV] Done refinement  1 out of 4:   3s\n"
          ],
          "name": "stdout"
        },
        {
          "output_type": "stream",
          "text": [
            "[Parallel(n_jobs=1)]: Done   3 out of   3 | elapsed:    4.0s finished\n",
            "[Parallel(n_jobs=1)]: Using backend SequentialBackend with 1 concurrent workers.\n"
          ],
          "name": "stderr"
        },
        {
          "output_type": "stream",
          "text": [
            "[GraphicalLassoCV] Done refinement  2 out of 4:   7s\n"
          ],
          "name": "stdout"
        },
        {
          "output_type": "stream",
          "text": [
            "[Parallel(n_jobs=1)]: Done   3 out of   3 | elapsed:    4.7s finished\n",
            "[Parallel(n_jobs=1)]: Using backend SequentialBackend with 1 concurrent workers.\n"
          ],
          "name": "stderr"
        },
        {
          "output_type": "stream",
          "text": [
            "[GraphicalLassoCV] Done refinement  3 out of 4:  12s\n"
          ],
          "name": "stdout"
        },
        {
          "output_type": "stream",
          "text": [
            "[Parallel(n_jobs=1)]: Done   3 out of   3 | elapsed:    6.9s finished\n"
          ],
          "name": "stderr"
        },
        {
          "output_type": "stream",
          "text": [
            "[GraphicalLassoCV] Done refinement  4 out of 4:  19s\n"
          ],
          "name": "stdout"
        },
        {
          "output_type": "stream",
          "text": [
            "[Parallel(n_jobs=1)]: Using backend SequentialBackend with 1 concurrent workers.\n",
            "[Parallel(n_jobs=1)]: Done   3 out of   3 | elapsed:    3.1s finished\n",
            "[Parallel(n_jobs=1)]: Using backend SequentialBackend with 1 concurrent workers.\n"
          ],
          "name": "stderr"
        },
        {
          "output_type": "stream",
          "text": [
            "[GraphicalLassoCV] Done refinement  1 out of 4:   3s\n"
          ],
          "name": "stdout"
        },
        {
          "output_type": "stream",
          "text": [
            "[Parallel(n_jobs=1)]: Done   3 out of   3 | elapsed:    8.3s finished\n",
            "[Parallel(n_jobs=1)]: Using backend SequentialBackend with 1 concurrent workers.\n"
          ],
          "name": "stderr"
        },
        {
          "output_type": "stream",
          "text": [
            "[GraphicalLassoCV] Done refinement  2 out of 4:  11s\n"
          ],
          "name": "stdout"
        },
        {
          "output_type": "stream",
          "text": [
            "[Parallel(n_jobs=1)]: Done   3 out of   3 | elapsed:   11.2s finished\n",
            "[Parallel(n_jobs=1)]: Using backend SequentialBackend with 1 concurrent workers.\n"
          ],
          "name": "stderr"
        },
        {
          "output_type": "stream",
          "text": [
            "[GraphicalLassoCV] Done refinement  3 out of 4:  22s\n"
          ],
          "name": "stdout"
        },
        {
          "output_type": "stream",
          "text": [
            "[Parallel(n_jobs=1)]: Done   3 out of   3 | elapsed:   10.6s finished\n"
          ],
          "name": "stderr"
        },
        {
          "output_type": "stream",
          "text": [
            "[GraphicalLassoCV] Done refinement  4 out of 4:  33s\n"
          ],
          "name": "stdout"
        },
        {
          "output_type": "stream",
          "text": [
            "[Parallel(n_jobs=1)]: Using backend SequentialBackend with 1 concurrent workers.\n",
            "/usr/local/lib/python3.7/dist-packages/sklearn/covariance/_graph_lasso.py:236: RuntimeWarning: divide by zero encountered in double_scalars\n",
            "  - np.dot(covariance_[indices != idx, idx], coefs)))\n",
            "/usr/local/lib/python3.7/dist-packages/sklearn/covariance/_graph_lasso.py:238: RuntimeWarning: invalid value encountered in multiply\n",
            "  * coefs)\n",
            "/usr/local/lib/python3.7/dist-packages/sklearn/covariance/_graph_lasso.py:240: RuntimeWarning: invalid value encountered in multiply\n",
            "  * coefs)\n",
            "[Parallel(n_jobs=1)]: Done   3 out of   3 | elapsed:    3.2s finished\n",
            "[Parallel(n_jobs=1)]: Using backend SequentialBackend with 1 concurrent workers.\n",
            "/usr/local/lib/python3.7/dist-packages/sklearn/covariance/_graph_lasso.py:236: RuntimeWarning: divide by zero encountered in double_scalars\n",
            "  - np.dot(covariance_[indices != idx, idx], coefs)))\n",
            "/usr/local/lib/python3.7/dist-packages/sklearn/covariance/_graph_lasso.py:238: RuntimeWarning: invalid value encountered in multiply\n",
            "  * coefs)\n",
            "/usr/local/lib/python3.7/dist-packages/sklearn/covariance/_graph_lasso.py:240: RuntimeWarning: invalid value encountered in multiply\n",
            "  * coefs)\n"
          ],
          "name": "stderr"
        },
        {
          "output_type": "stream",
          "text": [
            "[GraphicalLassoCV] Done refinement  1 out of 4:   3s\n"
          ],
          "name": "stdout"
        },
        {
          "output_type": "stream",
          "text": [
            "[Parallel(n_jobs=1)]: Done   3 out of   3 | elapsed:    4.1s finished\n",
            "[Parallel(n_jobs=1)]: Using backend SequentialBackend with 1 concurrent workers.\n",
            "/usr/local/lib/python3.7/dist-packages/sklearn/covariance/_graph_lasso.py:236: RuntimeWarning: divide by zero encountered in double_scalars\n",
            "  - np.dot(covariance_[indices != idx, idx], coefs)))\n",
            "/usr/local/lib/python3.7/dist-packages/sklearn/covariance/_graph_lasso.py:238: RuntimeWarning: invalid value encountered in multiply\n",
            "  * coefs)\n",
            "/usr/local/lib/python3.7/dist-packages/sklearn/covariance/_graph_lasso.py:240: RuntimeWarning: invalid value encountered in multiply\n",
            "  * coefs)\n"
          ],
          "name": "stderr"
        },
        {
          "output_type": "stream",
          "text": [
            "[GraphicalLassoCV] Done refinement  2 out of 4:   7s\n"
          ],
          "name": "stdout"
        },
        {
          "output_type": "stream",
          "text": [
            "[Parallel(n_jobs=1)]: Done   3 out of   3 | elapsed:    3.4s finished\n",
            "[Parallel(n_jobs=1)]: Using backend SequentialBackend with 1 concurrent workers.\n",
            "/usr/local/lib/python3.7/dist-packages/sklearn/covariance/_graph_lasso.py:236: RuntimeWarning: divide by zero encountered in double_scalars\n",
            "  - np.dot(covariance_[indices != idx, idx], coefs)))\n",
            "/usr/local/lib/python3.7/dist-packages/sklearn/covariance/_graph_lasso.py:238: RuntimeWarning: invalid value encountered in multiply\n",
            "  * coefs)\n",
            "/usr/local/lib/python3.7/dist-packages/sklearn/covariance/_graph_lasso.py:240: RuntimeWarning: invalid value encountered in multiply\n",
            "  * coefs)\n"
          ],
          "name": "stderr"
        },
        {
          "output_type": "stream",
          "text": [
            "[GraphicalLassoCV] Done refinement  3 out of 4:  10s\n"
          ],
          "name": "stdout"
        },
        {
          "output_type": "stream",
          "text": [
            "[Parallel(n_jobs=1)]: Done   3 out of   3 | elapsed:    3.3s finished\n"
          ],
          "name": "stderr"
        },
        {
          "output_type": "stream",
          "text": [
            "[GraphicalLassoCV] Done refinement  4 out of 4:  13s\n"
          ],
          "name": "stdout"
        },
        {
          "output_type": "stream",
          "text": [
            "/usr/local/lib/python3.7/dist-packages/sklearn/covariance/_graph_lasso.py:226: ConvergenceWarning: Objective did not converge. You might want to increase the number of iterations. Duality gap: nan, tolerance: 1.9565981432765186e-07\n",
            "  check_random_state(None), False)\n",
            "/usr/local/lib/python3.7/dist-packages/sklearn/covariance/_graph_lasso.py:226: ConvergenceWarning: Objective did not converge. You might want to increase the number of iterations. Duality gap: nan, tolerance: 2.0685304905794685e-07\n",
            "  check_random_state(None), False)\n",
            "/usr/local/lib/python3.7/dist-packages/sklearn/covariance/_graph_lasso.py:226: ConvergenceWarning: Objective did not converge. You might want to increase the number of iterations. Duality gap: nan, tolerance: 1.2970295269805325e-08\n",
            "  check_random_state(None), False)\n",
            "/usr/local/lib/python3.7/dist-packages/sklearn/covariance/_graph_lasso.py:226: ConvergenceWarning: Objective did not converge. You might want to increase the number of iterations. Duality gap: nan, tolerance: 7.017043002129348e-08\n",
            "  check_random_state(None), False)\n",
            "/usr/local/lib/python3.7/dist-packages/sklearn/covariance/_graph_lasso.py:226: ConvergenceWarning: Objective did not converge. You might want to increase the number of iterations. Duality gap: nan, tolerance: 1.6264832585128138e-07\n",
            "  check_random_state(None), False)\n",
            "/usr/local/lib/python3.7/dist-packages/sklearn/covariance/_graph_lasso.py:226: ConvergenceWarning: Objective did not converge. You might want to increase the number of iterations. Duality gap: nan, tolerance: 2.030239642498767e-07\n",
            "  check_random_state(None), False)\n",
            "/usr/local/lib/python3.7/dist-packages/sklearn/covariance/_graph_lasso.py:226: ConvergenceWarning: Objective did not converge. You might want to increase the number of iterations. Duality gap: nan, tolerance: 1.7714199805869941e-07\n",
            "  check_random_state(None), False)\n",
            "/usr/local/lib/python3.7/dist-packages/sklearn/covariance/_graph_lasso.py:226: ConvergenceWarning: Objective did not converge. You might want to increase the number of iterations. Duality gap: nan, tolerance: 2.613227203848498e-07\n",
            "  check_random_state(None), False)\n",
            "/usr/local/lib/python3.7/dist-packages/sklearn/covariance/_graph_lasso.py:226: ConvergenceWarning: Objective did not converge. You might want to increase the number of iterations. Duality gap: nan, tolerance: 2.877959835080607e-07\n",
            "  check_random_state(None), False)\n",
            "/usr/local/lib/python3.7/dist-packages/sklearn/covariance/_graph_lasso.py:226: ConvergenceWarning: Objective did not converge. You might want to increase the number of iterations. Duality gap: nan, tolerance: 1.0046482468653044e-08\n",
            "  check_random_state(None), False)\n",
            "/usr/local/lib/python3.7/dist-packages/sklearn/covariance/_graph_lasso.py:226: ConvergenceWarning: Objective did not converge. You might want to increase the number of iterations. Duality gap: nan, tolerance: 1.7042133659944688e-08\n",
            "  check_random_state(None), False)\n",
            "/usr/local/lib/python3.7/dist-packages/sklearn/covariance/_graph_lasso.py:226: ConvergenceWarning: Objective did not converge. You might want to increase the number of iterations. Duality gap: nan, tolerance: 2.872779644325736e-07\n",
            "  check_random_state(None), False)\n",
            "/usr/local/lib/python3.7/dist-packages/sklearn/covariance/_graph_lasso.py:226: ConvergenceWarning: Objective did not converge. You might want to increase the number of iterations. Duality gap: nan, tolerance: 2.0297369920489758e-07\n",
            "  check_random_state(None), False)\n",
            "/usr/local/lib/python3.7/dist-packages/sklearn/covariance/_graph_lasso.py:226: ConvergenceWarning: Objective did not converge. You might want to increase the number of iterations. Duality gap: nan, tolerance: 4.856291805273429e-08\n",
            "  check_random_state(None), False)\n",
            "/usr/local/lib/python3.7/dist-packages/sklearn/covariance/_graph_lasso.py:226: ConvergenceWarning: Objective did not converge. You might want to increase the number of iterations. Duality gap: nan, tolerance: 1.8610134767229656e-07\n",
            "  check_random_state(None), False)\n",
            "/usr/local/lib/python3.7/dist-packages/sklearn/covariance/_graph_lasso.py:226: ConvergenceWarning: Objective did not converge. You might want to increase the number of iterations. Duality gap: nan, tolerance: 1.9455262538058392e-07\n",
            "  check_random_state(None), False)\n",
            "/usr/local/lib/python3.7/dist-packages/sklearn/covariance/_graph_lasso.py:226: ConvergenceWarning: Objective did not converge. You might want to increase the number of iterations. Duality gap: nan, tolerance: 1.0986374593730802e-07\n",
            "  check_random_state(None), False)\n",
            "/usr/local/lib/python3.7/dist-packages/sklearn/covariance/_graph_lasso.py:226: ConvergenceWarning: Objective did not converge. You might want to increase the number of iterations. Duality gap: nan, tolerance: 5.07487002681795e-09\n",
            "  check_random_state(None), False)\n",
            "/usr/local/lib/python3.7/dist-packages/sklearn/covariance/_graph_lasso.py:226: ConvergenceWarning: Objective did not converge. You might want to increase the number of iterations. Duality gap: nan, tolerance: 9.050668609376341e-08\n",
            "  check_random_state(None), False)\n",
            "/usr/local/lib/python3.7/dist-packages/sklearn/covariance/_graph_lasso.py:226: ConvergenceWarning: Objective did not converge. You might want to increase the number of iterations. Duality gap: nan, tolerance: 2.774447454000437e-07\n",
            "  check_random_state(None), False)\n",
            "/usr/local/lib/python3.7/dist-packages/sklearn/covariance/_graph_lasso.py:226: ConvergenceWarning: Objective did not converge. You might want to increase the number of iterations. Duality gap: nan, tolerance: 2.6917754379584147e-07\n",
            "  check_random_state(None), False)\n",
            "/usr/local/lib/python3.7/dist-packages/sklearn/covariance/_graph_lasso.py:226: ConvergenceWarning: Objective did not converge. You might want to increase the number of iterations. Duality gap: nan, tolerance: 1.7305020471350654e-07\n",
            "  check_random_state(None), False)\n",
            "/usr/local/lib/python3.7/dist-packages/sklearn/covariance/_graph_lasso.py:226: ConvergenceWarning: Objective did not converge. You might want to increase the number of iterations. Duality gap: nan, tolerance: 3.894613871450038e-08\n",
            "  check_random_state(None), False)\n",
            "/usr/local/lib/python3.7/dist-packages/sklearn/covariance/_graph_lasso.py:226: ConvergenceWarning: Objective did not converge. You might want to increase the number of iterations. Duality gap: nan, tolerance: 2.694112637516943e-07\n",
            "  check_random_state(None), False)\n",
            "/usr/local/lib/python3.7/dist-packages/sklearn/covariance/_graph_lasso.py:226: ConvergenceWarning: Objective did not converge. You might want to increase the number of iterations. Duality gap: nan, tolerance: 2.598097076223396e-07\n",
            "  check_random_state(None), False)\n",
            "/usr/local/lib/python3.7/dist-packages/sklearn/covariance/_graph_lasso.py:226: ConvergenceWarning: Objective did not converge. You might want to increase the number of iterations. Duality gap: nan, tolerance: 1.436210528783927e-07\n",
            "  check_random_state(None), False)\n",
            "/usr/local/lib/python3.7/dist-packages/sklearn/covariance/_graph_lasso.py:226: ConvergenceWarning: Objective did not converge. You might want to increase the number of iterations. Duality gap: nan, tolerance: 1.5106166547633773e-08\n",
            "  check_random_state(None), False)\n",
            "/usr/local/lib/python3.7/dist-packages/sklearn/covariance/_graph_lasso.py:226: ConvergenceWarning: Objective did not converge. You might want to increase the number of iterations. Duality gap: nan, tolerance: 1.562157650105831e-07\n",
            "  check_random_state(None), False)\n",
            "/usr/local/lib/python3.7/dist-packages/sklearn/covariance/_graph_lasso.py:226: ConvergenceWarning: Objective did not converge. You might want to increase the number of iterations. Duality gap: nan, tolerance: 2.090375742586304e-07\n",
            "  check_random_state(None), False)\n",
            "/usr/local/lib/python3.7/dist-packages/sklearn/covariance/_graph_lasso.py:226: ConvergenceWarning: Objective did not converge. You might want to increase the number of iterations. Duality gap: nan, tolerance: 2.9177122631828123e-07\n",
            "  check_random_state(None), False)\n",
            "/usr/local/lib/python3.7/dist-packages/sklearn/covariance/_graph_lasso.py:226: ConvergenceWarning: Objective did not converge. You might want to increase the number of iterations. Duality gap: nan, tolerance: 7.50184262505415e-09\n",
            "  check_random_state(None), False)\n",
            "/usr/local/lib/python3.7/dist-packages/sklearn/covariance/_graph_lasso.py:226: ConvergenceWarning: Objective did not converge. You might want to increase the number of iterations. Duality gap: nan, tolerance: 1.0260026503110865e-07\n",
            "  check_random_state(None), False)\n",
            "/usr/local/lib/python3.7/dist-packages/sklearn/covariance/_graph_lasso.py:226: ConvergenceWarning: Objective did not converge. You might want to increase the number of iterations. Duality gap: nan, tolerance: 8.07933788029632e-08\n",
            "  check_random_state(None), False)\n",
            "/usr/local/lib/python3.7/dist-packages/sklearn/covariance/_graph_lasso.py:226: ConvergenceWarning: Objective did not converge. You might want to increase the number of iterations. Duality gap: nan, tolerance: 1.388870505216431e-07\n",
            "  check_random_state(None), False)\n",
            "/usr/local/lib/python3.7/dist-packages/sklearn/covariance/_graph_lasso.py:226: ConvergenceWarning: Objective did not converge. You might want to increase the number of iterations. Duality gap: nan, tolerance: 1.632855619938527e-07\n",
            "  check_random_state(None), False)\n",
            "/usr/local/lib/python3.7/dist-packages/sklearn/covariance/_graph_lasso.py:226: ConvergenceWarning: Objective did not converge. You might want to increase the number of iterations. Duality gap: nan, tolerance: 2.65748768362992e-07\n",
            "  check_random_state(None), False)\n",
            "/usr/local/lib/python3.7/dist-packages/sklearn/covariance/_graph_lasso.py:226: ConvergenceWarning: Objective did not converge. You might want to increase the number of iterations. Duality gap: nan, tolerance: 2.2192131263491976e-07\n",
            "  check_random_state(None), False)\n",
            "/usr/local/lib/python3.7/dist-packages/sklearn/covariance/_graph_lasso.py:226: ConvergenceWarning: Objective did not converge. You might want to increase the number of iterations. Duality gap: nan, tolerance: 1.0645939414503882e-07\n",
            "  check_random_state(None), False)\n",
            "/usr/local/lib/python3.7/dist-packages/sklearn/covariance/_graph_lasso.py:226: ConvergenceWarning: Objective did not converge. You might want to increase the number of iterations. Duality gap: nan, tolerance: 2.421221375886171e-07\n",
            "  check_random_state(None), False)\n",
            "/usr/local/lib/python3.7/dist-packages/sklearn/covariance/_graph_lasso.py:226: ConvergenceWarning: Objective did not converge. You might want to increase the number of iterations. Duality gap: nan, tolerance: 2.0317035500878953e-07\n",
            "  check_random_state(None), False)\n",
            "/usr/local/lib/python3.7/dist-packages/sklearn/covariance/_graph_lasso.py:226: ConvergenceWarning: Objective did not converge. You might want to increase the number of iterations. Duality gap: nan, tolerance: 1.5435289228643572e-07\n",
            "  check_random_state(None), False)\n",
            "/usr/local/lib/python3.7/dist-packages/sklearn/covariance/_graph_lasso.py:226: ConvergenceWarning: Objective did not converge. You might want to increase the number of iterations. Duality gap: nan, tolerance: 8.880075512359825e-08\n",
            "  check_random_state(None), False)\n",
            "/usr/local/lib/python3.7/dist-packages/sklearn/covariance/_graph_lasso.py:226: ConvergenceWarning: Objective did not converge. You might want to increase the number of iterations. Duality gap: nan, tolerance: 7.888230112802798e-08\n",
            "  check_random_state(None), False)\n",
            "/usr/local/lib/python3.7/dist-packages/sklearn/covariance/_graph_lasso.py:226: ConvergenceWarning: Objective did not converge. You might want to increase the number of iterations. Duality gap: nan, tolerance: 1.021561262813892e-07\n",
            "  check_random_state(None), False)\n",
            "/usr/local/lib/python3.7/dist-packages/sklearn/covariance/_graph_lasso.py:226: ConvergenceWarning: Objective did not converge. You might want to increase the number of iterations. Duality gap: nan, tolerance: 2.551642506044531e-07\n",
            "  check_random_state(None), False)\n",
            "/usr/local/lib/python3.7/dist-packages/sklearn/covariance/_graph_lasso.py:226: ConvergenceWarning: Objective did not converge. You might want to increase the number of iterations. Duality gap: nan, tolerance: 5.6082421863844735e-08\n",
            "  check_random_state(None), False)\n",
            "/usr/local/lib/python3.7/dist-packages/sklearn/covariance/_graph_lasso.py:226: ConvergenceWarning: Objective did not converge. You might want to increase the number of iterations. Duality gap: nan, tolerance: 6.720504465915291e-08\n",
            "  check_random_state(None), False)\n",
            "/usr/local/lib/python3.7/dist-packages/sklearn/covariance/_graph_lasso.py:226: ConvergenceWarning: Objective did not converge. You might want to increase the number of iterations. Duality gap: nan, tolerance: 2.1671523404164109e-07\n",
            "  check_random_state(None), False)\n",
            "/usr/local/lib/python3.7/dist-packages/sklearn/covariance/_graph_lasso.py:226: ConvergenceWarning: Objective did not converge. You might want to increase the number of iterations. Duality gap: nan, tolerance: 3.510353250162517e-08\n",
            "  check_random_state(None), False)\n",
            "/usr/local/lib/python3.7/dist-packages/sklearn/covariance/_graph_lasso.py:226: ConvergenceWarning: Objective did not converge. You might want to increase the number of iterations. Duality gap: nan, tolerance: 2.9690084700152976e-07\n",
            "  check_random_state(None), False)\n",
            "/usr/local/lib/python3.7/dist-packages/sklearn/covariance/_graph_lasso.py:226: ConvergenceWarning: Objective did not converge. You might want to increase the number of iterations. Duality gap: nan, tolerance: 5.588513290748281e-08\n",
            "  check_random_state(None), False)\n",
            "/usr/local/lib/python3.7/dist-packages/sklearn/covariance/_graph_lasso.py:226: ConvergenceWarning: Objective did not converge. You might want to increase the number of iterations. Duality gap: nan, tolerance: 3.2128639824320014e-08\n",
            "  check_random_state(None), False)\n",
            "/usr/local/lib/python3.7/dist-packages/sklearn/covariance/_graph_lasso.py:226: ConvergenceWarning: Objective did not converge. You might want to increase the number of iterations. Duality gap: nan, tolerance: 3.5677058235316686e-09\n",
            "  check_random_state(None), False)\n",
            "/usr/local/lib/python3.7/dist-packages/sklearn/covariance/_graph_lasso.py:226: ConvergenceWarning: Objective did not converge. You might want to increase the number of iterations. Duality gap: nan, tolerance: 3.045888257493789e-08\n",
            "  check_random_state(None), False)\n",
            "/usr/local/lib/python3.7/dist-packages/sklearn/covariance/_graph_lasso.py:226: ConvergenceWarning: Objective did not converge. You might want to increase the number of iterations. Duality gap: nan, tolerance: 1.6977927615787098e-07\n",
            "  check_random_state(None), False)\n",
            "/usr/local/lib/python3.7/dist-packages/sklearn/covariance/_graph_lasso.py:226: ConvergenceWarning: Objective did not converge. You might want to increase the number of iterations. Duality gap: nan, tolerance: 2.1950912687621698e-07\n",
            "  check_random_state(None), False)\n",
            "/usr/local/lib/python3.7/dist-packages/sklearn/covariance/_graph_lasso.py:226: ConvergenceWarning: Objective did not converge. You might want to increase the number of iterations. Duality gap: nan, tolerance: 2.710342023669219e-07\n",
            "  check_random_state(None), False)\n",
            "/usr/local/lib/python3.7/dist-packages/sklearn/covariance/_graph_lasso.py:226: ConvergenceWarning: Objective did not converge. You might want to increase the number of iterations. Duality gap: nan, tolerance: 2.0881011925684187e-07\n",
            "  check_random_state(None), False)\n",
            "/usr/local/lib/python3.7/dist-packages/sklearn/covariance/_graph_lasso.py:226: ConvergenceWarning: Objective did not converge. You might want to increase the number of iterations. Duality gap: nan, tolerance: 2.1082950711293954e-07\n",
            "  check_random_state(None), False)\n",
            "/usr/local/lib/python3.7/dist-packages/sklearn/covariance/_graph_lasso.py:226: ConvergenceWarning: Objective did not converge. You might want to increase the number of iterations. Duality gap: nan, tolerance: 2.2134645978645662e-07\n",
            "  check_random_state(None), False)\n",
            "/usr/local/lib/python3.7/dist-packages/sklearn/covariance/_graph_lasso.py:226: ConvergenceWarning: Objective did not converge. You might want to increase the number of iterations. Duality gap: nan, tolerance: 1.9214143693647308e-07\n",
            "  check_random_state(None), False)\n",
            "/usr/local/lib/python3.7/dist-packages/sklearn/covariance/_graph_lasso.py:226: ConvergenceWarning: Objective did not converge. You might want to increase the number of iterations. Duality gap: nan, tolerance: 2.8051889249275933e-07\n",
            "  check_random_state(None), False)\n",
            "/usr/local/lib/python3.7/dist-packages/sklearn/covariance/_graph_lasso.py:226: ConvergenceWarning: Objective did not converge. You might want to increase the number of iterations. Duality gap: nan, tolerance: 1.7999112550416943e-07\n",
            "  check_random_state(None), False)\n",
            "/usr/local/lib/python3.7/dist-packages/sklearn/covariance/_graph_lasso.py:226: ConvergenceWarning: Objective did not converge. You might want to increase the number of iterations. Duality gap: nan, tolerance: 5.553972611231196e-08\n",
            "  check_random_state(None), False)\n",
            "/usr/local/lib/python3.7/dist-packages/sklearn/covariance/_graph_lasso.py:226: ConvergenceWarning: Objective did not converge. You might want to increase the number of iterations. Duality gap: nan, tolerance: 1.4204634804559615e-07\n",
            "  check_random_state(None), False)\n",
            "/usr/local/lib/python3.7/dist-packages/sklearn/covariance/_graph_lasso.py:226: ConvergenceWarning: Objective did not converge. You might want to increase the number of iterations. Duality gap: nan, tolerance: 2.048237481765746e-07\n",
            "  check_random_state(None), False)\n",
            "/usr/local/lib/python3.7/dist-packages/sklearn/covariance/_graph_lasso.py:226: ConvergenceWarning: Objective did not converge. You might want to increase the number of iterations. Duality gap: nan, tolerance: 6.685238331858163e-08\n",
            "  check_random_state(None), False)\n",
            "/usr/local/lib/python3.7/dist-packages/sklearn/covariance/_graph_lasso.py:226: ConvergenceWarning: Objective did not converge. You might want to increase the number of iterations. Duality gap: nan, tolerance: 2.6914258164980247e-07\n",
            "  check_random_state(None), False)\n",
            "/usr/local/lib/python3.7/dist-packages/sklearn/covariance/_graph_lasso.py:226: ConvergenceWarning: Objective did not converge. You might want to increase the number of iterations. Duality gap: nan, tolerance: 4.373826198087767e-08\n",
            "  check_random_state(None), False)\n",
            "/usr/local/lib/python3.7/dist-packages/sklearn/covariance/_graph_lasso.py:226: ConvergenceWarning: Objective did not converge. You might want to increase the number of iterations. Duality gap: nan, tolerance: 6.759243330545628e-08\n",
            "  check_random_state(None), False)\n",
            "/usr/local/lib/python3.7/dist-packages/sklearn/covariance/_graph_lasso.py:226: ConvergenceWarning: Objective did not converge. You might want to increase the number of iterations. Duality gap: nan, tolerance: 2.658383956381714e-07\n",
            "  check_random_state(None), False)\n",
            "/usr/local/lib/python3.7/dist-packages/sklearn/covariance/_graph_lasso.py:226: ConvergenceWarning: Objective did not converge. You might want to increase the number of iterations. Duality gap: nan, tolerance: 2.0141604975846173e-07\n",
            "  check_random_state(None), False)\n",
            "/usr/local/lib/python3.7/dist-packages/sklearn/covariance/_graph_lasso.py:226: ConvergenceWarning: Objective did not converge. You might want to increase the number of iterations. Duality gap: nan, tolerance: 2.6949310475185937e-07\n",
            "  check_random_state(None), False)\n",
            "/usr/local/lib/python3.7/dist-packages/sklearn/covariance/_graph_lasso.py:226: ConvergenceWarning: Objective did not converge. You might want to increase the number of iterations. Duality gap: nan, tolerance: 6.846797530985261e-08\n",
            "  check_random_state(None), False)\n",
            "/usr/local/lib/python3.7/dist-packages/sklearn/covariance/_graph_lasso.py:226: ConvergenceWarning: Objective did not converge. You might want to increase the number of iterations. Duality gap: nan, tolerance: 2.171474232033648e-07\n",
            "  check_random_state(None), False)\n",
            "/usr/local/lib/python3.7/dist-packages/sklearn/covariance/_graph_lasso.py:226: ConvergenceWarning: Objective did not converge. You might want to increase the number of iterations. Duality gap: nan, tolerance: 9.869889633289375e-08\n",
            "  check_random_state(None), False)\n",
            "/usr/local/lib/python3.7/dist-packages/sklearn/covariance/_graph_lasso.py:226: ConvergenceWarning: Objective did not converge. You might want to increase the number of iterations. Duality gap: nan, tolerance: 1.6415957453381996e-07\n",
            "  check_random_state(None), False)\n",
            "/usr/local/lib/python3.7/dist-packages/sklearn/covariance/_graph_lasso.py:226: ConvergenceWarning: Objective did not converge. You might want to increase the number of iterations. Duality gap: nan, tolerance: 1.8860182186513445e-08\n",
            "  check_random_state(None), False)\n",
            "/usr/local/lib/python3.7/dist-packages/sklearn/covariance/_graph_lasso.py:226: ConvergenceWarning: Objective did not converge. You might want to increase the number of iterations. Duality gap: nan, tolerance: 1.9827260672880584e-08\n",
            "  check_random_state(None), False)\n",
            "/usr/local/lib/python3.7/dist-packages/sklearn/covariance/_graph_lasso.py:226: ConvergenceWarning: Objective did not converge. You might want to increase the number of iterations. Duality gap: nan, tolerance: 9.821092067902205e-09\n",
            "  check_random_state(None), False)\n",
            "/usr/local/lib/python3.7/dist-packages/sklearn/covariance/_graph_lasso.py:226: ConvergenceWarning: Objective did not converge. You might want to increase the number of iterations. Duality gap: nan, tolerance: 4.262500515156063e-08\n",
            "  check_random_state(None), False)\n",
            "/usr/local/lib/python3.7/dist-packages/sklearn/covariance/_graph_lasso.py:226: ConvergenceWarning: Objective did not converge. You might want to increase the number of iterations. Duality gap: nan, tolerance: 5.017300644995298e-08\n",
            "  check_random_state(None), False)\n",
            "/usr/local/lib/python3.7/dist-packages/sklearn/covariance/_graph_lasso.py:226: ConvergenceWarning: Objective did not converge. You might want to increase the number of iterations. Duality gap: nan, tolerance: 2.2725962174895112e-07\n",
            "  check_random_state(None), False)\n",
            "/usr/local/lib/python3.7/dist-packages/sklearn/covariance/_graph_lasso.py:226: ConvergenceWarning: Objective did not converge. You might want to increase the number of iterations. Duality gap: nan, tolerance: 1.3791730472396034e-08\n",
            "  check_random_state(None), False)\n",
            "/usr/local/lib/python3.7/dist-packages/sklearn/covariance/_graph_lasso.py:226: ConvergenceWarning: Objective did not converge. You might want to increase the number of iterations. Duality gap: nan, tolerance: 6.095029730492093e-08\n",
            "  check_random_state(None), False)\n",
            "/usr/local/lib/python3.7/dist-packages/sklearn/covariance/_graph_lasso.py:226: ConvergenceWarning: Objective did not converge. You might want to increase the number of iterations. Duality gap: nan, tolerance: 8.010879738278176e-08\n",
            "  check_random_state(None), False)\n",
            "/usr/local/lib/python3.7/dist-packages/sklearn/covariance/_graph_lasso.py:226: ConvergenceWarning: Objective did not converge. You might want to increase the number of iterations. Duality gap: nan, tolerance: 6.99424912098238e-09\n",
            "  check_random_state(None), False)\n",
            "/usr/local/lib/python3.7/dist-packages/sklearn/covariance/_graph_lasso.py:226: ConvergenceWarning: Objective did not converge. You might want to increase the number of iterations. Duality gap: nan, tolerance: 2.003689100799032e-07\n",
            "  check_random_state(None), False)\n",
            "/usr/local/lib/python3.7/dist-packages/sklearn/covariance/_graph_lasso.py:226: ConvergenceWarning: Objective did not converge. You might want to increase the number of iterations. Duality gap: nan, tolerance: 2.4939603053108775e-07\n",
            "  check_random_state(None), False)\n",
            "/usr/local/lib/python3.7/dist-packages/sklearn/covariance/_graph_lasso.py:226: ConvergenceWarning: Objective did not converge. You might want to increase the number of iterations. Duality gap: nan, tolerance: 3.000019553749566e-08\n",
            "  check_random_state(None), False)\n",
            "/usr/local/lib/python3.7/dist-packages/sklearn/covariance/_graph_lasso.py:226: ConvergenceWarning: Objective did not converge. You might want to increase the number of iterations. Duality gap: nan, tolerance: 1.0798555467649215e-08\n",
            "  check_random_state(None), False)\n",
            "/usr/local/lib/python3.7/dist-packages/sklearn/covariance/_graph_lasso.py:226: ConvergenceWarning: Objective did not converge. You might want to increase the number of iterations. Duality gap: nan, tolerance: 3.008785258646178e-07\n",
            "  check_random_state(None), False)\n",
            "/usr/local/lib/python3.7/dist-packages/sklearn/covariance/_graph_lasso.py:226: ConvergenceWarning: Objective did not converge. You might want to increase the number of iterations. Duality gap: nan, tolerance: 4.183017280025738e-08\n",
            "  check_random_state(None), False)\n",
            "/usr/local/lib/python3.7/dist-packages/sklearn/covariance/_graph_lasso.py:226: ConvergenceWarning: Objective did not converge. You might want to increase the number of iterations. Duality gap: nan, tolerance: 4.9157695164220625e-08\n",
            "  check_random_state(None), False)\n",
            "/usr/local/lib/python3.7/dist-packages/sklearn/covariance/_graph_lasso.py:226: ConvergenceWarning: Objective did not converge. You might want to increase the number of iterations. Duality gap: nan, tolerance: 2.1506847069797234e-07\n",
            "  check_random_state(None), False)\n",
            "/usr/local/lib/python3.7/dist-packages/sklearn/covariance/_graph_lasso.py:226: ConvergenceWarning: Objective did not converge. You might want to increase the number of iterations. Duality gap: nan, tolerance: 1.7169583663036856e-07\n",
            "  check_random_state(None), False)\n",
            "/usr/local/lib/python3.7/dist-packages/sklearn/covariance/_graph_lasso.py:226: ConvergenceWarning: Objective did not converge. You might want to increase the number of iterations. Duality gap: nan, tolerance: 1.8668961417822292e-07\n",
            "  check_random_state(None), False)\n",
            "/usr/local/lib/python3.7/dist-packages/sklearn/covariance/_graph_lasso.py:226: ConvergenceWarning: Objective did not converge. You might want to increase the number of iterations. Duality gap: nan, tolerance: 1.2466273651004647e-08\n",
            "  check_random_state(None), False)\n",
            "/usr/local/lib/python3.7/dist-packages/sklearn/covariance/_graph_lasso.py:226: ConvergenceWarning: Objective did not converge. You might want to increase the number of iterations. Duality gap: nan, tolerance: 3.075610136794981e-08\n",
            "  check_random_state(None), False)\n",
            "/usr/local/lib/python3.7/dist-packages/sklearn/covariance/_graph_lasso.py:226: ConvergenceWarning: Objective did not converge. You might want to increase the number of iterations. Duality gap: nan, tolerance: 4.602203560936953e-08\n",
            "  check_random_state(None), False)\n",
            "/usr/local/lib/python3.7/dist-packages/sklearn/covariance/_graph_lasso.py:226: ConvergenceWarning: Objective did not converge. You might want to increase the number of iterations. Duality gap: nan, tolerance: 2.7207132098971276e-08\n",
            "  check_random_state(None), False)\n",
            "/usr/local/lib/python3.7/dist-packages/sklearn/covariance/_graph_lasso.py:226: ConvergenceWarning: Objective did not converge. You might want to increase the number of iterations. Duality gap: nan, tolerance: 2.9814678493376667e-07\n",
            "  check_random_state(None), False)\n",
            "/usr/local/lib/python3.7/dist-packages/sklearn/covariance/_graph_lasso.py:226: ConvergenceWarning: Objective did not converge. You might want to increase the number of iterations. Duality gap: nan, tolerance: 8.097644450542123e-08\n",
            "  check_random_state(None), False)\n",
            "/usr/local/lib/python3.7/dist-packages/sklearn/covariance/_graph_lasso.py:226: ConvergenceWarning: Objective did not converge. You might want to increase the number of iterations. Duality gap: nan, tolerance: 2.0132012300028482e-07\n",
            "  check_random_state(None), False)\n",
            "/usr/local/lib/python3.7/dist-packages/sklearn/covariance/_graph_lasso.py:226: ConvergenceWarning: Objective did not converge. You might want to increase the number of iterations. Duality gap: nan, tolerance: 2.6124693412477635e-07\n",
            "  check_random_state(None), False)\n",
            "/usr/local/lib/python3.7/dist-packages/sklearn/covariance/_graph_lasso.py:226: ConvergenceWarning: Objective did not converge. You might want to increase the number of iterations. Duality gap: nan, tolerance: 2.6557872873564316e-07\n",
            "  check_random_state(None), False)\n",
            "/usr/local/lib/python3.7/dist-packages/sklearn/covariance/_graph_lasso.py:226: ConvergenceWarning: Objective did not converge. You might want to increase the number of iterations. Duality gap: nan, tolerance: 2.636946476179476e-07\n",
            "  check_random_state(None), False)\n",
            "/usr/local/lib/python3.7/dist-packages/sklearn/covariance/_graph_lasso.py:226: ConvergenceWarning: Objective did not converge. You might want to increase the number of iterations. Duality gap: nan, tolerance: 1.8937709154450597e-07\n",
            "  check_random_state(None), False)\n",
            "/usr/local/lib/python3.7/dist-packages/sklearn/covariance/_graph_lasso.py:226: ConvergenceWarning: Objective did not converge. You might want to increase the number of iterations. Duality gap: nan, tolerance: 2.4172727394882263e-07\n",
            "  check_random_state(None), False)\n",
            "/usr/local/lib/python3.7/dist-packages/sklearn/covariance/_graph_lasso.py:226: ConvergenceWarning: Objective did not converge. You might want to increase the number of iterations. Duality gap: nan, tolerance: 9.150552954071727e-08\n",
            "  check_random_state(None), False)\n",
            "/usr/local/lib/python3.7/dist-packages/sklearn/covariance/_graph_lasso.py:226: ConvergenceWarning: Objective did not converge. You might want to increase the number of iterations. Duality gap: nan, tolerance: 9.847869182906936e-08\n",
            "  check_random_state(None), False)\n",
            "/usr/local/lib/python3.7/dist-packages/sklearn/covariance/_graph_lasso.py:226: ConvergenceWarning: Objective did not converge. You might want to increase the number of iterations. Duality gap: nan, tolerance: 3.2645795106591166e-08\n",
            "  check_random_state(None), False)\n",
            "/usr/local/lib/python3.7/dist-packages/sklearn/covariance/_graph_lasso.py:226: ConvergenceWarning: Objective did not converge. You might want to increase the number of iterations. Duality gap: nan, tolerance: 7.416628073392055e-08\n",
            "  check_random_state(None), False)\n",
            "/usr/local/lib/python3.7/dist-packages/sklearn/covariance/_graph_lasso.py:226: ConvergenceWarning: Objective did not converge. You might want to increase the number of iterations. Duality gap: nan, tolerance: 2.0885518243006054e-07\n",
            "  check_random_state(None), False)\n",
            "/usr/local/lib/python3.7/dist-packages/sklearn/covariance/_graph_lasso.py:226: ConvergenceWarning: Objective did not converge. You might want to increase the number of iterations. Duality gap: nan, tolerance: 2.3909320870544893e-08\n",
            "  check_random_state(None), False)\n",
            "/usr/local/lib/python3.7/dist-packages/sklearn/covariance/_graph_lasso.py:226: ConvergenceWarning: Objective did not converge. You might want to increase the number of iterations. Duality gap: nan, tolerance: 3.012330428865293e-07\n",
            "  check_random_state(None), False)\n",
            "/usr/local/lib/python3.7/dist-packages/sklearn/covariance/_graph_lasso.py:226: ConvergenceWarning: Objective did not converge. You might want to increase the number of iterations. Duality gap: nan, tolerance: 2.140791264446289e-07\n",
            "  check_random_state(None), False)\n",
            "/usr/local/lib/python3.7/dist-packages/sklearn/covariance/_graph_lasso.py:226: ConvergenceWarning: Objective did not converge. You might want to increase the number of iterations. Duality gap: nan, tolerance: 2.5712554586271207e-07\n",
            "  check_random_state(None), False)\n",
            "/usr/local/lib/python3.7/dist-packages/sklearn/covariance/_graph_lasso.py:226: ConvergenceWarning: Objective did not converge. You might want to increase the number of iterations. Duality gap: nan, tolerance: 3.143988004696545e-07\n",
            "  check_random_state(None), False)\n",
            "/usr/local/lib/python3.7/dist-packages/sklearn/covariance/_graph_lasso.py:226: ConvergenceWarning: Objective did not converge. You might want to increase the number of iterations. Duality gap: nan, tolerance: 5.3763628408366295e-08\n",
            "  check_random_state(None), False)\n",
            "/usr/local/lib/python3.7/dist-packages/sklearn/covariance/_graph_lasso.py:226: ConvergenceWarning: Objective did not converge. You might want to increase the number of iterations. Duality gap: nan, tolerance: 3.1354518092484e-07\n",
            "  check_random_state(None), False)\n",
            "/usr/local/lib/python3.7/dist-packages/sklearn/covariance/_graph_lasso.py:226: ConvergenceWarning: Objective did not converge. You might want to increase the number of iterations. Duality gap: nan, tolerance: 2.395888694043168e-07\n",
            "  check_random_state(None), False)\n",
            "/usr/local/lib/python3.7/dist-packages/sklearn/covariance/_graph_lasso.py:226: ConvergenceWarning: Objective did not converge. You might want to increase the number of iterations. Duality gap: nan, tolerance: 2.2147986428184437e-07\n",
            "  check_random_state(None), False)\n",
            "/usr/local/lib/python3.7/dist-packages/sklearn/covariance/_graph_lasso.py:226: ConvergenceWarning: Objective did not converge. You might want to increase the number of iterations. Duality gap: nan, tolerance: 1.2787058373746123e-07\n",
            "  check_random_state(None), False)\n",
            "/usr/local/lib/python3.7/dist-packages/sklearn/covariance/_graph_lasso.py:226: ConvergenceWarning: Objective did not converge. You might want to increase the number of iterations. Duality gap: nan, tolerance: 7.661131092731203e-08\n",
            "  check_random_state(None), False)\n",
            "/usr/local/lib/python3.7/dist-packages/sklearn/covariance/_graph_lasso.py:226: ConvergenceWarning: Objective did not converge. You might want to increase the number of iterations. Duality gap: nan, tolerance: 1.0325355268871198e-07\n",
            "  check_random_state(None), False)\n",
            "/usr/local/lib/python3.7/dist-packages/sklearn/covariance/_graph_lasso.py:226: ConvergenceWarning: Objective did not converge. You might want to increase the number of iterations. Duality gap: nan, tolerance: 9.511037958314128e-08\n",
            "  check_random_state(None), False)\n",
            "/usr/local/lib/python3.7/dist-packages/sklearn/covariance/_graph_lasso.py:226: ConvergenceWarning: Objective did not converge. You might want to increase the number of iterations. Duality gap: nan, tolerance: 5.428014579110257e-08\n",
            "  check_random_state(None), False)\n",
            "/usr/local/lib/python3.7/dist-packages/sklearn/covariance/_graph_lasso.py:226: ConvergenceWarning: Objective did not converge. You might want to increase the number of iterations. Duality gap: nan, tolerance: 5.311713527151439e-09\n",
            "  check_random_state(None), False)\n",
            "/usr/local/lib/python3.7/dist-packages/sklearn/covariance/_graph_lasso.py:226: ConvergenceWarning: Objective did not converge. You might want to increase the number of iterations. Duality gap: nan, tolerance: 7.168163364666799e-08\n",
            "  check_random_state(None), False)\n",
            "/usr/local/lib/python3.7/dist-packages/sklearn/covariance/_graph_lasso.py:226: ConvergenceWarning: Objective did not converge. You might want to increase the number of iterations. Duality gap: nan, tolerance: 2.6018777310152333e-07\n",
            "  check_random_state(None), False)\n",
            "/usr/local/lib/python3.7/dist-packages/sklearn/covariance/_graph_lasso.py:226: ConvergenceWarning: Objective did not converge. You might want to increase the number of iterations. Duality gap: nan, tolerance: 2.3610668107498035e-08\n",
            "  check_random_state(None), False)\n",
            "/usr/local/lib/python3.7/dist-packages/sklearn/covariance/_graph_lasso.py:226: ConvergenceWarning: Objective did not converge. You might want to increase the number of iterations. Duality gap: nan, tolerance: 1.386874427067981e-07\n",
            "  check_random_state(None), False)\n",
            "/usr/local/lib/python3.7/dist-packages/sklearn/covariance/_graph_lasso.py:226: ConvergenceWarning: Objective did not converge. You might want to increase the number of iterations. Duality gap: nan, tolerance: 3.140748031404207e-07\n",
            "  check_random_state(None), False)\n",
            "/usr/local/lib/python3.7/dist-packages/sklearn/covariance/_graph_lasso.py:226: ConvergenceWarning: Objective did not converge. You might want to increase the number of iterations. Duality gap: nan, tolerance: 2.0923193585911013e-08\n",
            "  check_random_state(None), False)\n",
            "/usr/local/lib/python3.7/dist-packages/sklearn/covariance/_graph_lasso.py:226: ConvergenceWarning: Objective did not converge. You might want to increase the number of iterations. Duality gap: nan, tolerance: 3.8167165086431344e-08\n",
            "  check_random_state(None), False)\n",
            "/usr/local/lib/python3.7/dist-packages/sklearn/covariance/_graph_lasso.py:226: ConvergenceWarning: Objective did not converge. You might want to increase the number of iterations. Duality gap: nan, tolerance: 2.211409770101179e-07\n",
            "  check_random_state(None), False)\n",
            "/usr/local/lib/python3.7/dist-packages/sklearn/covariance/_graph_lasso.py:226: ConvergenceWarning: Objective did not converge. You might want to increase the number of iterations. Duality gap: nan, tolerance: 2.3695632352403215e-07\n",
            "  check_random_state(None), False)\n",
            "/usr/local/lib/python3.7/dist-packages/sklearn/covariance/_graph_lasso.py:226: ConvergenceWarning: Objective did not converge. You might want to increase the number of iterations. Duality gap: nan, tolerance: 4.4951256802000865e-09\n",
            "  check_random_state(None), False)\n",
            "/usr/local/lib/python3.7/dist-packages/sklearn/covariance/_graph_lasso.py:226: ConvergenceWarning: Objective did not converge. You might want to increase the number of iterations. Duality gap: nan, tolerance: 2.0392384013102953e-08\n",
            "  check_random_state(None), False)\n",
            "/usr/local/lib/python3.7/dist-packages/sklearn/covariance/_graph_lasso.py:226: ConvergenceWarning: Objective did not converge. You might want to increase the number of iterations. Duality gap: nan, tolerance: 1.5751188620388146e-07\n",
            "  check_random_state(None), False)\n",
            "/usr/local/lib/python3.7/dist-packages/sklearn/covariance/_graph_lasso.py:226: ConvergenceWarning: Objective did not converge. You might want to increase the number of iterations. Duality gap: nan, tolerance: 4.0446234235016755e-08\n",
            "  check_random_state(None), False)\n",
            "/usr/local/lib/python3.7/dist-packages/sklearn/covariance/_graph_lasso.py:226: ConvergenceWarning: Objective did not converge. You might want to increase the number of iterations. Duality gap: nan, tolerance: 4.662998836681362e-08\n",
            "  check_random_state(None), False)\n",
            "/usr/local/lib/python3.7/dist-packages/sklearn/covariance/_graph_lasso.py:226: ConvergenceWarning: Objective did not converge. You might want to increase the number of iterations. Duality gap: nan, tolerance: 8.898485155225196e-08\n",
            "  check_random_state(None), False)\n",
            "/usr/local/lib/python3.7/dist-packages/sklearn/covariance/_graph_lasso.py:226: ConvergenceWarning: Objective did not converge. You might want to increase the number of iterations. Duality gap: nan, tolerance: 2.462885957918538e-07\n",
            "  check_random_state(None), False)\n",
            "/usr/local/lib/python3.7/dist-packages/sklearn/covariance/_graph_lasso.py:226: ConvergenceWarning: Objective did not converge. You might want to increase the number of iterations. Duality gap: nan, tolerance: 8.086927169283785e-08\n",
            "  check_random_state(None), False)\n",
            "/usr/local/lib/python3.7/dist-packages/sklearn/covariance/_graph_lasso.py:226: ConvergenceWarning: Objective did not converge. You might want to increase the number of iterations. Duality gap: nan, tolerance: 8.102877588111317e-08\n",
            "  check_random_state(None), False)\n",
            "/usr/local/lib/python3.7/dist-packages/sklearn/covariance/_graph_lasso.py:226: ConvergenceWarning: Objective did not converge. You might want to increase the number of iterations. Duality gap: nan, tolerance: 2.3297877062811212e-07\n",
            "  check_random_state(None), False)\n",
            "/usr/local/lib/python3.7/dist-packages/sklearn/covariance/_graph_lasso.py:226: ConvergenceWarning: Objective did not converge. You might want to increase the number of iterations. Duality gap: nan, tolerance: 2.783579942430955e-07\n",
            "  check_random_state(None), False)\n",
            "/usr/local/lib/python3.7/dist-packages/sklearn/covariance/_graph_lasso.py:226: ConvergenceWarning: Objective did not converge. You might want to increase the number of iterations. Duality gap: nan, tolerance: 8.227168755387804e-09\n",
            "  check_random_state(None), False)\n",
            "/usr/local/lib/python3.7/dist-packages/sklearn/covariance/_graph_lasso.py:226: ConvergenceWarning: Objective did not converge. You might want to increase the number of iterations. Duality gap: nan, tolerance: 6.938900608216866e-09\n",
            "  check_random_state(None), False)\n",
            "/usr/local/lib/python3.7/dist-packages/sklearn/covariance/_graph_lasso.py:226: ConvergenceWarning: Objective did not converge. You might want to increase the number of iterations. Duality gap: nan, tolerance: 4.507176036597531e-08\n",
            "  check_random_state(None), False)\n",
            "/usr/local/lib/python3.7/dist-packages/sklearn/covariance/_graph_lasso.py:226: ConvergenceWarning: Objective did not converge. You might want to increase the number of iterations. Duality gap: nan, tolerance: 3.5999177824287536e-08\n",
            "  check_random_state(None), False)\n",
            "/usr/local/lib/python3.7/dist-packages/sklearn/covariance/_graph_lasso.py:226: ConvergenceWarning: Objective did not converge. You might want to increase the number of iterations. Duality gap: nan, tolerance: 3.1654883356854604e-08\n",
            "  check_random_state(None), False)\n",
            "/usr/local/lib/python3.7/dist-packages/sklearn/covariance/_graph_lasso.py:226: ConvergenceWarning: Objective did not converge. You might want to increase the number of iterations. Duality gap: nan, tolerance: 1.705235408151193e-08\n",
            "  check_random_state(None), False)\n",
            "/usr/local/lib/python3.7/dist-packages/sklearn/covariance/_graph_lasso.py:226: ConvergenceWarning: Objective did not converge. You might want to increase the number of iterations. Duality gap: nan, tolerance: 4.462326514465946e-09\n",
            "  check_random_state(None), False)\n",
            "/usr/local/lib/python3.7/dist-packages/sklearn/covariance/_graph_lasso.py:226: ConvergenceWarning: Objective did not converge. You might want to increase the number of iterations. Duality gap: nan, tolerance: 2.3122273245455394e-07\n",
            "  check_random_state(None), False)\n",
            "/usr/local/lib/python3.7/dist-packages/sklearn/covariance/_graph_lasso.py:226: ConvergenceWarning: Objective did not converge. You might want to increase the number of iterations. Duality gap: nan, tolerance: 8.223259348843163e-08\n",
            "  check_random_state(None), False)\n",
            "/usr/local/lib/python3.7/dist-packages/sklearn/covariance/_graph_lasso.py:226: ConvergenceWarning: Objective did not converge. You might want to increase the number of iterations. Duality gap: nan, tolerance: 1.5891370519289498e-07\n",
            "  check_random_state(None), False)\n",
            "/usr/local/lib/python3.7/dist-packages/sklearn/covariance/_graph_lasso.py:226: ConvergenceWarning: Objective did not converge. You might want to increase the number of iterations. Duality gap: nan, tolerance: 7.854527885686505e-08\n",
            "  check_random_state(None), False)\n",
            "/usr/local/lib/python3.7/dist-packages/sklearn/covariance/_graph_lasso.py:226: ConvergenceWarning: Objective did not converge. You might want to increase the number of iterations. Duality gap: nan, tolerance: 1.337163607591145e-07\n",
            "  check_random_state(None), False)\n",
            "/usr/local/lib/python3.7/dist-packages/sklearn/covariance/_graph_lasso.py:226: ConvergenceWarning: Objective did not converge. You might want to increase the number of iterations. Duality gap: nan, tolerance: 2.559309282684037e-07\n",
            "  check_random_state(None), False)\n",
            "/usr/local/lib/python3.7/dist-packages/sklearn/covariance/_graph_lasso.py:226: ConvergenceWarning: Objective did not converge. You might want to increase the number of iterations. Duality gap: nan, tolerance: 1.1863546722018192e-07\n",
            "  check_random_state(None), False)\n",
            "/usr/local/lib/python3.7/dist-packages/sklearn/covariance/_graph_lasso.py:226: ConvergenceWarning: Objective did not converge. You might want to increase the number of iterations. Duality gap: nan, tolerance: 2.7044705603022373e-07\n",
            "  check_random_state(None), False)\n",
            "/usr/local/lib/python3.7/dist-packages/sklearn/covariance/_graph_lasso.py:226: ConvergenceWarning: Objective did not converge. You might want to increase the number of iterations. Duality gap: nan, tolerance: 4.252434250809235e-08\n",
            "  check_random_state(None), False)\n",
            "/usr/local/lib/python3.7/dist-packages/sklearn/covariance/_graph_lasso.py:226: ConvergenceWarning: Objective did not converge. You might want to increase the number of iterations. Duality gap: nan, tolerance: 2.370612131356836e-07\n",
            "  check_random_state(None), False)\n",
            "/usr/local/lib/python3.7/dist-packages/sklearn/covariance/_graph_lasso.py:226: ConvergenceWarning: Objective did not converge. You might want to increase the number of iterations. Duality gap: nan, tolerance: 1.7802961127926605e-07\n",
            "  check_random_state(None), False)\n",
            "/usr/local/lib/python3.7/dist-packages/sklearn/covariance/_graph_lasso.py:226: ConvergenceWarning: Objective did not converge. You might want to increase the number of iterations. Duality gap: nan, tolerance: 7.752810970420835e-08\n",
            "  check_random_state(None), False)\n",
            "/usr/local/lib/python3.7/dist-packages/sklearn/covariance/_graph_lasso.py:226: ConvergenceWarning: Objective did not converge. You might want to increase the number of iterations. Duality gap: nan, tolerance: 5.541543849890032e-08\n",
            "  check_random_state(None), False)\n",
            "/usr/local/lib/python3.7/dist-packages/sklearn/covariance/_graph_lasso.py:226: ConvergenceWarning: Objective did not converge. You might want to increase the number of iterations. Duality gap: nan, tolerance: 5.131440219638213e-08\n",
            "  check_random_state(None), False)\n",
            "/usr/local/lib/python3.7/dist-packages/sklearn/covariance/_graph_lasso.py:226: ConvergenceWarning: Objective did not converge. You might want to increase the number of iterations. Duality gap: nan, tolerance: 6.329946512235294e-08\n",
            "  check_random_state(None), False)\n",
            "/usr/local/lib/python3.7/dist-packages/sklearn/covariance/_graph_lasso.py:226: ConvergenceWarning: Objective did not converge. You might want to increase the number of iterations. Duality gap: nan, tolerance: 2.2844735635266855e-07\n",
            "  check_random_state(None), False)\n",
            "/usr/local/lib/python3.7/dist-packages/sklearn/covariance/_graph_lasso.py:226: ConvergenceWarning: Objective did not converge. You might want to increase the number of iterations. Duality gap: nan, tolerance: 9.977297342400448e-08\n",
            "  check_random_state(None), False)\n",
            "/usr/local/lib/python3.7/dist-packages/sklearn/covariance/_graph_lasso.py:226: ConvergenceWarning: Objective did not converge. You might want to increase the number of iterations. Duality gap: nan, tolerance: 2.7812978476252452e-08\n",
            "  check_random_state(None), False)\n",
            "/usr/local/lib/python3.7/dist-packages/sklearn/covariance/_graph_lasso.py:226: ConvergenceWarning: Objective did not converge. You might want to increase the number of iterations. Duality gap: nan, tolerance: 9.452065326816191e-08\n",
            "  check_random_state(None), False)\n",
            "/usr/local/lib/python3.7/dist-packages/sklearn/covariance/_graph_lasso.py:226: ConvergenceWarning: Objective did not converge. You might want to increase the number of iterations. Duality gap: nan, tolerance: 1.8394926965692916e-07\n",
            "  check_random_state(None), False)\n",
            "/usr/local/lib/python3.7/dist-packages/sklearn/covariance/_graph_lasso.py:226: ConvergenceWarning: Objective did not converge. You might want to increase the number of iterations. Duality gap: nan, tolerance: 6.216366322925784e-08\n",
            "  check_random_state(None), False)\n",
            "/usr/local/lib/python3.7/dist-packages/sklearn/covariance/_graph_lasso.py:226: ConvergenceWarning: Objective did not converge. You might want to increase the number of iterations. Duality gap: nan, tolerance: 8.218235104726521e-08\n",
            "  check_random_state(None), False)\n",
            "/usr/local/lib/python3.7/dist-packages/sklearn/covariance/_graph_lasso.py:226: ConvergenceWarning: Objective did not converge. You might want to increase the number of iterations. Duality gap: nan, tolerance: 1.4059368122690695e-07\n",
            "  check_random_state(None), False)\n",
            "/usr/local/lib/python3.7/dist-packages/sklearn/covariance/_graph_lasso.py:226: ConvergenceWarning: Objective did not converge. You might want to increase the number of iterations. Duality gap: nan, tolerance: 1.4111755296596312e-07\n",
            "  check_random_state(None), False)\n",
            "/usr/local/lib/python3.7/dist-packages/sklearn/covariance/_graph_lasso.py:226: ConvergenceWarning: Objective did not converge. You might want to increase the number of iterations. Duality gap: nan, tolerance: 1.2427714833101487e-07\n",
            "  check_random_state(None), False)\n",
            "/usr/local/lib/python3.7/dist-packages/sklearn/covariance/_graph_lasso.py:226: ConvergenceWarning: Objective did not converge. You might want to increase the number of iterations. Duality gap: nan, tolerance: 1.19218947591619e-07\n",
            "  check_random_state(None), False)\n",
            "/usr/local/lib/python3.7/dist-packages/sklearn/covariance/_graph_lasso.py:226: ConvergenceWarning: Objective did not converge. You might want to increase the number of iterations. Duality gap: nan, tolerance: 1.6319377825172264e-07\n",
            "  check_random_state(None), False)\n",
            "/usr/local/lib/python3.7/dist-packages/sklearn/covariance/_graph_lasso.py:226: ConvergenceWarning: Objective did not converge. You might want to increase the number of iterations. Duality gap: nan, tolerance: 2.591037794712353e-07\n",
            "  check_random_state(None), False)\n",
            "/usr/local/lib/python3.7/dist-packages/sklearn/covariance/_graph_lasso.py:226: ConvergenceWarning: Objective did not converge. You might want to increase the number of iterations. Duality gap: nan, tolerance: 1.2417832500556964e-07\n",
            "  check_random_state(None), False)\n",
            "/usr/local/lib/python3.7/dist-packages/sklearn/covariance/_graph_lasso.py:226: ConvergenceWarning: Objective did not converge. You might want to increase the number of iterations. Duality gap: nan, tolerance: 2.250693366093912e-07\n",
            "  check_random_state(None), False)\n",
            "/usr/local/lib/python3.7/dist-packages/sklearn/covariance/_graph_lasso.py:226: ConvergenceWarning: Objective did not converge. You might want to increase the number of iterations. Duality gap: nan, tolerance: 2.814174294471745e-07\n",
            "  check_random_state(None), False)\n",
            "/usr/local/lib/python3.7/dist-packages/sklearn/covariance/_graph_lasso.py:226: ConvergenceWarning: Objective did not converge. You might want to increase the number of iterations. Duality gap: nan, tolerance: 1.3458534062587564e-07\n",
            "  check_random_state(None), False)\n",
            "/usr/local/lib/python3.7/dist-packages/sklearn/covariance/_graph_lasso.py:226: ConvergenceWarning: Objective did not converge. You might want to increase the number of iterations. Duality gap: nan, tolerance: 1.0080388587544433e-07\n",
            "  check_random_state(None), False)\n",
            "/usr/local/lib/python3.7/dist-packages/sklearn/covariance/_graph_lasso.py:226: ConvergenceWarning: Objective did not converge. You might want to increase the number of iterations. Duality gap: nan, tolerance: 1.14909882945043e-07\n",
            "  check_random_state(None), False)\n",
            "/usr/local/lib/python3.7/dist-packages/sklearn/covariance/_graph_lasso.py:226: ConvergenceWarning: Objective did not converge. You might want to increase the number of iterations. Duality gap: nan, tolerance: 1.8284787857415734e-07\n",
            "  check_random_state(None), False)\n",
            "/usr/local/lib/python3.7/dist-packages/sklearn/covariance/_graph_lasso.py:226: ConvergenceWarning: Objective did not converge. You might want to increase the number of iterations. Duality gap: nan, tolerance: 1.5889007940192313e-07\n",
            "  check_random_state(None), False)\n",
            "/usr/local/lib/python3.7/dist-packages/sklearn/covariance/_graph_lasso.py:226: ConvergenceWarning: Objective did not converge. You might want to increase the number of iterations. Duality gap: nan, tolerance: 2.590729885973245e-07\n",
            "  check_random_state(None), False)\n",
            "/usr/local/lib/python3.7/dist-packages/sklearn/covariance/_graph_lasso.py:226: ConvergenceWarning: Objective did not converge. You might want to increase the number of iterations. Duality gap: nan, tolerance: 2.7757443831772806e-07\n",
            "  check_random_state(None), False)\n",
            "/usr/local/lib/python3.7/dist-packages/sklearn/covariance/_graph_lasso.py:226: ConvergenceWarning: Objective did not converge. You might want to increase the number of iterations. Duality gap: nan, tolerance: 2.3192421974718124e-07\n",
            "  check_random_state(None), False)\n",
            "/usr/local/lib/python3.7/dist-packages/sklearn/covariance/_graph_lasso.py:226: ConvergenceWarning: Objective did not converge. You might want to increase the number of iterations. Duality gap: nan, tolerance: 1.874988873690338e-07\n",
            "  check_random_state(None), False)\n",
            "/usr/local/lib/python3.7/dist-packages/sklearn/covariance/_graph_lasso.py:226: ConvergenceWarning: Objective did not converge. You might want to increase the number of iterations. Duality gap: nan, tolerance: 2.421118365561604e-07\n",
            "  check_random_state(None), False)\n",
            "/usr/local/lib/python3.7/dist-packages/sklearn/covariance/_graph_lasso.py:226: ConvergenceWarning: Objective did not converge. You might want to increase the number of iterations. Duality gap: nan, tolerance: 2.30329090022345e-07\n",
            "  check_random_state(None), False)\n",
            "/usr/local/lib/python3.7/dist-packages/sklearn/covariance/_graph_lasso.py:226: ConvergenceWarning: Objective did not converge. You might want to increase the number of iterations. Duality gap: nan, tolerance: 2.6593443563678316e-07\n",
            "  check_random_state(None), False)\n",
            "/usr/local/lib/python3.7/dist-packages/sklearn/covariance/_graph_lasso.py:226: ConvergenceWarning: Objective did not converge. You might want to increase the number of iterations. Duality gap: nan, tolerance: 2.202396045073541e-07\n",
            "  check_random_state(None), False)\n",
            "/usr/local/lib/python3.7/dist-packages/sklearn/covariance/_graph_lasso.py:226: ConvergenceWarning: Objective did not converge. You might want to increase the number of iterations. Duality gap: nan, tolerance: 1.4370861394706086e-08\n",
            "  check_random_state(None), False)\n",
            "/usr/local/lib/python3.7/dist-packages/sklearn/covariance/_graph_lasso.py:226: ConvergenceWarning: Objective did not converge. You might want to increase the number of iterations. Duality gap: nan, tolerance: 4.979320416695786e-08\n",
            "  check_random_state(None), False)\n",
            "/usr/local/lib/python3.7/dist-packages/sklearn/covariance/_graph_lasso.py:226: ConvergenceWarning: Objective did not converge. You might want to increase the number of iterations. Duality gap: nan, tolerance: 5.0722018922854415e-08\n",
            "  check_random_state(None), False)\n",
            "/usr/local/lib/python3.7/dist-packages/sklearn/covariance/_graph_lasso.py:226: ConvergenceWarning: Objective did not converge. You might want to increase the number of iterations. Duality gap: nan, tolerance: 2.3344755756788744e-07\n",
            "  check_random_state(None), False)\n",
            "/usr/local/lib/python3.7/dist-packages/sklearn/covariance/_graph_lasso.py:226: ConvergenceWarning: Objective did not converge. You might want to increase the number of iterations. Duality gap: nan, tolerance: 2.7679194698541303e-07\n",
            "  check_random_state(None), False)\n",
            "/usr/local/lib/python3.7/dist-packages/sklearn/covariance/_graph_lasso.py:226: ConvergenceWarning: Objective did not converge. You might want to increase the number of iterations. Duality gap: nan, tolerance: 2.468331751415195e-08\n",
            "  check_random_state(None), False)\n",
            "/usr/local/lib/python3.7/dist-packages/sklearn/covariance/_graph_lasso.py:226: ConvergenceWarning: Objective did not converge. You might want to increase the number of iterations. Duality gap: nan, tolerance: 2.9716980720421334e-07\n",
            "  check_random_state(None), False)\n",
            "/usr/local/lib/python3.7/dist-packages/sklearn/covariance/_graph_lasso.py:226: ConvergenceWarning: Objective did not converge. You might want to increase the number of iterations. Duality gap: nan, tolerance: 3.03461692165975e-07\n",
            "  check_random_state(None), False)\n",
            "/usr/local/lib/python3.7/dist-packages/sklearn/covariance/_graph_lasso.py:226: ConvergenceWarning: Objective did not converge. You might want to increase the number of iterations. Duality gap: nan, tolerance: 2.2611916115732572e-07\n",
            "  check_random_state(None), False)\n",
            "/usr/local/lib/python3.7/dist-packages/sklearn/covariance/_graph_lasso.py:226: ConvergenceWarning: Objective did not converge. You might want to increase the number of iterations. Duality gap: nan, tolerance: 2.718475288224921e-07\n",
            "  check_random_state(None), False)\n",
            "/usr/local/lib/python3.7/dist-packages/sklearn/covariance/_graph_lasso.py:226: ConvergenceWarning: Objective did not converge. You might want to increase the number of iterations. Duality gap: nan, tolerance: 7.566117109069463e-08\n",
            "  check_random_state(None), False)\n",
            "/usr/local/lib/python3.7/dist-packages/sklearn/covariance/_graph_lasso.py:226: ConvergenceWarning: Objective did not converge. You might want to increase the number of iterations. Duality gap: nan, tolerance: 6.9670340095187e-08\n",
            "  check_random_state(None), False)\n",
            "/usr/local/lib/python3.7/dist-packages/sklearn/covariance/_graph_lasso.py:226: ConvergenceWarning: Objective did not converge. You might want to increase the number of iterations. Duality gap: nan, tolerance: 2.0235430096504183e-07\n",
            "  check_random_state(None), False)\n",
            "/usr/local/lib/python3.7/dist-packages/sklearn/covariance/_graph_lasso.py:226: ConvergenceWarning: Objective did not converge. You might want to increase the number of iterations. Duality gap: nan, tolerance: 2.3346996850129256e-08\n",
            "  check_random_state(None), False)\n",
            "/usr/local/lib/python3.7/dist-packages/sklearn/covariance/_graph_lasso.py:226: ConvergenceWarning: Objective did not converge. You might want to increase the number of iterations. Duality gap: nan, tolerance: 1.5225564373811108e-08\n",
            "  check_random_state(None), False)\n",
            "/usr/local/lib/python3.7/dist-packages/sklearn/covariance/_graph_lasso.py:226: ConvergenceWarning: Objective did not converge. You might want to increase the number of iterations. Duality gap: nan, tolerance: 2.0191877316767426e-08\n",
            "  check_random_state(None), False)\n",
            "/usr/local/lib/python3.7/dist-packages/sklearn/covariance/_graph_lasso.py:226: ConvergenceWarning: Objective did not converge. You might want to increase the number of iterations. Duality gap: nan, tolerance: 7.761254971308583e-08\n",
            "  check_random_state(None), False)\n",
            "/usr/local/lib/python3.7/dist-packages/sklearn/covariance/_graph_lasso.py:226: ConvergenceWarning: Objective did not converge. You might want to increase the number of iterations. Duality gap: nan, tolerance: 1.1388465772706476e-08\n",
            "  check_random_state(None), False)\n",
            "/usr/local/lib/python3.7/dist-packages/sklearn/covariance/_graph_lasso.py:226: ConvergenceWarning: Objective did not converge. You might want to increase the number of iterations. Duality gap: nan, tolerance: 5.936865004880781e-08\n",
            "  check_random_state(None), False)\n",
            "/usr/local/lib/python3.7/dist-packages/sklearn/covariance/_graph_lasso.py:226: ConvergenceWarning: Objective did not converge. You might want to increase the number of iterations. Duality gap: nan, tolerance: 4.892943552963067e-08\n",
            "  check_random_state(None), False)\n",
            "/usr/local/lib/python3.7/dist-packages/sklearn/covariance/_graph_lasso.py:226: ConvergenceWarning: Objective did not converge. You might want to increase the number of iterations. Duality gap: nan, tolerance: 4.093054876389166e-08\n",
            "  check_random_state(None), False)\n",
            "/usr/local/lib/python3.7/dist-packages/sklearn/covariance/_graph_lasso.py:226: ConvergenceWarning: Objective did not converge. You might want to increase the number of iterations. Duality gap: nan, tolerance: 2.803592934763287e-07\n",
            "  check_random_state(None), False)\n",
            "/usr/local/lib/python3.7/dist-packages/sklearn/covariance/_graph_lasso.py:226: ConvergenceWarning: Objective did not converge. You might want to increase the number of iterations. Duality gap: nan, tolerance: 1.9377909129534624e-07\n",
            "  check_random_state(None), False)\n",
            "/usr/local/lib/python3.7/dist-packages/sklearn/covariance/_graph_lasso.py:226: ConvergenceWarning: Objective did not converge. You might want to increase the number of iterations. Duality gap: nan, tolerance: 2.6097566898991663e-08\n",
            "  check_random_state(None), False)\n",
            "/usr/local/lib/python3.7/dist-packages/sklearn/covariance/_graph_lasso.py:226: ConvergenceWarning: Objective did not converge. You might want to increase the number of iterations. Duality gap: nan, tolerance: 6.747441261647484e-08\n",
            "  check_random_state(None), False)\n",
            "/usr/local/lib/python3.7/dist-packages/sklearn/covariance/_graph_lasso.py:226: ConvergenceWarning: Objective did not converge. You might want to increase the number of iterations. Duality gap: nan, tolerance: 1.3027845292538386e-07\n",
            "  check_random_state(None), False)\n",
            "/usr/local/lib/python3.7/dist-packages/sklearn/covariance/_graph_lasso.py:226: ConvergenceWarning: Objective did not converge. You might want to increase the number of iterations. Duality gap: nan, tolerance: 4.114759876829398e-08\n",
            "  check_random_state(None), False)\n",
            "/usr/local/lib/python3.7/dist-packages/sklearn/covariance/_graph_lasso.py:226: ConvergenceWarning: Objective did not converge. You might want to increase the number of iterations. Duality gap: nan, tolerance: 8.547640096396146e-08\n",
            "  check_random_state(None), False)\n",
            "/usr/local/lib/python3.7/dist-packages/sklearn/covariance/_graph_lasso.py:226: ConvergenceWarning: Objective did not converge. You might want to increase the number of iterations. Duality gap: nan, tolerance: 4.0118597234574403e-08\n",
            "  check_random_state(None), False)\n",
            "/usr/local/lib/python3.7/dist-packages/sklearn/covariance/_graph_lasso.py:226: ConvergenceWarning: Objective did not converge. You might want to increase the number of iterations. Duality gap: nan, tolerance: 1.4895853638123673e-07\n",
            "  check_random_state(None), False)\n",
            "/usr/local/lib/python3.7/dist-packages/sklearn/covariance/_graph_lasso.py:226: ConvergenceWarning: Objective did not converge. You might want to increase the number of iterations. Duality gap: nan, tolerance: 2.804426998406146e-07\n",
            "  check_random_state(None), False)\n",
            "/usr/local/lib/python3.7/dist-packages/sklearn/covariance/_graph_lasso.py:226: ConvergenceWarning: Objective did not converge. You might want to increase the number of iterations. Duality gap: nan, tolerance: 2.714950017302947e-07\n",
            "  check_random_state(None), False)\n",
            "/usr/local/lib/python3.7/dist-packages/sklearn/covariance/_graph_lasso.py:226: ConvergenceWarning: Objective did not converge. You might want to increase the number of iterations. Duality gap: nan, tolerance: 2.0046971902274763e-07\n",
            "  check_random_state(None), False)\n",
            "/usr/local/lib/python3.7/dist-packages/sklearn/covariance/_graph_lasso.py:226: ConvergenceWarning: Objective did not converge. You might want to increase the number of iterations. Duality gap: nan, tolerance: 2.747100281151661e-07\n",
            "  check_random_state(None), False)\n",
            "/usr/local/lib/python3.7/dist-packages/sklearn/covariance/_graph_lasso.py:226: ConvergenceWarning: Objective did not converge. You might want to increase the number of iterations. Duality gap: nan, tolerance: 2.591274465746666e-07\n",
            "  check_random_state(None), False)\n",
            "/usr/local/lib/python3.7/dist-packages/sklearn/covariance/_graph_lasso.py:226: ConvergenceWarning: Objective did not converge. You might want to increase the number of iterations. Duality gap: nan, tolerance: 1.3275079037194932e-07\n",
            "  check_random_state(None), False)\n",
            "/usr/local/lib/python3.7/dist-packages/sklearn/covariance/_graph_lasso.py:226: ConvergenceWarning: Objective did not converge. You might want to increase the number of iterations. Duality gap: nan, tolerance: 2.311227757954859e-11\n",
            "  check_random_state(None), False)\n",
            "/usr/local/lib/python3.7/dist-packages/sklearn/covariance/_graph_lasso.py:226: ConvergenceWarning: Objective did not converge. You might want to increase the number of iterations. Duality gap: nan, tolerance: 2.564048275720783e-09\n",
            "  check_random_state(None), False)\n",
            "/usr/local/lib/python3.7/dist-packages/sklearn/covariance/_graph_lasso.py:226: ConvergenceWarning: Objective did not converge. You might want to increase the number of iterations. Duality gap: nan, tolerance: 1.1175074259269326e-07\n",
            "  check_random_state(None), False)\n",
            "/usr/local/lib/python3.7/dist-packages/sklearn/covariance/_graph_lasso.py:226: ConvergenceWarning: Objective did not converge. You might want to increase the number of iterations. Duality gap: nan, tolerance: 1.0881723188269635e-08\n",
            "  check_random_state(None), False)\n",
            "/usr/local/lib/python3.7/dist-packages/sklearn/covariance/_graph_lasso.py:226: ConvergenceWarning: Objective did not converge. You might want to increase the number of iterations. Duality gap: nan, tolerance: 1.9556871244734704e-07\n",
            "  check_random_state(None), False)\n",
            "/usr/local/lib/python3.7/dist-packages/sklearn/covariance/_graph_lasso.py:226: ConvergenceWarning: Objective did not converge. You might want to increase the number of iterations. Duality gap: nan, tolerance: 1.9309172148391155e-07\n",
            "  check_random_state(None), False)\n",
            "/usr/local/lib/python3.7/dist-packages/sklearn/covariance/_graph_lasso.py:226: ConvergenceWarning: Objective did not converge. You might want to increase the number of iterations. Duality gap: nan, tolerance: 5.059128463735884e-08\n",
            "  check_random_state(None), False)\n",
            "/usr/local/lib/python3.7/dist-packages/sklearn/covariance/_graph_lasso.py:226: ConvergenceWarning: Objective did not converge. You might want to increase the number of iterations. Duality gap: nan, tolerance: 3.3910178014012637e-09\n",
            "  check_random_state(None), False)\n",
            "/usr/local/lib/python3.7/dist-packages/sklearn/covariance/_graph_lasso.py:226: ConvergenceWarning: Objective did not converge. You might want to increase the number of iterations. Duality gap: nan, tolerance: 5.087534493960007e-09\n",
            "  check_random_state(None), False)\n",
            "/usr/local/lib/python3.7/dist-packages/sklearn/covariance/_graph_lasso.py:226: ConvergenceWarning: Objective did not converge. You might want to increase the number of iterations. Duality gap: nan, tolerance: 1.0966073433705933e-08\n",
            "  check_random_state(None), False)\n",
            "/usr/local/lib/python3.7/dist-packages/sklearn/covariance/_graph_lasso.py:226: ConvergenceWarning: Objective did not converge. You might want to increase the number of iterations. Duality gap: nan, tolerance: 5.467696473167416e-09\n",
            "  check_random_state(None), False)\n",
            "/usr/local/lib/python3.7/dist-packages/sklearn/covariance/_graph_lasso.py:226: ConvergenceWarning: Objective did not converge. You might want to increase the number of iterations. Duality gap: nan, tolerance: 3.333925479614548e-07\n",
            "  check_random_state(None), False)\n",
            "/usr/local/lib/python3.7/dist-packages/sklearn/covariance/_graph_lasso.py:226: ConvergenceWarning: Objective did not converge. You might want to increase the number of iterations. Duality gap: nan, tolerance: 7.094175758896792e-08\n",
            "  check_random_state(None), False)\n",
            "/usr/local/lib/python3.7/dist-packages/sklearn/covariance/_graph_lasso.py:226: ConvergenceWarning: Objective did not converge. You might want to increase the number of iterations. Duality gap: nan, tolerance: 1.5187939887522383e-08\n",
            "  check_random_state(None), False)\n",
            "/usr/local/lib/python3.7/dist-packages/sklearn/covariance/_graph_lasso.py:226: ConvergenceWarning: Objective did not converge. You might want to increase the number of iterations. Duality gap: nan, tolerance: 2.484856017160386e-07\n",
            "  check_random_state(None), False)\n",
            "/usr/local/lib/python3.7/dist-packages/sklearn/covariance/_graph_lasso.py:226: ConvergenceWarning: Objective did not converge. You might want to increase the number of iterations. Duality gap: nan, tolerance: 1.2601994522793868e-07\n",
            "  check_random_state(None), False)\n",
            "/usr/local/lib/python3.7/dist-packages/sklearn/covariance/_graph_lasso.py:226: ConvergenceWarning: Objective did not converge. You might want to increase the number of iterations. Duality gap: nan, tolerance: 2.9338107810131387e-07\n",
            "  check_random_state(None), False)\n",
            "/usr/local/lib/python3.7/dist-packages/sklearn/covariance/_graph_lasso.py:226: ConvergenceWarning: Objective did not converge. You might want to increase the number of iterations. Duality gap: nan, tolerance: 7.199368978703485e-08\n",
            "  check_random_state(None), False)\n",
            "/usr/local/lib/python3.7/dist-packages/sklearn/covariance/_graph_lasso.py:226: ConvergenceWarning: Objective did not converge. You might want to increase the number of iterations. Duality gap: nan, tolerance: 1.300169805188903e-07\n",
            "  check_random_state(None), False)\n",
            "/usr/local/lib/python3.7/dist-packages/sklearn/covariance/_graph_lasso.py:226: ConvergenceWarning: Objective did not converge. You might want to increase the number of iterations. Duality gap: nan, tolerance: 2.3272397581544203e-07\n",
            "  check_random_state(None), False)\n",
            "/usr/local/lib/python3.7/dist-packages/sklearn/covariance/_graph_lasso.py:226: ConvergenceWarning: Objective did not converge. You might want to increase the number of iterations. Duality gap: nan, tolerance: 2.2995856639438051e-07\n",
            "  check_random_state(None), False)\n",
            "/usr/local/lib/python3.7/dist-packages/sklearn/covariance/_graph_lasso.py:226: ConvergenceWarning: Objective did not converge. You might want to increase the number of iterations. Duality gap: nan, tolerance: 1.8983615628343275e-07\n",
            "  check_random_state(None), False)\n",
            "/usr/local/lib/python3.7/dist-packages/sklearn/covariance/_graph_lasso.py:226: ConvergenceWarning: Objective did not converge. You might want to increase the number of iterations. Duality gap: nan, tolerance: 2.7096078742685964e-07\n",
            "  check_random_state(None), False)\n",
            "/usr/local/lib/python3.7/dist-packages/sklearn/covariance/_graph_lasso.py:226: ConvergenceWarning: Objective did not converge. You might want to increase the number of iterations. Duality gap: nan, tolerance: 1.278175509872926e-07\n",
            "  check_random_state(None), False)\n",
            "/usr/local/lib/python3.7/dist-packages/sklearn/covariance/_graph_lasso.py:226: ConvergenceWarning: Objective did not converge. You might want to increase the number of iterations. Duality gap: nan, tolerance: 1.393689166546455e-07\n",
            "  check_random_state(None), False)\n",
            "/usr/local/lib/python3.7/dist-packages/sklearn/covariance/_graph_lasso.py:226: ConvergenceWarning: Objective did not converge. You might want to increase the number of iterations. Duality gap: nan, tolerance: 2.3487183318001553e-07\n",
            "  check_random_state(None), False)\n",
            "/usr/local/lib/python3.7/dist-packages/sklearn/covariance/_graph_lasso.py:226: ConvergenceWarning: Objective did not converge. You might want to increase the number of iterations. Duality gap: nan, tolerance: 2.3481575459184507e-07\n",
            "  check_random_state(None), False)\n",
            "[Parallel(n_jobs=1)]: Using backend SequentialBackend with 1 concurrent workers.\n",
            "[Parallel(n_jobs=1)]: Done   3 out of   3 | elapsed:    3.4s finished\n",
            "[Parallel(n_jobs=1)]: Using backend SequentialBackend with 1 concurrent workers.\n"
          ],
          "name": "stderr"
        },
        {
          "output_type": "stream",
          "text": [
            "[GraphicalLassoCV] Done refinement  1 out of 4:   3s\n"
          ],
          "name": "stdout"
        },
        {
          "output_type": "stream",
          "text": [
            "[Parallel(n_jobs=1)]: Done   3 out of   3 | elapsed:    5.6s finished\n",
            "[Parallel(n_jobs=1)]: Using backend SequentialBackend with 1 concurrent workers.\n"
          ],
          "name": "stderr"
        },
        {
          "output_type": "stream",
          "text": [
            "[GraphicalLassoCV] Done refinement  2 out of 4:   9s\n"
          ],
          "name": "stdout"
        },
        {
          "output_type": "stream",
          "text": [
            "[Parallel(n_jobs=1)]: Done   3 out of   3 | elapsed:    8.9s finished\n",
            "[Parallel(n_jobs=1)]: Using backend SequentialBackend with 1 concurrent workers.\n"
          ],
          "name": "stderr"
        },
        {
          "output_type": "stream",
          "text": [
            "[GraphicalLassoCV] Done refinement  3 out of 4:  17s\n"
          ],
          "name": "stdout"
        },
        {
          "output_type": "stream",
          "text": [
            "[Parallel(n_jobs=1)]: Done   3 out of   3 | elapsed:    9.4s finished\n"
          ],
          "name": "stderr"
        },
        {
          "output_type": "stream",
          "text": [
            "[GraphicalLassoCV] Done refinement  4 out of 4:  27s\n"
          ],
          "name": "stdout"
        },
        {
          "output_type": "stream",
          "text": [
            "[Parallel(n_jobs=1)]: Using backend SequentialBackend with 1 concurrent workers.\n",
            "[Parallel(n_jobs=1)]: Done   3 out of   3 | elapsed:    2.7s finished\n",
            "[Parallel(n_jobs=1)]: Using backend SequentialBackend with 1 concurrent workers.\n"
          ],
          "name": "stderr"
        },
        {
          "output_type": "stream",
          "text": [
            "[GraphicalLassoCV] Done refinement  1 out of 4:   2s\n"
          ],
          "name": "stdout"
        },
        {
          "output_type": "stream",
          "text": [
            "[Parallel(n_jobs=1)]: Done   3 out of   3 | elapsed:    4.0s finished\n",
            "[Parallel(n_jobs=1)]: Using backend SequentialBackend with 1 concurrent workers.\n"
          ],
          "name": "stderr"
        },
        {
          "output_type": "stream",
          "text": [
            "[GraphicalLassoCV] Done refinement  2 out of 4:   6s\n"
          ],
          "name": "stdout"
        },
        {
          "output_type": "stream",
          "text": [
            "[Parallel(n_jobs=1)]: Done   3 out of   3 | elapsed:    6.1s finished\n",
            "[Parallel(n_jobs=1)]: Using backend SequentialBackend with 1 concurrent workers.\n"
          ],
          "name": "stderr"
        },
        {
          "output_type": "stream",
          "text": [
            "[GraphicalLassoCV] Done refinement  3 out of 4:  12s\n"
          ],
          "name": "stdout"
        },
        {
          "output_type": "stream",
          "text": [
            "[Parallel(n_jobs=1)]: Done   3 out of   3 | elapsed:    9.3s finished\n"
          ],
          "name": "stderr"
        },
        {
          "output_type": "stream",
          "text": [
            "[GraphicalLassoCV] Done refinement  4 out of 4:  22s\n"
          ],
          "name": "stdout"
        },
        {
          "output_type": "stream",
          "text": [
            "[Parallel(n_jobs=1)]: Using backend SequentialBackend with 1 concurrent workers.\n",
            "/usr/local/lib/python3.7/dist-packages/sklearn/covariance/_graph_lasso.py:238: RuntimeWarning: invalid value encountered in multiply\n",
            "  * coefs)\n",
            "/usr/local/lib/python3.7/dist-packages/sklearn/covariance/_graph_lasso.py:240: RuntimeWarning: invalid value encountered in multiply\n",
            "  * coefs)\n",
            "[Parallel(n_jobs=1)]: Done   3 out of   3 | elapsed:    3.4s finished\n",
            "[Parallel(n_jobs=1)]: Using backend SequentialBackend with 1 concurrent workers.\n"
          ],
          "name": "stderr"
        },
        {
          "output_type": "stream",
          "text": [
            "[GraphicalLassoCV] Done refinement  1 out of 4:   3s\n"
          ],
          "name": "stdout"
        },
        {
          "output_type": "stream",
          "text": [
            "[Parallel(n_jobs=1)]: Done   3 out of   3 | elapsed:    4.9s finished\n",
            "[Parallel(n_jobs=1)]: Using backend SequentialBackend with 1 concurrent workers.\n"
          ],
          "name": "stderr"
        },
        {
          "output_type": "stream",
          "text": [
            "[GraphicalLassoCV] Done refinement  2 out of 4:   8s\n"
          ],
          "name": "stdout"
        },
        {
          "output_type": "stream",
          "text": [
            "[Parallel(n_jobs=1)]: Done   3 out of   3 | elapsed:    5.5s finished\n",
            "[Parallel(n_jobs=1)]: Using backend SequentialBackend with 1 concurrent workers.\n"
          ],
          "name": "stderr"
        },
        {
          "output_type": "stream",
          "text": [
            "[GraphicalLassoCV] Done refinement  3 out of 4:  13s\n"
          ],
          "name": "stdout"
        },
        {
          "output_type": "stream",
          "text": [
            "[Parallel(n_jobs=1)]: Done   3 out of   3 | elapsed:    7.9s finished\n"
          ],
          "name": "stderr"
        },
        {
          "output_type": "stream",
          "text": [
            "[GraphicalLassoCV] Done refinement  4 out of 4:  21s\n"
          ],
          "name": "stdout"
        },
        {
          "output_type": "stream",
          "text": [
            "[Parallel(n_jobs=1)]: Using backend SequentialBackend with 1 concurrent workers.\n",
            "[Parallel(n_jobs=1)]: Done   3 out of   3 | elapsed:    3.7s finished\n",
            "[Parallel(n_jobs=1)]: Using backend SequentialBackend with 1 concurrent workers.\n"
          ],
          "name": "stderr"
        },
        {
          "output_type": "stream",
          "text": [
            "[GraphicalLassoCV] Done refinement  1 out of 4:   3s\n"
          ],
          "name": "stdout"
        },
        {
          "output_type": "stream",
          "text": [
            "[Parallel(n_jobs=1)]: Done   3 out of   3 | elapsed:    4.9s finished\n",
            "[Parallel(n_jobs=1)]: Using backend SequentialBackend with 1 concurrent workers.\n"
          ],
          "name": "stderr"
        },
        {
          "output_type": "stream",
          "text": [
            "[GraphicalLassoCV] Done refinement  2 out of 4:   8s\n"
          ],
          "name": "stdout"
        },
        {
          "output_type": "stream",
          "text": [
            "[Parallel(n_jobs=1)]: Done   3 out of   3 | elapsed:    7.8s finished\n",
            "[Parallel(n_jobs=1)]: Using backend SequentialBackend with 1 concurrent workers.\n"
          ],
          "name": "stderr"
        },
        {
          "output_type": "stream",
          "text": [
            "[GraphicalLassoCV] Done refinement  3 out of 4:  16s\n"
          ],
          "name": "stdout"
        },
        {
          "output_type": "stream",
          "text": [
            "[Parallel(n_jobs=1)]: Done   3 out of   3 | elapsed:    9.3s finished\n"
          ],
          "name": "stderr"
        },
        {
          "output_type": "stream",
          "text": [
            "[GraphicalLassoCV] Done refinement  4 out of 4:  25s\n"
          ],
          "name": "stdout"
        },
        {
          "output_type": "stream",
          "text": [
            "[Parallel(n_jobs=1)]: Using backend SequentialBackend with 1 concurrent workers.\n",
            "/usr/local/lib/python3.7/dist-packages/sklearn/covariance/_graph_lasso.py:238: RuntimeWarning: invalid value encountered in multiply\n",
            "  * coefs)\n",
            "/usr/local/lib/python3.7/dist-packages/sklearn/covariance/_graph_lasso.py:240: RuntimeWarning: invalid value encountered in multiply\n",
            "  * coefs)\n",
            "[Parallel(n_jobs=1)]: Done   3 out of   3 | elapsed:    2.6s finished\n",
            "[Parallel(n_jobs=1)]: Using backend SequentialBackend with 1 concurrent workers.\n"
          ],
          "name": "stderr"
        },
        {
          "output_type": "stream",
          "text": [
            "[GraphicalLassoCV] Done refinement  1 out of 4:   2s\n"
          ],
          "name": "stdout"
        },
        {
          "output_type": "stream",
          "text": [
            "[Parallel(n_jobs=1)]: Done   3 out of   3 | elapsed:    3.3s finished\n",
            "[Parallel(n_jobs=1)]: Using backend SequentialBackend with 1 concurrent workers.\n"
          ],
          "name": "stderr"
        },
        {
          "output_type": "stream",
          "text": [
            "[GraphicalLassoCV] Done refinement  2 out of 4:   5s\n"
          ],
          "name": "stdout"
        },
        {
          "output_type": "stream",
          "text": [
            "[Parallel(n_jobs=1)]: Done   3 out of   3 | elapsed:    5.3s finished\n",
            "[Parallel(n_jobs=1)]: Using backend SequentialBackend with 1 concurrent workers.\n"
          ],
          "name": "stderr"
        },
        {
          "output_type": "stream",
          "text": [
            "[GraphicalLassoCV] Done refinement  3 out of 4:  11s\n"
          ],
          "name": "stdout"
        },
        {
          "output_type": "stream",
          "text": [
            "[Parallel(n_jobs=1)]: Done   3 out of   3 | elapsed:    9.3s finished\n"
          ],
          "name": "stderr"
        },
        {
          "output_type": "stream",
          "text": [
            "[GraphicalLassoCV] Done refinement  4 out of 4:  20s\n"
          ],
          "name": "stdout"
        },
        {
          "output_type": "stream",
          "text": [
            "[Parallel(n_jobs=1)]: Using backend SequentialBackend with 1 concurrent workers.\n",
            "/usr/local/lib/python3.7/dist-packages/sklearn/covariance/_graph_lasso.py:238: RuntimeWarning: invalid value encountered in multiply\n",
            "  * coefs)\n",
            "/usr/local/lib/python3.7/dist-packages/sklearn/covariance/_graph_lasso.py:240: RuntimeWarning: invalid value encountered in multiply\n",
            "  * coefs)\n",
            "[Parallel(n_jobs=1)]: Done   3 out of   3 | elapsed:    3.2s finished\n",
            "[Parallel(n_jobs=1)]: Using backend SequentialBackend with 1 concurrent workers.\n"
          ],
          "name": "stderr"
        },
        {
          "output_type": "stream",
          "text": [
            "[GraphicalLassoCV] Done refinement  1 out of 4:   3s\n"
          ],
          "name": "stdout"
        },
        {
          "output_type": "stream",
          "text": [
            "[Parallel(n_jobs=1)]: Done   3 out of   3 | elapsed:    6.4s finished\n",
            "[Parallel(n_jobs=1)]: Using backend SequentialBackend with 1 concurrent workers.\n"
          ],
          "name": "stderr"
        },
        {
          "output_type": "stream",
          "text": [
            "[GraphicalLassoCV] Done refinement  2 out of 4:   9s\n"
          ],
          "name": "stdout"
        },
        {
          "output_type": "stream",
          "text": [
            "[Parallel(n_jobs=1)]: Done   3 out of   3 | elapsed:   11.0s finished\n",
            "[Parallel(n_jobs=1)]: Using backend SequentialBackend with 1 concurrent workers.\n"
          ],
          "name": "stderr"
        },
        {
          "output_type": "stream",
          "text": [
            "[GraphicalLassoCV] Done refinement  3 out of 4:  20s\n"
          ],
          "name": "stdout"
        },
        {
          "output_type": "stream",
          "text": [
            "[Parallel(n_jobs=1)]: Done   3 out of   3 | elapsed:    9.4s finished\n"
          ],
          "name": "stderr"
        },
        {
          "output_type": "stream",
          "text": [
            "[GraphicalLassoCV] Done refinement  4 out of 4:  30s\n"
          ],
          "name": "stdout"
        },
        {
          "output_type": "stream",
          "text": [
            "[Parallel(n_jobs=1)]: Using backend SequentialBackend with 1 concurrent workers.\n",
            "[Parallel(n_jobs=1)]: Done   3 out of   3 | elapsed:    3.7s finished\n",
            "[Parallel(n_jobs=1)]: Using backend SequentialBackend with 1 concurrent workers.\n"
          ],
          "name": "stderr"
        },
        {
          "output_type": "stream",
          "text": [
            "[GraphicalLassoCV] Done refinement  1 out of 4:   3s\n"
          ],
          "name": "stdout"
        },
        {
          "output_type": "stream",
          "text": [
            "[Parallel(n_jobs=1)]: Done   3 out of   3 | elapsed:    7.3s finished\n",
            "[Parallel(n_jobs=1)]: Using backend SequentialBackend with 1 concurrent workers.\n"
          ],
          "name": "stderr"
        },
        {
          "output_type": "stream",
          "text": [
            "[GraphicalLassoCV] Done refinement  2 out of 4:  10s\n"
          ],
          "name": "stdout"
        },
        {
          "output_type": "stream",
          "text": [
            "[Parallel(n_jobs=1)]: Done   3 out of   3 | elapsed:    8.8s finished\n",
            "[Parallel(n_jobs=1)]: Using backend SequentialBackend with 1 concurrent workers.\n"
          ],
          "name": "stderr"
        },
        {
          "output_type": "stream",
          "text": [
            "[GraphicalLassoCV] Done refinement  3 out of 4:  19s\n"
          ],
          "name": "stdout"
        },
        {
          "output_type": "stream",
          "text": [
            "[Parallel(n_jobs=1)]: Done   3 out of   3 | elapsed:   13.4s finished\n"
          ],
          "name": "stderr"
        },
        {
          "output_type": "stream",
          "text": [
            "[GraphicalLassoCV] Done refinement  4 out of 4:  33s\n"
          ],
          "name": "stdout"
        },
        {
          "output_type": "stream",
          "text": [
            "[Parallel(n_jobs=1)]: Using backend SequentialBackend with 1 concurrent workers.\n",
            "[Parallel(n_jobs=1)]: Done   3 out of   3 | elapsed:    2.9s finished\n",
            "[Parallel(n_jobs=1)]: Using backend SequentialBackend with 1 concurrent workers.\n"
          ],
          "name": "stderr"
        },
        {
          "output_type": "stream",
          "text": [
            "[GraphicalLassoCV] Done refinement  1 out of 4:   2s\n"
          ],
          "name": "stdout"
        },
        {
          "output_type": "stream",
          "text": [
            "[Parallel(n_jobs=1)]: Done   3 out of   3 | elapsed:    7.1s finished\n",
            "[Parallel(n_jobs=1)]: Using backend SequentialBackend with 1 concurrent workers.\n"
          ],
          "name": "stderr"
        },
        {
          "output_type": "stream",
          "text": [
            "[GraphicalLassoCV] Done refinement  2 out of 4:   9s\n"
          ],
          "name": "stdout"
        },
        {
          "output_type": "stream",
          "text": [
            "[Parallel(n_jobs=1)]: Done   3 out of   3 | elapsed:   10.4s finished\n",
            "[Parallel(n_jobs=1)]: Using backend SequentialBackend with 1 concurrent workers.\n"
          ],
          "name": "stderr"
        },
        {
          "output_type": "stream",
          "text": [
            "[GraphicalLassoCV] Done refinement  3 out of 4:  20s\n"
          ],
          "name": "stdout"
        },
        {
          "output_type": "stream",
          "text": [
            "[Parallel(n_jobs=1)]: Done   3 out of   3 | elapsed:   10.5s finished\n"
          ],
          "name": "stderr"
        },
        {
          "output_type": "stream",
          "text": [
            "[GraphicalLassoCV] Done refinement  4 out of 4:  30s\n"
          ],
          "name": "stdout"
        },
        {
          "output_type": "stream",
          "text": [
            "[Parallel(n_jobs=1)]: Using backend SequentialBackend with 1 concurrent workers.\n",
            "[Parallel(n_jobs=1)]: Done   3 out of   3 | elapsed:    3.4s finished\n",
            "[Parallel(n_jobs=1)]: Using backend SequentialBackend with 1 concurrent workers.\n"
          ],
          "name": "stderr"
        },
        {
          "output_type": "stream",
          "text": [
            "[GraphicalLassoCV] Done refinement  1 out of 4:   3s\n"
          ],
          "name": "stdout"
        },
        {
          "output_type": "stream",
          "text": [
            "[Parallel(n_jobs=1)]: Done   3 out of   3 | elapsed:    3.2s finished\n",
            "[Parallel(n_jobs=1)]: Using backend SequentialBackend with 1 concurrent workers.\n"
          ],
          "name": "stderr"
        },
        {
          "output_type": "stream",
          "text": [
            "[GraphicalLassoCV] Done refinement  2 out of 4:   6s\n"
          ],
          "name": "stdout"
        },
        {
          "output_type": "stream",
          "text": [
            "[Parallel(n_jobs=1)]: Done   3 out of   3 | elapsed:    4.8s finished\n",
            "[Parallel(n_jobs=1)]: Using backend SequentialBackend with 1 concurrent workers.\n"
          ],
          "name": "stderr"
        },
        {
          "output_type": "stream",
          "text": [
            "[GraphicalLassoCV] Done refinement  3 out of 4:  11s\n"
          ],
          "name": "stdout"
        },
        {
          "output_type": "stream",
          "text": [
            "[Parallel(n_jobs=1)]: Done   3 out of   3 | elapsed:    7.3s finished\n"
          ],
          "name": "stderr"
        },
        {
          "output_type": "stream",
          "text": [
            "[GraphicalLassoCV] Done refinement  4 out of 4:  18s\n"
          ],
          "name": "stdout"
        },
        {
          "output_type": "stream",
          "text": [
            "[Parallel(n_jobs=1)]: Using backend SequentialBackend with 1 concurrent workers.\n",
            "/usr/local/lib/python3.7/dist-packages/sklearn/covariance/_graph_lasso.py:238: RuntimeWarning: invalid value encountered in multiply\n",
            "  * coefs)\n",
            "/usr/local/lib/python3.7/dist-packages/sklearn/covariance/_graph_lasso.py:240: RuntimeWarning: invalid value encountered in multiply\n",
            "  * coefs)\n",
            "[Parallel(n_jobs=1)]: Done   3 out of   3 | elapsed:    3.0s finished\n",
            "[Parallel(n_jobs=1)]: Using backend SequentialBackend with 1 concurrent workers.\n"
          ],
          "name": "stderr"
        },
        {
          "output_type": "stream",
          "text": [
            "[GraphicalLassoCV] Done refinement  1 out of 4:   2s\n"
          ],
          "name": "stdout"
        },
        {
          "output_type": "stream",
          "text": [
            "[Parallel(n_jobs=1)]: Done   3 out of   3 | elapsed:    3.4s finished\n",
            "[Parallel(n_jobs=1)]: Using backend SequentialBackend with 1 concurrent workers.\n"
          ],
          "name": "stderr"
        },
        {
          "output_type": "stream",
          "text": [
            "[GraphicalLassoCV] Done refinement  2 out of 4:   6s\n"
          ],
          "name": "stdout"
        },
        {
          "output_type": "stream",
          "text": [
            "[Parallel(n_jobs=1)]: Done   3 out of   3 | elapsed:    4.9s finished\n",
            "[Parallel(n_jobs=1)]: Using backend SequentialBackend with 1 concurrent workers.\n"
          ],
          "name": "stderr"
        },
        {
          "output_type": "stream",
          "text": [
            "[GraphicalLassoCV] Done refinement  3 out of 4:  11s\n"
          ],
          "name": "stdout"
        },
        {
          "output_type": "stream",
          "text": [
            "[Parallel(n_jobs=1)]: Done   3 out of   3 | elapsed:    6.1s finished\n"
          ],
          "name": "stderr"
        },
        {
          "output_type": "stream",
          "text": [
            "[GraphicalLassoCV] Done refinement  4 out of 4:  17s\n"
          ],
          "name": "stdout"
        },
        {
          "output_type": "stream",
          "text": [
            "[Parallel(n_jobs=1)]: Using backend SequentialBackend with 1 concurrent workers.\n",
            "[Parallel(n_jobs=1)]: Done   3 out of   3 | elapsed:    3.7s finished\n",
            "[Parallel(n_jobs=1)]: Using backend SequentialBackend with 1 concurrent workers.\n"
          ],
          "name": "stderr"
        },
        {
          "output_type": "stream",
          "text": [
            "[GraphicalLassoCV] Done refinement  1 out of 4:   3s\n"
          ],
          "name": "stdout"
        },
        {
          "output_type": "stream",
          "text": [
            "[Parallel(n_jobs=1)]: Done   3 out of   3 | elapsed:    4.2s finished\n",
            "[Parallel(n_jobs=1)]: Using backend SequentialBackend with 1 concurrent workers.\n"
          ],
          "name": "stderr"
        },
        {
          "output_type": "stream",
          "text": [
            "[GraphicalLassoCV] Done refinement  2 out of 4:   7s\n"
          ],
          "name": "stdout"
        },
        {
          "output_type": "stream",
          "text": [
            "[Parallel(n_jobs=1)]: Done   3 out of   3 | elapsed:    4.2s finished\n",
            "[Parallel(n_jobs=1)]: Using backend SequentialBackend with 1 concurrent workers.\n"
          ],
          "name": "stderr"
        },
        {
          "output_type": "stream",
          "text": [
            "[GraphicalLassoCV] Done refinement  3 out of 4:  12s\n"
          ],
          "name": "stdout"
        },
        {
          "output_type": "stream",
          "text": [
            "[Parallel(n_jobs=1)]: Done   3 out of   3 | elapsed:    4.5s finished\n"
          ],
          "name": "stderr"
        },
        {
          "output_type": "stream",
          "text": [
            "[GraphicalLassoCV] Done refinement  4 out of 4:  16s\n"
          ],
          "name": "stdout"
        },
        {
          "output_type": "stream",
          "text": [
            "[Parallel(n_jobs=1)]: Using backend SequentialBackend with 1 concurrent workers.\n",
            "[Parallel(n_jobs=1)]: Done   3 out of   3 | elapsed:    3.2s finished\n",
            "[Parallel(n_jobs=1)]: Using backend SequentialBackend with 1 concurrent workers.\n"
          ],
          "name": "stderr"
        },
        {
          "output_type": "stream",
          "text": [
            "[GraphicalLassoCV] Done refinement  1 out of 4:   3s\n"
          ],
          "name": "stdout"
        },
        {
          "output_type": "stream",
          "text": [
            "[Parallel(n_jobs=1)]: Done   3 out of   3 | elapsed:    4.7s finished\n",
            "[Parallel(n_jobs=1)]: Using backend SequentialBackend with 1 concurrent workers.\n"
          ],
          "name": "stderr"
        },
        {
          "output_type": "stream",
          "text": [
            "[GraphicalLassoCV] Done refinement  2 out of 4:   7s\n"
          ],
          "name": "stdout"
        },
        {
          "output_type": "stream",
          "text": [
            "[Parallel(n_jobs=1)]: Done   3 out of   3 | elapsed:    8.8s finished\n",
            "[Parallel(n_jobs=1)]: Using backend SequentialBackend with 1 concurrent workers.\n"
          ],
          "name": "stderr"
        },
        {
          "output_type": "stream",
          "text": [
            "[GraphicalLassoCV] Done refinement  3 out of 4:  16s\n"
          ],
          "name": "stdout"
        },
        {
          "output_type": "stream",
          "text": [
            "[Parallel(n_jobs=1)]: Done   3 out of   3 | elapsed:   10.4s finished\n"
          ],
          "name": "stderr"
        },
        {
          "output_type": "stream",
          "text": [
            "[GraphicalLassoCV] Done refinement  4 out of 4:  27s\n"
          ],
          "name": "stdout"
        },
        {
          "output_type": "stream",
          "text": [
            "/usr/local/lib/python3.7/dist-packages/sklearn/covariance/_graph_lasso.py:263: ConvergenceWarning: graphical_lasso: did not converge after 100 iteration: dual gap: -2.110e-04\n",
            "  % (max_iter, d_gap), ConvergenceWarning)\n",
            "[Parallel(n_jobs=1)]: Using backend SequentialBackend with 1 concurrent workers.\n",
            "[Parallel(n_jobs=1)]: Done   3 out of   3 | elapsed:    3.4s finished\n",
            "[Parallel(n_jobs=1)]: Using backend SequentialBackend with 1 concurrent workers.\n"
          ],
          "name": "stderr"
        },
        {
          "output_type": "stream",
          "text": [
            "[GraphicalLassoCV] Done refinement  1 out of 4:   3s\n"
          ],
          "name": "stdout"
        },
        {
          "output_type": "stream",
          "text": [
            "[Parallel(n_jobs=1)]: Done   3 out of   3 | elapsed:    4.0s finished\n",
            "[Parallel(n_jobs=1)]: Using backend SequentialBackend with 1 concurrent workers.\n"
          ],
          "name": "stderr"
        },
        {
          "output_type": "stream",
          "text": [
            "[GraphicalLassoCV] Done refinement  2 out of 4:   7s\n"
          ],
          "name": "stdout"
        },
        {
          "output_type": "stream",
          "text": [
            "[Parallel(n_jobs=1)]: Done   3 out of   3 | elapsed:    8.5s finished\n",
            "[Parallel(n_jobs=1)]: Using backend SequentialBackend with 1 concurrent workers.\n"
          ],
          "name": "stderr"
        },
        {
          "output_type": "stream",
          "text": [
            "[GraphicalLassoCV] Done refinement  3 out of 4:  15s\n"
          ],
          "name": "stdout"
        },
        {
          "output_type": "stream",
          "text": [
            "[Parallel(n_jobs=1)]: Done   3 out of   3 | elapsed:   10.5s finished\n"
          ],
          "name": "stderr"
        },
        {
          "output_type": "stream",
          "text": [
            "[GraphicalLassoCV] Done refinement  4 out of 4:  26s\n"
          ],
          "name": "stdout"
        },
        {
          "output_type": "stream",
          "text": [
            "[Parallel(n_jobs=1)]: Using backend SequentialBackend with 1 concurrent workers.\n",
            "[Parallel(n_jobs=1)]: Done   3 out of   3 | elapsed:    3.8s finished\n",
            "[Parallel(n_jobs=1)]: Using backend SequentialBackend with 1 concurrent workers.\n"
          ],
          "name": "stderr"
        },
        {
          "output_type": "stream",
          "text": [
            "[GraphicalLassoCV] Done refinement  1 out of 4:   3s\n"
          ],
          "name": "stdout"
        },
        {
          "output_type": "stream",
          "text": [
            "/usr/local/lib/python3.7/dist-packages/sklearn/covariance/_graph_lasso.py:238: RuntimeWarning: invalid value encountered in multiply\n",
            "  * coefs)\n",
            "/usr/local/lib/python3.7/dist-packages/sklearn/covariance/_graph_lasso.py:240: RuntimeWarning: invalid value encountered in multiply\n",
            "  * coefs)\n",
            "[Parallel(n_jobs=1)]: Done   3 out of   3 | elapsed:    3.9s finished\n",
            "[Parallel(n_jobs=1)]: Using backend SequentialBackend with 1 concurrent workers.\n"
          ],
          "name": "stderr"
        },
        {
          "output_type": "stream",
          "text": [
            "[GraphicalLassoCV] Done refinement  2 out of 4:   7s\n"
          ],
          "name": "stdout"
        },
        {
          "output_type": "stream",
          "text": [
            "[Parallel(n_jobs=1)]: Done   3 out of   3 | elapsed:    5.5s finished\n",
            "[Parallel(n_jobs=1)]: Using backend SequentialBackend with 1 concurrent workers.\n"
          ],
          "name": "stderr"
        },
        {
          "output_type": "stream",
          "text": [
            "[GraphicalLassoCV] Done refinement  3 out of 4:  13s\n"
          ],
          "name": "stdout"
        },
        {
          "output_type": "stream",
          "text": [
            "[Parallel(n_jobs=1)]: Done   3 out of   3 | elapsed:    7.9s finished\n"
          ],
          "name": "stderr"
        },
        {
          "output_type": "stream",
          "text": [
            "[GraphicalLassoCV] Done refinement  4 out of 4:  21s\n"
          ],
          "name": "stdout"
        },
        {
          "output_type": "stream",
          "text": [
            "[Parallel(n_jobs=1)]: Using backend SequentialBackend with 1 concurrent workers.\n",
            "/usr/local/lib/python3.7/dist-packages/numpy/core/_methods.py:47: RuntimeWarning: overflow encountered in reduce\n",
            "  return umr_sum(a, axis, dtype, out, keepdims, initial, where)\n",
            "[Parallel(n_jobs=1)]: Done   3 out of   3 | elapsed:    3.9s finished\n",
            "[Parallel(n_jobs=1)]: Using backend SequentialBackend with 1 concurrent workers.\n"
          ],
          "name": "stderr"
        },
        {
          "output_type": "stream",
          "text": [
            "[GraphicalLassoCV] Done refinement  1 out of 4:   3s\n"
          ],
          "name": "stdout"
        },
        {
          "output_type": "stream",
          "text": [
            "[Parallel(n_jobs=1)]: Done   3 out of   3 | elapsed:    3.9s finished\n",
            "[Parallel(n_jobs=1)]: Using backend SequentialBackend with 1 concurrent workers.\n"
          ],
          "name": "stderr"
        },
        {
          "output_type": "stream",
          "text": [
            "[GraphicalLassoCV] Done refinement  2 out of 4:   7s\n"
          ],
          "name": "stdout"
        },
        {
          "output_type": "stream",
          "text": [
            "[Parallel(n_jobs=1)]: Done   3 out of   3 | elapsed:    5.0s finished\n",
            "[Parallel(n_jobs=1)]: Using backend SequentialBackend with 1 concurrent workers.\n"
          ],
          "name": "stderr"
        },
        {
          "output_type": "stream",
          "text": [
            "[GraphicalLassoCV] Done refinement  3 out of 4:  12s\n"
          ],
          "name": "stdout"
        },
        {
          "output_type": "stream",
          "text": [
            "[Parallel(n_jobs=1)]: Done   3 out of   3 | elapsed:    6.7s finished\n"
          ],
          "name": "stderr"
        },
        {
          "output_type": "stream",
          "text": [
            "[GraphicalLassoCV] Done refinement  4 out of 4:  19s\n"
          ],
          "name": "stdout"
        },
        {
          "output_type": "stream",
          "text": [
            "[Parallel(n_jobs=1)]: Using backend SequentialBackend with 1 concurrent workers.\n",
            "[Parallel(n_jobs=1)]: Done   3 out of   3 | elapsed:    3.3s finished\n",
            "[Parallel(n_jobs=1)]: Using backend SequentialBackend with 1 concurrent workers.\n"
          ],
          "name": "stderr"
        },
        {
          "output_type": "stream",
          "text": [
            "[GraphicalLassoCV] Done refinement  1 out of 4:   3s\n"
          ],
          "name": "stdout"
        },
        {
          "output_type": "stream",
          "text": [
            "[Parallel(n_jobs=1)]: Done   3 out of   3 | elapsed:    4.2s finished\n",
            "[Parallel(n_jobs=1)]: Using backend SequentialBackend with 1 concurrent workers.\n"
          ],
          "name": "stderr"
        },
        {
          "output_type": "stream",
          "text": [
            "[GraphicalLassoCV] Done refinement  2 out of 4:   7s\n"
          ],
          "name": "stdout"
        },
        {
          "output_type": "stream",
          "text": [
            "[Parallel(n_jobs=1)]: Done   3 out of   3 | elapsed:    7.3s finished\n",
            "[Parallel(n_jobs=1)]: Using backend SequentialBackend with 1 concurrent workers.\n"
          ],
          "name": "stderr"
        },
        {
          "output_type": "stream",
          "text": [
            "[GraphicalLassoCV] Done refinement  3 out of 4:  14s\n"
          ],
          "name": "stdout"
        },
        {
          "output_type": "stream",
          "text": [
            "[Parallel(n_jobs=1)]: Done   3 out of   3 | elapsed:    8.6s finished\n"
          ],
          "name": "stderr"
        },
        {
          "output_type": "stream",
          "text": [
            "[GraphicalLassoCV] Done refinement  4 out of 4:  23s\n"
          ],
          "name": "stdout"
        },
        {
          "output_type": "stream",
          "text": [
            "[Parallel(n_jobs=1)]: Using backend SequentialBackend with 1 concurrent workers.\n",
            "[Parallel(n_jobs=1)]: Done   3 out of   3 | elapsed:    3.0s finished\n",
            "[Parallel(n_jobs=1)]: Using backend SequentialBackend with 1 concurrent workers.\n"
          ],
          "name": "stderr"
        },
        {
          "output_type": "stream",
          "text": [
            "[GraphicalLassoCV] Done refinement  1 out of 4:   3s\n"
          ],
          "name": "stdout"
        },
        {
          "output_type": "stream",
          "text": [
            "[Parallel(n_jobs=1)]: Done   3 out of   3 | elapsed:    7.0s finished\n",
            "[Parallel(n_jobs=1)]: Using backend SequentialBackend with 1 concurrent workers.\n"
          ],
          "name": "stderr"
        },
        {
          "output_type": "stream",
          "text": [
            "[GraphicalLassoCV] Done refinement  2 out of 4:  10s\n"
          ],
          "name": "stdout"
        },
        {
          "output_type": "stream",
          "text": [
            "[Parallel(n_jobs=1)]: Done   3 out of   3 | elapsed:    8.4s finished\n",
            "[Parallel(n_jobs=1)]: Using backend SequentialBackend with 1 concurrent workers.\n"
          ],
          "name": "stderr"
        },
        {
          "output_type": "stream",
          "text": [
            "[GraphicalLassoCV] Done refinement  3 out of 4:  18s\n"
          ],
          "name": "stdout"
        },
        {
          "output_type": "stream",
          "text": [
            "[Parallel(n_jobs=1)]: Done   3 out of   3 | elapsed:   11.0s finished\n"
          ],
          "name": "stderr"
        },
        {
          "output_type": "stream",
          "text": [
            "[GraphicalLassoCV] Done refinement  4 out of 4:  29s\n"
          ],
          "name": "stdout"
        },
        {
          "output_type": "stream",
          "text": [
            "[Parallel(n_jobs=1)]: Using backend SequentialBackend with 1 concurrent workers.\n",
            "[Parallel(n_jobs=1)]: Done   3 out of   3 | elapsed:    3.5s finished\n",
            "[Parallel(n_jobs=1)]: Using backend SequentialBackend with 1 concurrent workers.\n"
          ],
          "name": "stderr"
        },
        {
          "output_type": "stream",
          "text": [
            "[GraphicalLassoCV] Done refinement  1 out of 4:   3s\n"
          ],
          "name": "stdout"
        },
        {
          "output_type": "stream",
          "text": [
            "/usr/local/lib/python3.7/dist-packages/sklearn/covariance/_graph_lasso.py:238: RuntimeWarning: invalid value encountered in multiply\n",
            "  * coefs)\n",
            "/usr/local/lib/python3.7/dist-packages/sklearn/covariance/_graph_lasso.py:240: RuntimeWarning: invalid value encountered in multiply\n",
            "  * coefs)\n",
            "[Parallel(n_jobs=1)]: Done   3 out of   3 | elapsed:    4.2s finished\n",
            "[Parallel(n_jobs=1)]: Using backend SequentialBackend with 1 concurrent workers.\n"
          ],
          "name": "stderr"
        },
        {
          "output_type": "stream",
          "text": [
            "[GraphicalLassoCV] Done refinement  2 out of 4:   7s\n"
          ],
          "name": "stdout"
        },
        {
          "output_type": "stream",
          "text": [
            "[Parallel(n_jobs=1)]: Done   3 out of   3 | elapsed:    4.4s finished\n",
            "[Parallel(n_jobs=1)]: Using backend SequentialBackend with 1 concurrent workers.\n"
          ],
          "name": "stderr"
        },
        {
          "output_type": "stream",
          "text": [
            "[GraphicalLassoCV] Done refinement  3 out of 4:  12s\n"
          ],
          "name": "stdout"
        },
        {
          "output_type": "stream",
          "text": [
            "[Parallel(n_jobs=1)]: Done   3 out of   3 | elapsed:    6.3s finished\n"
          ],
          "name": "stderr"
        },
        {
          "output_type": "stream",
          "text": [
            "[GraphicalLassoCV] Done refinement  4 out of 4:  18s\n"
          ],
          "name": "stdout"
        }
      ]
    },
    {
      "cell_type": "code",
      "metadata": {
        "id": "H1GQZ2aPbqd5"
      },
      "source": [
        "#Making the last column LabelEncoded\n",
        "data[:,data.shape[1]-1] = data[:,data.shape[1]-1]-1"
      ],
      "execution_count": 21,
      "outputs": []
    },
    {
      "cell_type": "code",
      "metadata": {
        "colab": {
          "base_uri": "https://localhost:8080/"
        },
        "id": "tqCeKacq3t3P",
        "outputId": "946523e1-7d4e-4b8a-ca7a-fc39d7aaa823"
      },
      "source": [
        "data[:,data.shape[1]-1]"
      ],
      "execution_count": 62,
      "outputs": [
        {
          "output_type": "execute_result",
          "data": {
            "text/plain": [
              "array([0., 0., 0., 0., 0., 0., 0., 0., 0., 0., 1., 1., 1., 1., 1., 1., 1.,\n",
              "       1., 1., 2., 2., 2., 2., 2., 2., 2., 2., 2., 2., 3., 3., 3., 3., 3.,\n",
              "       3., 3., 3., 4., 4., 4., 4., 4., 4., 4., 4., 4., 4., 5., 5., 5., 5.,\n",
              "       5., 5., 5., 5., 5., 6., 6., 6., 6., 6., 6., 6., 6., 6., 7., 7., 7.,\n",
              "       7., 7., 7., 7., 7., 7., 8., 8., 8., 8., 8., 8., 8., 8., 8., 8.])"
            ]
          },
          "metadata": {
            "tags": []
          },
          "execution_count": 62
        }
      ]
    },
    {
      "cell_type": "code",
      "metadata": {
        "id": "lcdFqh1z9Ual"
      },
      "source": [
        "#Separating the features and labels\n",
        "X = data[:,:-1]\n",
        "y = data[:, data.shape[1]-1]"
      ],
      "execution_count": 63,
      "outputs": []
    },
    {
      "cell_type": "code",
      "metadata": {
        "colab": {
          "base_uri": "https://localhost:8080/"
        },
        "id": "fT5xL9Oo63X0",
        "outputId": "a717a1c0-ffb6-4ca0-aad5-19f442e9bcbf"
      },
      "source": [
        "X.shape"
      ],
      "execution_count": 64,
      "outputs": [
        {
          "output_type": "execute_result",
          "data": {
            "text/plain": [
              "(84, 34716)"
            ]
          },
          "metadata": {
            "tags": []
          },
          "execution_count": 64
        }
      ]
    },
    {
      "cell_type": "code",
      "metadata": {
        "id": "8Rg5e-of4DxI"
      },
      "source": [
        "#Generating the Train and Test Set\n",
        "from sklearn.model_selection import train_test_split\n",
        "X_train, X_test, y_train, y_test = train_test_split(X, y, test_size = 0.3, random_state=None)"
      ],
      "execution_count": 65,
      "outputs": []
    },
    {
      "cell_type": "code",
      "metadata": {
        "id": "tZzjFp7S_LzD"
      },
      "source": [
        "#Feature Scaling\n",
        "from sklearn.preprocessing import StandardScaler\n",
        "sc_X = StandardScaler()\n",
        "X_train = sc_X.fit_transform(X_train)\n",
        "X_test = sc_X.transform(X_test)"
      ],
      "execution_count": 66,
      "outputs": []
    },
    {
      "cell_type": "markdown",
      "metadata": {
        "id": "TkioehYOHDYm"
      },
      "source": [
        "# Machine Learning SVM Pipeline"
      ]
    },
    {
      "cell_type": "code",
      "metadata": {
        "id": "k7Hvvmly1DoT",
        "colab": {
          "base_uri": "https://localhost:8080/"
        },
        "outputId": "62d3c043-03e9-474d-d826-506f5155aab8"
      },
      "source": [
        "#ANOVA Feature Selection and Linear SVM Pipeline\n",
        "from sklearn.feature_selection import SelectKBest, f_classif\n",
        "from sklearn.pipeline import make_pipeline\n",
        "from sklearn.svm import LinearSVC\n",
        "\n",
        "#Selecting top 5% features\n",
        "anova_filter = SelectKBest(f_classif, k=1735)\n",
        "clf = LinearSVC()\n",
        "anova_svm = make_pipeline(anova_filter, clf)\n",
        "anova_svm.fit(X_train, y_train)"
      ],
      "execution_count": 67,
      "outputs": [
        {
          "output_type": "stream",
          "text": [
            "/usr/local/lib/python3.7/dist-packages/sklearn/feature_selection/_univariate_selection.py:114: UserWarning: Features [   74   265   269   336   343  1122  1211  1222 16954 16955 17001 17026\n",
            " 17041 17058 17880 18109 18229] are constant.\n",
            "  UserWarning)\n",
            "/usr/local/lib/python3.7/dist-packages/sklearn/feature_selection/_univariate_selection.py:115: RuntimeWarning: invalid value encountered in true_divide\n",
            "  f = msb / msw\n"
          ],
          "name": "stderr"
        },
        {
          "output_type": "execute_result",
          "data": {
            "text/plain": [
              "Pipeline(memory=None,\n",
              "         steps=[('selectkbest',\n",
              "                 SelectKBest(k=1735,\n",
              "                             score_func=<function f_classif at 0x7fee0bec2560>)),\n",
              "                ('linearsvc',\n",
              "                 LinearSVC(C=1.0, class_weight=None, dual=True,\n",
              "                           fit_intercept=True, intercept_scaling=1,\n",
              "                           loss='squared_hinge', max_iter=1000,\n",
              "                           multi_class='ovr', penalty='l2', random_state=None,\n",
              "                           tol=0.0001, verbose=0))],\n",
              "         verbose=False)"
            ]
          },
          "metadata": {
            "tags": []
          },
          "execution_count": 67
        }
      ]
    },
    {
      "cell_type": "code",
      "metadata": {
        "colab": {
          "base_uri": "https://localhost:8080/"
        },
        "id": "yBgNY_s9DAYA",
        "outputId": "3ff7e37f-c440-4177-b249-996934a73d8f"
      },
      "source": [
        "#Printing the Metrics\n",
        "from sklearn.metrics import classification_report\n",
        "\n",
        "y_pred = anova_svm.predict(X_test)\n",
        "print(classification_report(y_test, y_pred))"
      ],
      "execution_count": 68,
      "outputs": [
        {
          "output_type": "stream",
          "text": [
            "              precision    recall  f1-score   support\n",
            "\n",
            "         0.0       1.00      1.00      1.00         3\n",
            "         1.0       1.00      0.67      0.80         3\n",
            "         2.0       1.00      0.50      0.67         2\n",
            "         3.0       0.75      1.00      0.86         3\n",
            "         4.0       0.83      1.00      0.91         5\n",
            "         5.0       1.00      1.00      1.00         1\n",
            "         6.0       1.00      1.00      1.00         2\n",
            "         7.0       0.80      1.00      0.89         4\n",
            "         8.0       1.00      0.67      0.80         3\n",
            "\n",
            "    accuracy                           0.88        26\n",
            "   macro avg       0.93      0.87      0.88        26\n",
            "weighted avg       0.91      0.88      0.88        26\n",
            "\n"
          ],
          "name": "stdout"
        }
      ]
    }
  ]
}